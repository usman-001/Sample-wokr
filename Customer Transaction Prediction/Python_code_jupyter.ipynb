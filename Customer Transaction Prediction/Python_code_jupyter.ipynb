{
 "cells": [
  {
   "cell_type": "code",
   "execution_count": 2,
   "metadata": {},
   "outputs": [
    {
     "data": {
      "text/plain": [
       "'D:\\\\edvisor data science path\\\\Practice_Python'"
      ]
     },
     "execution_count": 2,
     "metadata": {},
     "output_type": "execute_result"
    }
   ],
   "source": [
    "import os \n",
    "os.chdir(\"D:/edvisor data science path/Practice_Python\")\n",
    "os.getcwd()"
   ]
  },
  {
   "cell_type": "code",
   "execution_count": 3,
   "metadata": {},
   "outputs": [
    {
     "name": "stderr",
     "output_type": "stream",
     "text": [
      "Using TensorFlow backend.\n"
     ]
    }
   ],
   "source": [
    "#import the usefull libraries \n",
    "import pandas as pd\n",
    "import matplotlib as mlt\n",
    "import numpy as np\n",
    "from fancyimpute import KNN\n",
    "import matplotlib.pyplot as plt\n",
    "import seaborn as sns\n",
    "from random import randrange,uniform\n",
    "from sklearn.tree import DecisionTreeRegressor\n",
    "from sklearn.ensemble import RandomForestClassifier \n",
    "import statsmodels.api as sm\n",
    "from sklearn.neighbors import KNeighborsClassifier\n",
    "from sklearn.naive_bayes import GaussianNB\n",
    "import scipy.stats \n",
    "from scipy.stats import chi2_contingency\n",
    "from sklearn.tree import DecisionTreeClassifier as DT\n",
    "from sklearn.metrics import accuracy_score\n",
    "from sklearn.model_selection import train_test_split\n",
    "from sklearn.metrics import confusion_matrix\n",
    "from sklearn import tree\n",
    "from sklearn.metrics import accuracy_score"
   ]
  },
  {
   "cell_type": "code",
   "execution_count": 4,
   "metadata": {},
   "outputs": [],
   "source": [
    "#for visualizations(to use ggplot) import some usefull libraries \n",
    "from pandas.api.types import CategoricalDtype\n",
    "from plotnine import *\n",
    "%matplotlib inline"
   ]
  },
  {
   "cell_type": "code",
   "execution_count": 5,
   "metadata": {},
   "outputs": [],
   "source": [
    "#load the training dataset \n",
    "training_data=pd.read_csv(\"train.csv\",sep=',')"
   ]
  },
  {
   "cell_type": "code",
   "execution_count": 6,
   "metadata": {},
   "outputs": [],
   "source": [
    "#load the test dataset \n",
    "test_data=pd.read_csv(\"test.csv\",sep=',')"
   ]
  },
  {
   "cell_type": "code",
   "execution_count": null,
   "metadata": {},
   "outputs": [],
   "source": [
    "#start data Preprocessign \n",
    "#as given in the problem statement given dataset have one binary target column,one string column and rest of all are numeric data with some missing values  \n",
    "#proceeding with the assumptions above now start the data analysis "
   ]
  },
  {
   "cell_type": "code",
   "execution_count": 5,
   "metadata": {},
   "outputs": [],
   "source": [
    "#missing value analysis \n",
    "#Creat dataframe with missing percentage \n",
    "missing_val=pd.DataFrame(training_data.isnull().sum())\n",
    "\n",
    "#reset index\n",
    "missing_val=missing_val.reset_index()\n",
    "\n",
    "#Rename variable\n",
    "missing_val=missing_val.rename(columns={'index':'variables',0:'missing_percentage'})\n"
   ]
  },
  {
   "cell_type": "code",
   "execution_count": 6,
   "metadata": {},
   "outputs": [],
   "source": [
    "#calculate percentage\n",
    "missing_val['missing_percentage']=(missing_val['missing_percentage']/len(training_data))*100"
   ]
  },
  {
   "cell_type": "code",
   "execution_count": 7,
   "metadata": {},
   "outputs": [],
   "source": [
    "#sort in decending order \n",
    "missing_val=missing_val.sort_values('missing_percentage',ascending=False).reset_index(drop=True)"
   ]
  },
  {
   "cell_type": "code",
   "execution_count": 9,
   "metadata": {},
   "outputs": [],
   "source": [
    "#missing value analysis for test data\n",
    "\n",
    "#Creat dataframe with missing percentage \n",
    "missing_val_1=pd.DataFrame(test_data.isnull().sum())\n",
    "\n",
    "#reset index\n",
    "missing_val_1=missing_val_1.reset_index()\n",
    "\n",
    "#Rename variable\n",
    "missing_val_1=missing_val_1.rename(columns={'index':'variables',0:'missing_percentage'})"
   ]
  },
  {
   "cell_type": "code",
   "execution_count": 10,
   "metadata": {},
   "outputs": [],
   "source": [
    "#calculate percentage\n",
    "missing_val_1['missing_percentage']=(missing_val_1['missing_percentage']/len(test_data))*100"
   ]
  },
  {
   "cell_type": "code",
   "execution_count": 13,
   "metadata": {},
   "outputs": [],
   "source": [
    "#sort in decending order \n",
    "missing_val_1=missing_val_1.sort_values('missing_percentage',ascending=False).reset_index(drop=True)"
   ]
  },
  {
   "cell_type": "code",
   "execution_count": 11,
   "metadata": {},
   "outputs": [
    {
     "data": {
      "text/html": [
       "<div>\n",
       "<style scoped>\n",
       "    .dataframe tbody tr th:only-of-type {\n",
       "        vertical-align: middle;\n",
       "    }\n",
       "\n",
       "    .dataframe tbody tr th {\n",
       "        vertical-align: top;\n",
       "    }\n",
       "\n",
       "    .dataframe thead th {\n",
       "        text-align: right;\n",
       "    }\n",
       "</style>\n",
       "<table border=\"1\" class=\"dataframe\">\n",
       "  <thead>\n",
       "    <tr style=\"text-align: right;\">\n",
       "      <th></th>\n",
       "      <th>variables</th>\n",
       "      <th>missing_percentage</th>\n",
       "    </tr>\n",
       "  </thead>\n",
       "  <tbody>\n",
       "    <tr>\n",
       "      <th>0</th>\n",
       "      <td>ID_code</td>\n",
       "      <td>0.0</td>\n",
       "    </tr>\n",
       "    <tr>\n",
       "      <th>1</th>\n",
       "      <td>var_136</td>\n",
       "      <td>0.0</td>\n",
       "    </tr>\n",
       "    <tr>\n",
       "      <th>2</th>\n",
       "      <td>var_126</td>\n",
       "      <td>0.0</td>\n",
       "    </tr>\n",
       "    <tr>\n",
       "      <th>3</th>\n",
       "      <td>var_127</td>\n",
       "      <td>0.0</td>\n",
       "    </tr>\n",
       "    <tr>\n",
       "      <th>4</th>\n",
       "      <td>var_128</td>\n",
       "      <td>0.0</td>\n",
       "    </tr>\n",
       "    <tr>\n",
       "      <th>5</th>\n",
       "      <td>var_129</td>\n",
       "      <td>0.0</td>\n",
       "    </tr>\n",
       "    <tr>\n",
       "      <th>6</th>\n",
       "      <td>var_130</td>\n",
       "      <td>0.0</td>\n",
       "    </tr>\n",
       "    <tr>\n",
       "      <th>7</th>\n",
       "      <td>var_131</td>\n",
       "      <td>0.0</td>\n",
       "    </tr>\n",
       "    <tr>\n",
       "      <th>8</th>\n",
       "      <td>var_132</td>\n",
       "      <td>0.0</td>\n",
       "    </tr>\n",
       "    <tr>\n",
       "      <th>9</th>\n",
       "      <td>var_133</td>\n",
       "      <td>0.0</td>\n",
       "    </tr>\n",
       "    <tr>\n",
       "      <th>10</th>\n",
       "      <td>var_134</td>\n",
       "      <td>0.0</td>\n",
       "    </tr>\n",
       "    <tr>\n",
       "      <th>11</th>\n",
       "      <td>var_135</td>\n",
       "      <td>0.0</td>\n",
       "    </tr>\n",
       "    <tr>\n",
       "      <th>12</th>\n",
       "      <td>var_137</td>\n",
       "      <td>0.0</td>\n",
       "    </tr>\n",
       "    <tr>\n",
       "      <th>13</th>\n",
       "      <td>var_149</td>\n",
       "      <td>0.0</td>\n",
       "    </tr>\n",
       "    <tr>\n",
       "      <th>14</th>\n",
       "      <td>var_138</td>\n",
       "      <td>0.0</td>\n",
       "    </tr>\n",
       "    <tr>\n",
       "      <th>15</th>\n",
       "      <td>var_139</td>\n",
       "      <td>0.0</td>\n",
       "    </tr>\n",
       "    <tr>\n",
       "      <th>16</th>\n",
       "      <td>var_140</td>\n",
       "      <td>0.0</td>\n",
       "    </tr>\n",
       "    <tr>\n",
       "      <th>17</th>\n",
       "      <td>var_141</td>\n",
       "      <td>0.0</td>\n",
       "    </tr>\n",
       "    <tr>\n",
       "      <th>18</th>\n",
       "      <td>var_142</td>\n",
       "      <td>0.0</td>\n",
       "    </tr>\n",
       "    <tr>\n",
       "      <th>19</th>\n",
       "      <td>var_143</td>\n",
       "      <td>0.0</td>\n",
       "    </tr>\n",
       "    <tr>\n",
       "      <th>20</th>\n",
       "      <td>var_144</td>\n",
       "      <td>0.0</td>\n",
       "    </tr>\n",
       "    <tr>\n",
       "      <th>21</th>\n",
       "      <td>var_145</td>\n",
       "      <td>0.0</td>\n",
       "    </tr>\n",
       "    <tr>\n",
       "      <th>22</th>\n",
       "      <td>var_146</td>\n",
       "      <td>0.0</td>\n",
       "    </tr>\n",
       "    <tr>\n",
       "      <th>23</th>\n",
       "      <td>var_147</td>\n",
       "      <td>0.0</td>\n",
       "    </tr>\n",
       "    <tr>\n",
       "      <th>24</th>\n",
       "      <td>var_125</td>\n",
       "      <td>0.0</td>\n",
       "    </tr>\n",
       "    <tr>\n",
       "      <th>25</th>\n",
       "      <td>var_124</td>\n",
       "      <td>0.0</td>\n",
       "    </tr>\n",
       "    <tr>\n",
       "      <th>26</th>\n",
       "      <td>var_123</td>\n",
       "      <td>0.0</td>\n",
       "    </tr>\n",
       "    <tr>\n",
       "      <th>27</th>\n",
       "      <td>var_122</td>\n",
       "      <td>0.0</td>\n",
       "    </tr>\n",
       "    <tr>\n",
       "      <th>28</th>\n",
       "      <td>var_101</td>\n",
       "      <td>0.0</td>\n",
       "    </tr>\n",
       "    <tr>\n",
       "      <th>29</th>\n",
       "      <td>var_102</td>\n",
       "      <td>0.0</td>\n",
       "    </tr>\n",
       "    <tr>\n",
       "      <th>...</th>\n",
       "      <td>...</td>\n",
       "      <td>...</td>\n",
       "    </tr>\n",
       "    <tr>\n",
       "      <th>172</th>\n",
       "      <td>var_93</td>\n",
       "      <td>0.0</td>\n",
       "    </tr>\n",
       "    <tr>\n",
       "      <th>173</th>\n",
       "      <td>var_94</td>\n",
       "      <td>0.0</td>\n",
       "    </tr>\n",
       "    <tr>\n",
       "      <th>174</th>\n",
       "      <td>var_95</td>\n",
       "      <td>0.0</td>\n",
       "    </tr>\n",
       "    <tr>\n",
       "      <th>175</th>\n",
       "      <td>var_96</td>\n",
       "      <td>0.0</td>\n",
       "    </tr>\n",
       "    <tr>\n",
       "      <th>176</th>\n",
       "      <td>var_75</td>\n",
       "      <td>0.0</td>\n",
       "    </tr>\n",
       "    <tr>\n",
       "      <th>177</th>\n",
       "      <td>var_73</td>\n",
       "      <td>0.0</td>\n",
       "    </tr>\n",
       "    <tr>\n",
       "      <th>178</th>\n",
       "      <td>var_50</td>\n",
       "      <td>0.0</td>\n",
       "    </tr>\n",
       "    <tr>\n",
       "      <th>179</th>\n",
       "      <td>var_72</td>\n",
       "      <td>0.0</td>\n",
       "    </tr>\n",
       "    <tr>\n",
       "      <th>180</th>\n",
       "      <td>var_51</td>\n",
       "      <td>0.0</td>\n",
       "    </tr>\n",
       "    <tr>\n",
       "      <th>181</th>\n",
       "      <td>var_52</td>\n",
       "      <td>0.0</td>\n",
       "    </tr>\n",
       "    <tr>\n",
       "      <th>182</th>\n",
       "      <td>var_53</td>\n",
       "      <td>0.0</td>\n",
       "    </tr>\n",
       "    <tr>\n",
       "      <th>183</th>\n",
       "      <td>var_54</td>\n",
       "      <td>0.0</td>\n",
       "    </tr>\n",
       "    <tr>\n",
       "      <th>184</th>\n",
       "      <td>var_55</td>\n",
       "      <td>0.0</td>\n",
       "    </tr>\n",
       "    <tr>\n",
       "      <th>185</th>\n",
       "      <td>var_56</td>\n",
       "      <td>0.0</td>\n",
       "    </tr>\n",
       "    <tr>\n",
       "      <th>186</th>\n",
       "      <td>var_57</td>\n",
       "      <td>0.0</td>\n",
       "    </tr>\n",
       "    <tr>\n",
       "      <th>187</th>\n",
       "      <td>var_58</td>\n",
       "      <td>0.0</td>\n",
       "    </tr>\n",
       "    <tr>\n",
       "      <th>188</th>\n",
       "      <td>var_59</td>\n",
       "      <td>0.0</td>\n",
       "    </tr>\n",
       "    <tr>\n",
       "      <th>189</th>\n",
       "      <td>var_60</td>\n",
       "      <td>0.0</td>\n",
       "    </tr>\n",
       "    <tr>\n",
       "      <th>190</th>\n",
       "      <td>var_61</td>\n",
       "      <td>0.0</td>\n",
       "    </tr>\n",
       "    <tr>\n",
       "      <th>191</th>\n",
       "      <td>var_62</td>\n",
       "      <td>0.0</td>\n",
       "    </tr>\n",
       "    <tr>\n",
       "      <th>192</th>\n",
       "      <td>var_63</td>\n",
       "      <td>0.0</td>\n",
       "    </tr>\n",
       "    <tr>\n",
       "      <th>193</th>\n",
       "      <td>var_64</td>\n",
       "      <td>0.0</td>\n",
       "    </tr>\n",
       "    <tr>\n",
       "      <th>194</th>\n",
       "      <td>var_65</td>\n",
       "      <td>0.0</td>\n",
       "    </tr>\n",
       "    <tr>\n",
       "      <th>195</th>\n",
       "      <td>var_66</td>\n",
       "      <td>0.0</td>\n",
       "    </tr>\n",
       "    <tr>\n",
       "      <th>196</th>\n",
       "      <td>var_67</td>\n",
       "      <td>0.0</td>\n",
       "    </tr>\n",
       "    <tr>\n",
       "      <th>197</th>\n",
       "      <td>var_68</td>\n",
       "      <td>0.0</td>\n",
       "    </tr>\n",
       "    <tr>\n",
       "      <th>198</th>\n",
       "      <td>var_69</td>\n",
       "      <td>0.0</td>\n",
       "    </tr>\n",
       "    <tr>\n",
       "      <th>199</th>\n",
       "      <td>var_70</td>\n",
       "      <td>0.0</td>\n",
       "    </tr>\n",
       "    <tr>\n",
       "      <th>200</th>\n",
       "      <td>var_71</td>\n",
       "      <td>0.0</td>\n",
       "    </tr>\n",
       "    <tr>\n",
       "      <th>201</th>\n",
       "      <td>var_199</td>\n",
       "      <td>0.0</td>\n",
       "    </tr>\n",
       "  </tbody>\n",
       "</table>\n",
       "<p>202 rows × 2 columns</p>\n",
       "</div>"
      ],
      "text/plain": [
       "    variables  missing_percentage\n",
       "0     ID_code                 0.0\n",
       "1     var_136                 0.0\n",
       "2     var_126                 0.0\n",
       "3     var_127                 0.0\n",
       "4     var_128                 0.0\n",
       "5     var_129                 0.0\n",
       "6     var_130                 0.0\n",
       "7     var_131                 0.0\n",
       "8     var_132                 0.0\n",
       "9     var_133                 0.0\n",
       "10    var_134                 0.0\n",
       "11    var_135                 0.0\n",
       "12    var_137                 0.0\n",
       "13    var_149                 0.0\n",
       "14    var_138                 0.0\n",
       "15    var_139                 0.0\n",
       "16    var_140                 0.0\n",
       "17    var_141                 0.0\n",
       "18    var_142                 0.0\n",
       "19    var_143                 0.0\n",
       "20    var_144                 0.0\n",
       "21    var_145                 0.0\n",
       "22    var_146                 0.0\n",
       "23    var_147                 0.0\n",
       "24    var_125                 0.0\n",
       "25    var_124                 0.0\n",
       "26    var_123                 0.0\n",
       "27    var_122                 0.0\n",
       "28    var_101                 0.0\n",
       "29    var_102                 0.0\n",
       "..        ...                 ...\n",
       "172    var_93                 0.0\n",
       "173    var_94                 0.0\n",
       "174    var_95                 0.0\n",
       "175    var_96                 0.0\n",
       "176    var_75                 0.0\n",
       "177    var_73                 0.0\n",
       "178    var_50                 0.0\n",
       "179    var_72                 0.0\n",
       "180    var_51                 0.0\n",
       "181    var_52                 0.0\n",
       "182    var_53                 0.0\n",
       "183    var_54                 0.0\n",
       "184    var_55                 0.0\n",
       "185    var_56                 0.0\n",
       "186    var_57                 0.0\n",
       "187    var_58                 0.0\n",
       "188    var_59                 0.0\n",
       "189    var_60                 0.0\n",
       "190    var_61                 0.0\n",
       "191    var_62                 0.0\n",
       "192    var_63                 0.0\n",
       "193    var_64                 0.0\n",
       "194    var_65                 0.0\n",
       "195    var_66                 0.0\n",
       "196    var_67                 0.0\n",
       "197    var_68                 0.0\n",
       "198    var_69                 0.0\n",
       "199    var_70                 0.0\n",
       "200    var_71                 0.0\n",
       "201   var_199                 0.0\n",
       "\n",
       "[202 rows x 2 columns]"
      ]
     },
     "execution_count": 11,
     "metadata": {},
     "output_type": "execute_result"
    }
   ],
   "source": [
    "#lets check the training_data datasets what percentage of missing values they have\n",
    "missing_val"
   ]
  },
  {
   "cell_type": "code",
   "execution_count": null,
   "metadata": {},
   "outputs": [],
   "source": [
    "#the output above shows that training_data does not have any missing value "
   ]
  },
  {
   "cell_type": "code",
   "execution_count": null,
   "metadata": {},
   "outputs": [],
   "source": [
    "#lets check for test dataset "
   ]
  },
  {
   "cell_type": "code",
   "execution_count": 14,
   "metadata": {},
   "outputs": [
    {
     "data": {
      "text/html": [
       "<div>\n",
       "<style scoped>\n",
       "    .dataframe tbody tr th:only-of-type {\n",
       "        vertical-align: middle;\n",
       "    }\n",
       "\n",
       "    .dataframe tbody tr th {\n",
       "        vertical-align: top;\n",
       "    }\n",
       "\n",
       "    .dataframe thead th {\n",
       "        text-align: right;\n",
       "    }\n",
       "</style>\n",
       "<table border=\"1\" class=\"dataframe\">\n",
       "  <thead>\n",
       "    <tr style=\"text-align: right;\">\n",
       "      <th></th>\n",
       "      <th>variables</th>\n",
       "      <th>missing_percentage</th>\n",
       "    </tr>\n",
       "  </thead>\n",
       "  <tbody>\n",
       "    <tr>\n",
       "      <th>0</th>\n",
       "      <td>ID_code</td>\n",
       "      <td>0.0</td>\n",
       "    </tr>\n",
       "    <tr>\n",
       "      <th>1</th>\n",
       "      <td>var_137</td>\n",
       "      <td>0.0</td>\n",
       "    </tr>\n",
       "    <tr>\n",
       "      <th>2</th>\n",
       "      <td>var_127</td>\n",
       "      <td>0.0</td>\n",
       "    </tr>\n",
       "    <tr>\n",
       "      <th>3</th>\n",
       "      <td>var_128</td>\n",
       "      <td>0.0</td>\n",
       "    </tr>\n",
       "    <tr>\n",
       "      <th>4</th>\n",
       "      <td>var_129</td>\n",
       "      <td>0.0</td>\n",
       "    </tr>\n",
       "    <tr>\n",
       "      <th>5</th>\n",
       "      <td>var_130</td>\n",
       "      <td>0.0</td>\n",
       "    </tr>\n",
       "    <tr>\n",
       "      <th>6</th>\n",
       "      <td>var_131</td>\n",
       "      <td>0.0</td>\n",
       "    </tr>\n",
       "    <tr>\n",
       "      <th>7</th>\n",
       "      <td>var_132</td>\n",
       "      <td>0.0</td>\n",
       "    </tr>\n",
       "    <tr>\n",
       "      <th>8</th>\n",
       "      <td>var_133</td>\n",
       "      <td>0.0</td>\n",
       "    </tr>\n",
       "    <tr>\n",
       "      <th>9</th>\n",
       "      <td>var_134</td>\n",
       "      <td>0.0</td>\n",
       "    </tr>\n",
       "    <tr>\n",
       "      <th>10</th>\n",
       "      <td>var_135</td>\n",
       "      <td>0.0</td>\n",
       "    </tr>\n",
       "    <tr>\n",
       "      <th>11</th>\n",
       "      <td>var_136</td>\n",
       "      <td>0.0</td>\n",
       "    </tr>\n",
       "    <tr>\n",
       "      <th>12</th>\n",
       "      <td>var_138</td>\n",
       "      <td>0.0</td>\n",
       "    </tr>\n",
       "    <tr>\n",
       "      <th>13</th>\n",
       "      <td>var_100</td>\n",
       "      <td>0.0</td>\n",
       "    </tr>\n",
       "    <tr>\n",
       "      <th>14</th>\n",
       "      <td>var_139</td>\n",
       "      <td>0.0</td>\n",
       "    </tr>\n",
       "    <tr>\n",
       "      <th>15</th>\n",
       "      <td>var_140</td>\n",
       "      <td>0.0</td>\n",
       "    </tr>\n",
       "    <tr>\n",
       "      <th>16</th>\n",
       "      <td>var_141</td>\n",
       "      <td>0.0</td>\n",
       "    </tr>\n",
       "    <tr>\n",
       "      <th>17</th>\n",
       "      <td>var_142</td>\n",
       "      <td>0.0</td>\n",
       "    </tr>\n",
       "    <tr>\n",
       "      <th>18</th>\n",
       "      <td>var_143</td>\n",
       "      <td>0.0</td>\n",
       "    </tr>\n",
       "    <tr>\n",
       "      <th>19</th>\n",
       "      <td>var_144</td>\n",
       "      <td>0.0</td>\n",
       "    </tr>\n",
       "    <tr>\n",
       "      <th>20</th>\n",
       "      <td>var_145</td>\n",
       "      <td>0.0</td>\n",
       "    </tr>\n",
       "    <tr>\n",
       "      <th>21</th>\n",
       "      <td>var_146</td>\n",
       "      <td>0.0</td>\n",
       "    </tr>\n",
       "    <tr>\n",
       "      <th>22</th>\n",
       "      <td>var_147</td>\n",
       "      <td>0.0</td>\n",
       "    </tr>\n",
       "    <tr>\n",
       "      <th>23</th>\n",
       "      <td>var_148</td>\n",
       "      <td>0.0</td>\n",
       "    </tr>\n",
       "    <tr>\n",
       "      <th>24</th>\n",
       "      <td>var_126</td>\n",
       "      <td>0.0</td>\n",
       "    </tr>\n",
       "    <tr>\n",
       "      <th>25</th>\n",
       "      <td>var_125</td>\n",
       "      <td>0.0</td>\n",
       "    </tr>\n",
       "    <tr>\n",
       "      <th>26</th>\n",
       "      <td>var_124</td>\n",
       "      <td>0.0</td>\n",
       "    </tr>\n",
       "    <tr>\n",
       "      <th>27</th>\n",
       "      <td>var_123</td>\n",
       "      <td>0.0</td>\n",
       "    </tr>\n",
       "    <tr>\n",
       "      <th>28</th>\n",
       "      <td>var_102</td>\n",
       "      <td>0.0</td>\n",
       "    </tr>\n",
       "    <tr>\n",
       "      <th>29</th>\n",
       "      <td>var_103</td>\n",
       "      <td>0.0</td>\n",
       "    </tr>\n",
       "    <tr>\n",
       "      <th>...</th>\n",
       "      <td>...</td>\n",
       "      <td>...</td>\n",
       "    </tr>\n",
       "    <tr>\n",
       "      <th>171</th>\n",
       "      <td>var_94</td>\n",
       "      <td>0.0</td>\n",
       "    </tr>\n",
       "    <tr>\n",
       "      <th>172</th>\n",
       "      <td>var_95</td>\n",
       "      <td>0.0</td>\n",
       "    </tr>\n",
       "    <tr>\n",
       "      <th>173</th>\n",
       "      <td>var_96</td>\n",
       "      <td>0.0</td>\n",
       "    </tr>\n",
       "    <tr>\n",
       "      <th>174</th>\n",
       "      <td>var_97</td>\n",
       "      <td>0.0</td>\n",
       "    </tr>\n",
       "    <tr>\n",
       "      <th>175</th>\n",
       "      <td>var_76</td>\n",
       "      <td>0.0</td>\n",
       "    </tr>\n",
       "    <tr>\n",
       "      <th>176</th>\n",
       "      <td>var_74</td>\n",
       "      <td>0.0</td>\n",
       "    </tr>\n",
       "    <tr>\n",
       "      <th>177</th>\n",
       "      <td>var_51</td>\n",
       "      <td>0.0</td>\n",
       "    </tr>\n",
       "    <tr>\n",
       "      <th>178</th>\n",
       "      <td>var_73</td>\n",
       "      <td>0.0</td>\n",
       "    </tr>\n",
       "    <tr>\n",
       "      <th>179</th>\n",
       "      <td>var_52</td>\n",
       "      <td>0.0</td>\n",
       "    </tr>\n",
       "    <tr>\n",
       "      <th>180</th>\n",
       "      <td>var_53</td>\n",
       "      <td>0.0</td>\n",
       "    </tr>\n",
       "    <tr>\n",
       "      <th>181</th>\n",
       "      <td>var_54</td>\n",
       "      <td>0.0</td>\n",
       "    </tr>\n",
       "    <tr>\n",
       "      <th>182</th>\n",
       "      <td>var_55</td>\n",
       "      <td>0.0</td>\n",
       "    </tr>\n",
       "    <tr>\n",
       "      <th>183</th>\n",
       "      <td>var_56</td>\n",
       "      <td>0.0</td>\n",
       "    </tr>\n",
       "    <tr>\n",
       "      <th>184</th>\n",
       "      <td>var_57</td>\n",
       "      <td>0.0</td>\n",
       "    </tr>\n",
       "    <tr>\n",
       "      <th>185</th>\n",
       "      <td>var_58</td>\n",
       "      <td>0.0</td>\n",
       "    </tr>\n",
       "    <tr>\n",
       "      <th>186</th>\n",
       "      <td>var_59</td>\n",
       "      <td>0.0</td>\n",
       "    </tr>\n",
       "    <tr>\n",
       "      <th>187</th>\n",
       "      <td>var_60</td>\n",
       "      <td>0.0</td>\n",
       "    </tr>\n",
       "    <tr>\n",
       "      <th>188</th>\n",
       "      <td>var_61</td>\n",
       "      <td>0.0</td>\n",
       "    </tr>\n",
       "    <tr>\n",
       "      <th>189</th>\n",
       "      <td>var_62</td>\n",
       "      <td>0.0</td>\n",
       "    </tr>\n",
       "    <tr>\n",
       "      <th>190</th>\n",
       "      <td>var_63</td>\n",
       "      <td>0.0</td>\n",
       "    </tr>\n",
       "    <tr>\n",
       "      <th>191</th>\n",
       "      <td>var_64</td>\n",
       "      <td>0.0</td>\n",
       "    </tr>\n",
       "    <tr>\n",
       "      <th>192</th>\n",
       "      <td>var_65</td>\n",
       "      <td>0.0</td>\n",
       "    </tr>\n",
       "    <tr>\n",
       "      <th>193</th>\n",
       "      <td>var_66</td>\n",
       "      <td>0.0</td>\n",
       "    </tr>\n",
       "    <tr>\n",
       "      <th>194</th>\n",
       "      <td>var_67</td>\n",
       "      <td>0.0</td>\n",
       "    </tr>\n",
       "    <tr>\n",
       "      <th>195</th>\n",
       "      <td>var_68</td>\n",
       "      <td>0.0</td>\n",
       "    </tr>\n",
       "    <tr>\n",
       "      <th>196</th>\n",
       "      <td>var_69</td>\n",
       "      <td>0.0</td>\n",
       "    </tr>\n",
       "    <tr>\n",
       "      <th>197</th>\n",
       "      <td>var_70</td>\n",
       "      <td>0.0</td>\n",
       "    </tr>\n",
       "    <tr>\n",
       "      <th>198</th>\n",
       "      <td>var_71</td>\n",
       "      <td>0.0</td>\n",
       "    </tr>\n",
       "    <tr>\n",
       "      <th>199</th>\n",
       "      <td>var_72</td>\n",
       "      <td>0.0</td>\n",
       "    </tr>\n",
       "    <tr>\n",
       "      <th>200</th>\n",
       "      <td>var_199</td>\n",
       "      <td>0.0</td>\n",
       "    </tr>\n",
       "  </tbody>\n",
       "</table>\n",
       "<p>201 rows × 2 columns</p>\n",
       "</div>"
      ],
      "text/plain": [
       "    variables  missing_percentage\n",
       "0     ID_code                 0.0\n",
       "1     var_137                 0.0\n",
       "2     var_127                 0.0\n",
       "3     var_128                 0.0\n",
       "4     var_129                 0.0\n",
       "5     var_130                 0.0\n",
       "6     var_131                 0.0\n",
       "7     var_132                 0.0\n",
       "8     var_133                 0.0\n",
       "9     var_134                 0.0\n",
       "10    var_135                 0.0\n",
       "11    var_136                 0.0\n",
       "12    var_138                 0.0\n",
       "13    var_100                 0.0\n",
       "14    var_139                 0.0\n",
       "15    var_140                 0.0\n",
       "16    var_141                 0.0\n",
       "17    var_142                 0.0\n",
       "18    var_143                 0.0\n",
       "19    var_144                 0.0\n",
       "20    var_145                 0.0\n",
       "21    var_146                 0.0\n",
       "22    var_147                 0.0\n",
       "23    var_148                 0.0\n",
       "24    var_126                 0.0\n",
       "25    var_125                 0.0\n",
       "26    var_124                 0.0\n",
       "27    var_123                 0.0\n",
       "28    var_102                 0.0\n",
       "29    var_103                 0.0\n",
       "..        ...                 ...\n",
       "171    var_94                 0.0\n",
       "172    var_95                 0.0\n",
       "173    var_96                 0.0\n",
       "174    var_97                 0.0\n",
       "175    var_76                 0.0\n",
       "176    var_74                 0.0\n",
       "177    var_51                 0.0\n",
       "178    var_73                 0.0\n",
       "179    var_52                 0.0\n",
       "180    var_53                 0.0\n",
       "181    var_54                 0.0\n",
       "182    var_55                 0.0\n",
       "183    var_56                 0.0\n",
       "184    var_57                 0.0\n",
       "185    var_58                 0.0\n",
       "186    var_59                 0.0\n",
       "187    var_60                 0.0\n",
       "188    var_61                 0.0\n",
       "189    var_62                 0.0\n",
       "190    var_63                 0.0\n",
       "191    var_64                 0.0\n",
       "192    var_65                 0.0\n",
       "193    var_66                 0.0\n",
       "194    var_67                 0.0\n",
       "195    var_68                 0.0\n",
       "196    var_69                 0.0\n",
       "197    var_70                 0.0\n",
       "198    var_71                 0.0\n",
       "199    var_72                 0.0\n",
       "200   var_199                 0.0\n",
       "\n",
       "[201 rows x 2 columns]"
      ]
     },
     "execution_count": 14,
     "metadata": {},
     "output_type": "execute_result"
    }
   ],
   "source": [
    "missing_val_1"
   ]
  },
  {
   "cell_type": "code",
   "execution_count": null,
   "metadata": {},
   "outputs": [],
   "source": [
    "#the test data also does not have any missing value "
   ]
  },
  {
   "cell_type": "code",
   "execution_count": null,
   "metadata": {},
   "outputs": [],
   "source": [
    "#so we are proceeding further "
   ]
  },
  {
   "cell_type": "code",
   "execution_count": 15,
   "metadata": {},
   "outputs": [],
   "source": [
    "#save output result\n",
    "missing_val.to_csv(\"Missing_percentage.csv\",index=False)"
   ]
  },
  {
   "cell_type": "code",
   "execution_count": 16,
   "metadata": {},
   "outputs": [],
   "source": [
    "missing_val_1.to_csv(\"Missing_percentage_1.csv\",index=False)"
   ]
  },
  {
   "cell_type": "code",
   "execution_count": 8,
   "metadata": {},
   "outputs": [
    {
     "data": {
      "text/plain": [
       "{'whiskers': [<matplotlib.lines.Line2D at 0x11456f28>,\n",
       "  <matplotlib.lines.Line2D at 0x11456ef0>],\n",
       " 'caps': [<matplotlib.lines.Line2D at 0x125d45f8>,\n",
       "  <matplotlib.lines.Line2D at 0x125d4940>],\n",
       " 'boxes': [<matplotlib.lines.Line2D at 0x11456b00>],\n",
       " 'medians': [<matplotlib.lines.Line2D at 0x125d4c88>],\n",
       " 'fliers': [<matplotlib.lines.Line2D at 0x125d4fd0>],\n",
       " 'means': []}"
      ]
     },
     "execution_count": 8,
     "metadata": {},
     "output_type": "execute_result"
    },
    {
     "data": {
      "image/png": "[encoded data removed]",
      "text/plain": [
       "<Figure size 432x288 with 1 Axes>"
      ]
     },
     "metadata": {
      "needs_background": "light"
     },
     "output_type": "display_data"
    }
   ],
   "source": [
    "##outlayer Analysis\n",
    "#plot boxplotto vsualize outliears \n",
    "#cheching one by one for every variable \n",
    "%matplotlib inline\n",
    "plt.boxplot(training_data['var_0'])"
   ]
  },
  {
   "cell_type": "code",
   "execution_count": 20,
   "metadata": {},
   "outputs": [
    {
     "data": {
      "text/plain": [
       "{'whiskers': [<matplotlib.lines.Line2D at 0x12edb2e8>,\n",
       "  <matplotlib.lines.Line2D at 0x12edb6a0>],\n",
       " 'caps': [<matplotlib.lines.Line2D at 0x12edb9e8>,\n",
       "  <matplotlib.lines.Line2D at 0x12edbd30>],\n",
       " 'boxes': [<matplotlib.lines.Line2D at 0x12ecfeb8>],\n",
       " 'medians': [<matplotlib.lines.Line2D at 0x12ecfb70>],\n",
       " 'fliers': [<matplotlib.lines.Line2D at 0x12ee73c8>],\n",
       " 'means': []}"
      ]
     },
     "execution_count": 20,
     "metadata": {},
     "output_type": "execute_result"
    },
    {
     "data": {
      "image/png": "[encoded data removed]",
      "text/plain": [
       "<Figure size 432x288 with 1 Axes>"
      ]
     },
     "metadata": {
      "needs_background": "light"
     },
     "output_type": "display_data"
    }
   ],
   "source": [
    "%matplotlib inline\n",
    "plt.boxplot(training_data['var_1'])"
   ]
  },
  {
   "cell_type": "code",
   "execution_count": 75,
   "metadata": {},
   "outputs": [
    {
     "data": {
      "text/plain": [
       "{'whiskers': [<matplotlib.lines.Line2D at 0x29bea8d0>,\n",
       "  <matplotlib.lines.Line2D at 0x29beac88>],\n",
       " 'caps': [<matplotlib.lines.Line2D at 0x29beafd0>,\n",
       "  <matplotlib.lines.Line2D at 0x29beaf60>],\n",
       " 'boxes': [<matplotlib.lines.Line2D at 0x29bea4a8>],\n",
       " 'medians': [<matplotlib.lines.Line2D at 0x29bf26a0>],\n",
       " 'fliers': [<matplotlib.lines.Line2D at 0x29bf29e8>],\n",
       " 'means': []}"
      ]
     },
     "execution_count": 75,
     "metadata": {},
     "output_type": "execute_result"
    },
    {
     "data": {
      "image/png": "[encoded data removed]",
      "text/plain": [
       "<Figure size 432x288 with 1 Axes>"
      ]
     },
     "metadata": {
      "needs_background": "light"
     },
     "output_type": "display_data"
    }
   ],
   "source": [
    "%matplotlib inline\n",
    "plt.boxplot(training_data['var_2'])"
   ]
  },
  {
   "cell_type": "code",
   "execution_count": 76,
   "metadata": {},
   "outputs": [
    {
     "data": {
      "text/plain": [
       "{'whiskers': [<matplotlib.lines.Line2D at 0x29c46eb8>,\n",
       "  <matplotlib.lines.Line2D at 0x29c46f28>],\n",
       " 'caps': [<matplotlib.lines.Line2D at 0x29c535f8>,\n",
       "  <matplotlib.lines.Line2D at 0x29c53940>],\n",
       " 'boxes': [<matplotlib.lines.Line2D at 0x29c46a90>],\n",
       " 'medians': [<matplotlib.lines.Line2D at 0x29c53c88>],\n",
       " 'fliers': [<matplotlib.lines.Line2D at 0x29c53fd0>],\n",
       " 'means': []}"
      ]
     },
     "execution_count": 76,
     "metadata": {},
     "output_type": "execute_result"
    },
    {
     "data": {
      "image/png": "[encoded data removed]",
      "text/plain": [
       "<Figure size 432x288 with 1 Axes>"
      ]
     },
     "metadata": {
      "needs_background": "light"
     },
     "output_type": "display_data"
    }
   ],
   "source": [
    "%matplotlib inline\n",
    "plt.boxplot(training_data['var_3'])"
   ]
  },
  {
   "cell_type": "code",
   "execution_count": 77,
   "metadata": {},
   "outputs": [
    {
     "data": {
      "text/plain": [
       "{'whiskers': [<matplotlib.lines.Line2D at 0x29caed68>,\n",
       "  <matplotlib.lines.Line2D at 0x29caeeb8>],\n",
       " 'caps': [<matplotlib.lines.Line2D at 0x29cb94a8>,\n",
       "  <matplotlib.lines.Line2D at 0x29cb97f0>],\n",
       " 'boxes': [<matplotlib.lines.Line2D at 0x29cae940>],\n",
       " 'medians': [<matplotlib.lines.Line2D at 0x29cb9b38>],\n",
       " 'fliers': [<matplotlib.lines.Line2D at 0x29cb9e80>],\n",
       " 'means': []}"
      ]
     },
     "execution_count": 77,
     "metadata": {},
     "output_type": "execute_result"
    },
    {
     "data": {
      "image/png": "[encoded data removed]",
      "text/plain": [
       "<Figure size 432x288 with 1 Axes>"
      ]
     },
     "metadata": {
      "needs_background": "light"
     },
     "output_type": "display_data"
    }
   ],
   "source": [
    "%matplotlib inline\n",
    "plt.boxplot(training_data['var_4'])"
   ]
  },
  {
   "cell_type": "code",
   "execution_count": 78,
   "metadata": {},
   "outputs": [
    {
     "data": {
      "text/plain": [
       "{'whiskers': [<matplotlib.lines.Line2D at 0x29d167f0>,\n",
       "  <matplotlib.lines.Line2D at 0x29d16ba8>],\n",
       " 'caps': [<matplotlib.lines.Line2D at 0x29d16ef0>,\n",
       "  <matplotlib.lines.Line2D at 0x29d16fd0>],\n",
       " 'boxes': [<matplotlib.lines.Line2D at 0x29d163c8>],\n",
       " 'medians': [<matplotlib.lines.Line2D at 0x29d225c0>],\n",
       " 'fliers': [<matplotlib.lines.Line2D at 0x29d22908>],\n",
       " 'means': []}"
      ]
     },
     "execution_count": 78,
     "metadata": {},
     "output_type": "execute_result"
    },
    {
     "data": {
      "image/png": "[encoded data removed]",
      "text/plain": [
       "<Figure size 432x288 with 1 Axes>"
      ]
     },
     "metadata": {
      "needs_background": "light"
     },
     "output_type": "display_data"
    }
   ],
   "source": [
    "%matplotlib inline\n",
    "plt.boxplot(training_data['var_5'])"
   ]
  },
  {
   "cell_type": "code",
   "execution_count": 79,
   "metadata": {},
   "outputs": [
    {
     "data": {
      "text/plain": [
       "{'whiskers': [<matplotlib.lines.Line2D at 0x29d72c88>,\n",
       "  <matplotlib.lines.Line2D at 0x29d72dd8>],\n",
       " 'caps': [<matplotlib.lines.Line2D at 0x29d7f3c8>,\n",
       "  <matplotlib.lines.Line2D at 0x29d7f710>],\n",
       " 'boxes': [<matplotlib.lines.Line2D at 0x29d72898>],\n",
       " 'medians': [<matplotlib.lines.Line2D at 0x29d7fa58>],\n",
       " 'fliers': [<matplotlib.lines.Line2D at 0x29d7fda0>],\n",
       " 'means': []}"
      ]
     },
     "execution_count": 79,
     "metadata": {},
     "output_type": "execute_result"
    },
    {
     "data": {
      "image/png": "[encoded data removed]",
      "text/plain": [
       "<Figure size 432x288 with 1 Axes>"
      ]
     },
     "metadata": {
      "needs_background": "light"
     },
     "output_type": "display_data"
    }
   ],
   "source": [
    "%matplotlib inline\n",
    "plt.boxplot(training_data['var_6'])"
   ]
  },
  {
   "cell_type": "code",
   "execution_count": 80,
   "metadata": {},
   "outputs": [
    {
     "data": {
      "text/plain": [
       "{'whiskers': [<matplotlib.lines.Line2D at 0x29ddc5c0>,\n",
       "  <matplotlib.lines.Line2D at 0x29ddc978>],\n",
       " 'caps': [<matplotlib.lines.Line2D at 0x29ddccc0>,\n",
       "  <matplotlib.lines.Line2D at 0x29ddcda0>],\n",
       " 'boxes': [<matplotlib.lines.Line2D at 0x29ddc198>],\n",
       " 'medians': [<matplotlib.lines.Line2D at 0x29de7390>],\n",
       " 'fliers': [<matplotlib.lines.Line2D at 0x29de76d8>],\n",
       " 'means': []}"
      ]
     },
     "execution_count": 80,
     "metadata": {},
     "output_type": "execute_result"
    },
    {
     "data": {
      "image/png": "[encoded data removed]",
      "text/plain": [
       "<Figure size 432x288 with 1 Axes>"
      ]
     },
     "metadata": {
      "needs_background": "light"
     },
     "output_type": "display_data"
    }
   ],
   "source": [
    "%matplotlib inline\n",
    "plt.boxplot(training_data['var_89'])"
   ]
  },
  {
   "cell_type": "code",
   "execution_count": 81,
   "metadata": {},
   "outputs": [
    {
     "data": {
      "text/plain": [
       "{'whiskers': [<matplotlib.lines.Line2D at 0x29e35f60>,\n",
       "  <matplotlib.lines.Line2D at 0x29e35fd0>],\n",
       " 'caps': [<matplotlib.lines.Line2D at 0x29e3f6a0>,\n",
       "  <matplotlib.lines.Line2D at 0x29e3f9e8>],\n",
       " 'boxes': [<matplotlib.lines.Line2D at 0x29e35b38>],\n",
       " 'medians': [<matplotlib.lines.Line2D at 0x29e3fd30>],\n",
       " 'fliers': [<matplotlib.lines.Line2D at 0x29e3fe10>],\n",
       " 'means': []}"
      ]
     },
     "execution_count": 81,
     "metadata": {},
     "output_type": "execute_result"
    },
    {
     "data": {
      "image/png": "[encoded data removed]",
      "text/plain": [
       "<Figure size 432x288 with 1 Axes>"
      ]
     },
     "metadata": {
      "needs_background": "light"
     },
     "output_type": "display_data"
    }
   ],
   "source": [
    "%matplotlib inline\n",
    "plt.boxplot(training_data['var_172'])"
   ]
  },
  {
   "cell_type": "code",
   "execution_count": 82,
   "metadata": {},
   "outputs": [
    {
     "data": {
      "text/plain": [
       "{'whiskers': [<matplotlib.lines.Line2D at 0x29e9bf60>,\n",
       "  <matplotlib.lines.Line2D at 0x29e9bfd0>],\n",
       " 'caps': [<matplotlib.lines.Line2D at 0x29ea96a0>,\n",
       "  <matplotlib.lines.Line2D at 0x29ea99e8>],\n",
       " 'boxes': [<matplotlib.lines.Line2D at 0x29e9bb38>],\n",
       " 'medians': [<matplotlib.lines.Line2D at 0x29ea9d30>],\n",
       " 'fliers': [<matplotlib.lines.Line2D at 0x29ea9e10>],\n",
       " 'means': []}"
      ]
     },
     "execution_count": 82,
     "metadata": {},
     "output_type": "execute_result"
    },
    {
     "data": {
      "image/png": "[encoded data removed]",
      "text/plain": [
       "<Figure size 432x288 with 1 Axes>"
      ]
     },
     "metadata": {
      "needs_background": "light"
     },
     "output_type": "display_data"
    }
   ],
   "source": [
    "%matplotlib inline\n",
    "plt.boxplot(training_data['var_197'])"
   ]
  },
  {
   "cell_type": "code",
   "execution_count": 21,
   "metadata": {},
   "outputs": [
    {
     "data": {
      "text/plain": [
       "{'whiskers': [<matplotlib.lines.Line2D at 0x5451cc0>,\n",
       "  <matplotlib.lines.Line2D at 0x5451e10>],\n",
       " 'caps': [<matplotlib.lines.Line2D at 0x545d400>,\n",
       "  <matplotlib.lines.Line2D at 0x545d748>],\n",
       " 'boxes': [<matplotlib.lines.Line2D at 0x54518d0>],\n",
       " 'medians': [<matplotlib.lines.Line2D at 0x545da90>],\n",
       " 'fliers': [<matplotlib.lines.Line2D at 0x545ddd8>],\n",
       " 'means': []}"
      ]
     },
     "execution_count": 21,
     "metadata": {},
     "output_type": "execute_result"
    },
    {
     "data": {
      "image/png": "[encoded data removed]",
      "text/plain": [
       "<Figure size 432x288 with 1 Axes>"
      ]
     },
     "metadata": {
      "needs_background": "light"
     },
     "output_type": "display_data"
    }
   ],
   "source": [
    "#outlayer analysis for test data \n",
    "%matplotlib inline\n",
    "plt.boxplot(test_data['var_0'])"
   ]
  },
  {
   "cell_type": "code",
   "execution_count": 22,
   "metadata": {},
   "outputs": [
    {
     "data": {
      "text/plain": [
       "{'whiskers': [<matplotlib.lines.Line2D at 0x54a7ef0>,\n",
       "  <matplotlib.lines.Line2D at 0x54b5588>],\n",
       " 'caps': [<matplotlib.lines.Line2D at 0x54a7a58>,\n",
       "  <matplotlib.lines.Line2D at 0x54b5c18>],\n",
       " 'boxes': [<matplotlib.lines.Line2D at 0x54a7da0>],\n",
       " 'medians': [<matplotlib.lines.Line2D at 0x54b5f60>],\n",
       " 'fliers': [<matplotlib.lines.Line2D at 0x54b5ef0>],\n",
       " 'means': []}"
      ]
     },
     "execution_count": 22,
     "metadata": {},
     "output_type": "execute_result"
    },
    {
     "data": {
      "image/png": "[encoded data removed]",
      "text/plain": [
       "<Figure size 432x288 with 1 Axes>"
      ]
     },
     "metadata": {
      "needs_background": "light"
     },
     "output_type": "display_data"
    }
   ],
   "source": [
    "%matplotlib inline\n",
    "plt.boxplot(test_data['var_6'])"
   ]
  },
  {
   "cell_type": "code",
   "execution_count": 23,
   "metadata": {},
   "outputs": [
    {
     "data": {
      "text/plain": [
       "{'whiskers': [<matplotlib.lines.Line2D at 0x5509fd0>,\n",
       "  <matplotlib.lines.Line2D at 0x55173c8>],\n",
       " 'caps': [<matplotlib.lines.Line2D at 0x5517710>,\n",
       "  <matplotlib.lines.Line2D at 0x5509898>],\n",
       " 'boxes': [<matplotlib.lines.Line2D at 0x5509be0>],\n",
       " 'medians': [<matplotlib.lines.Line2D at 0x5517da0>],\n",
       " 'fliers': [<matplotlib.lines.Line2D at 0x5517e80>],\n",
       " 'means': []}"
      ]
     },
     "execution_count": 23,
     "metadata": {},
     "output_type": "execute_result"
    },
    {
     "data": {
      "image/png": "[encoded data removed]",
      "text/plain": [
       "<Figure size 432x288 with 1 Axes>"
      ]
     },
     "metadata": {
      "needs_background": "light"
     },
     "output_type": "display_data"
    }
   ],
   "source": [
    "%matplotlib inline\n",
    "plt.boxplot(test_data['var_197'])"
   ]
  },
  {
   "cell_type": "code",
   "execution_count": 25,
   "metadata": {},
   "outputs": [
    {
     "data": {
      "text/plain": [
       "{'whiskers': [<matplotlib.lines.Line2D at 0x556af28>,\n",
       "  <matplotlib.lines.Line2D at 0x556af98>],\n",
       " 'caps': [<matplotlib.lines.Line2D at 0x5578668>,\n",
       "  <matplotlib.lines.Line2D at 0x55789b0>],\n",
       " 'boxes': [<matplotlib.lines.Line2D at 0x556ab38>],\n",
       " 'medians': [<matplotlib.lines.Line2D at 0x5578cf8>],\n",
       " 'fliers': [<matplotlib.lines.Line2D at 0x5578dd8>],\n",
       " 'means': []}"
      ]
     },
     "execution_count": 25,
     "metadata": {},
     "output_type": "execute_result"
    },
    {
     "data": {
      "image/png": "[encoded data removed]",
      "text/plain": [
       "<Figure size 432x288 with 1 Axes>"
      ]
     },
     "metadata": {
      "needs_background": "light"
     },
     "output_type": "display_data"
    }
   ],
   "source": [
    "%matplotlib inline\n",
    "plt.boxplot(test_data['var_88'])"
   ]
  },
  {
   "cell_type": "code",
   "execution_count": null,
   "metadata": {},
   "outputs": [],
   "source": [
    "#from the above interpretation we can say that the data set have out layers \n"
   ]
  },
  {
   "cell_type": "code",
   "execution_count": 10,
   "metadata": {},
   "outputs": [],
   "source": [
    "#lets detect and delete the outlayers in training_data\n",
    "#save the numeric variables names firts \n",
    "\n",
    "cnames=[\"var_0\",\"var_1\",\"var_2\",\"var_3\",\"var_4\",\"var_5\",\"var_6\",\"var_7\",\"var_8\",\"var_9\",\"var_11\",\"var_12\",\"var_13\",\"var_14\",\"var_15\",\"var_16\",\"var_17\",\"var_18\",\"var_19\",\"var_20\",\"var_21\",\"var_22\",\"var_23\",\"var_24\",\"var_25\",\"var_26\",\"var_27\",\"var_28\",\"var_29\",\"var_30\",\"var_31\",\"var_32\",\"var_33\",\"var_34\",\"var_35\",\"var_36\",\"var_37\",\"var_38\",\"var_39\",\"var_40\",\"var_41\",\"var_42\",\"var_43\",\"var_44\",\"var_45\",\"var_46\",\"var_47\",\"var_48\",\"var_49\",\"var_50\",\"var_51\",\"var_52\",\"var_53\",\"var_54\",\"var_55\",\"var_56\",\"var_57\",\"var_58\",\"var_59\",\"var_60\",\"var_61\",\"var_62\",\"var_63\",\"var_64\",\"var_65\",\"var_66\",\"var_67\",\"var_68\",\"var_69\",\"var_70\",\"var_71\",\"var_72\",\"var_73\",\"var_74\",\"var_75\",\"var_76\",\"var_77\",\"var_78\",\"var_79\",\"var_80\",\"var_81\",\"var_82\",\"var_83\",\"var_84\",\"var_85\",\"var_86\",\"var_87\",\"var_88\",\"var_89\",\"var_90\",\"var_91\",\"var_92\",\"var_92\",\"var_93\",\"var_94\",\"var_95\",\"var_96\",\"var_97\",\"var_98\",\"var_99\",\"var_100\",\"var_101\",\"var_102\",\"var_103\",\"var_104\",\"var_105\",\"var_106\",\"var_107\",\"var_108\",\"var_109\",\"var_110\",\"var_111\",\"var_112\",\"var_113\",\"var_114\",\"var_115\",\"var_116\",\"var_117\",\"var_118\",\"var_119\",\"var_120\",\"var_121\",\"var_122\",\"var_123\",\"var_124\",\"var_125\",\"var_126\",\"var_127\",\"var_128\",\"var_129\",\"var_130\",\"var_131\",\"var_132\",\"var_133\",\"var_134\",\"var_135\",\"var_136\",\"var_137\",\"var_138\",\"var_139\",\"var_140\",\"var_141\",\"var_142\",\"var_143\",\"var_144\",\"var_145\",\"var_146\",\"var_147\",\"var_148\",\"var_149\",\"var_150\",\"var_151\",\"var_152\",\"var_153\",\"var_154\",\"var_155\",\"var_156\",\"var_157\",\"var_158\",\"var_159\",\"var_160\",\"var_161\",\"var_162\",\"var_163\",\"var_164\",\"var_165\",\"var_166\",\"var_167\",\"var_168\",\"var_169\",\"var_170\",\"var_171\",\"var_172\",\"var_173\",\"var_174\",\"var_175\",\"var_176\",\"var_177\",\"var_178\",\"var_179\",\"var_180\",\"var_181\",\"var_182\",\"var_183\",\"var_184\",\"var_185\",\"var_186\",\"var_187\",\"var_188\",\"var_189\",\"var_190\",\"var_191\",\"var_192\",\"var_193\",\"var_194\",\"var_195\",\"var_196\",\"var_197\",\"var_198\",\"var_199\"]"
   ]
  },
  {
   "cell_type": "code",
   "execution_count": 11,
   "metadata": {},
   "outputs": [
    {
     "name": "stdout",
     "output_type": "stream",
     "text": [
      "var_0\n",
      "1.9973250000000018\n",
      "19.214725\n",
      "var_1\n",
      "-13.888275\n",
      "10.506725\n",
      "var_2\n",
      "3.031699999999999\n",
      "18.207700000000003\n",
      "var_3\n",
      "0.6491000000000016\n",
      "12.929099999999998\n",
      "var_4\n",
      "6.31635\n",
      "15.827950000000001\n",
      "var_5\n",
      "-29.3898875\n",
      "19.112212500000002\n",
      "var_6\n",
      "2.914649999999999\n",
      "7.855850000000001\n",
      "var_7\n",
      "6.206262499999999\n",
      "26.840362500000005\n",
      "var_8\n",
      "-10.2011625\n",
      "10.8213375\n",
      "var_9\n",
      "3.670287499999999\n",
      "11.532987500000003\n",
      "var_11\n",
      "-20.054775\n",
      "13.399425\n",
      "var_12\n",
      "13.488700000000001\n",
      "14.569499999999998\n",
      "var_13\n",
      "-5.7323625000000025\n",
      "23.080337500000006\n",
      "var_14\n",
      "0.5475999999999992\n",
      "14.5044\n",
      "var_15\n",
      "13.345250000000002\n",
      "15.792049999999998\n",
      "var_16\n",
      "2.0472125000000014\n",
      "16.4605125\n",
      "var_17\n",
      "-24.979149999999997\n",
      "13.692249999999996\n",
      "var_18\n",
      "-8.56895\n",
      "38.76265\n",
      "var_19\n",
      "-11.953275\n",
      "36.664325000000005\n",
      "var_20\n",
      "-5.250099999999998\n",
      "31.7571\n",
      "var_21\n",
      "-5.757212500000001\n",
      "40.3966875\n",
      "var_22\n",
      "-3.9846375000000007\n",
      "12.460062500000001\n",
      "var_23\n",
      "1.4796125000000002\n",
      "4.5583124999999995\n",
      "var_24\n",
      "-1.1845499999999998\n",
      "22.279049999999998\n",
      "var_25\n",
      "12.845600000000001\n",
      "14.4744\n",
      "var_26\n",
      "-20.67155\n",
      "12.25765\n",
      "var_27\n",
      "-5.792249999999999\n",
      "3.500149999999999\n",
      "var_28\n",
      "3.339500000000001\n",
      "7.745899999999999\n",
      "var_29\n",
      "-2.2680125000000007\n",
      "12.2380875\n",
      "var_30\n",
      "-32.2499\n",
      "17.038099999999996\n",
      "var_31\n",
      "4.3450999999999995\n",
      "16.4091\n",
      "var_32\n",
      "-8.45515\n",
      "7.42365\n",
      "var_33\n",
      "1.4953749999999957\n",
      "28.055575000000005\n",
      "var_34\n",
      "9.814500000000002\n",
      "13.0625\n",
      "var_35\n",
      "-10.936700000000002\n",
      "18.541700000000002\n",
      "var_36\n",
      "-6.70815\n",
      "11.158850000000001\n",
      "var_37\n",
      "-1.0010999999999992\n",
      "12.668499999999998\n",
      "var_38\n",
      "-1.417687499999996\n",
      "22.608212499999997\n",
      "var_39\n",
      "-10.9543\n",
      "12.396099999999999\n",
      "var_40\n",
      "-30.758000000000003\n",
      "17.0468\n",
      "var_41\n",
      "-9.3304625\n",
      "27.6032375\n",
      "var_42\n",
      "9.147650000000002\n",
      "13.32245\n",
      "var_43\n",
      "10.6523\n",
      "12.496300000000002\n",
      "var_44\n",
      "-6.3490125\n",
      "24.7522875\n",
      "var_45\n",
      "-76.550775\n",
      "50.97922500000001\n",
      "var_46\n",
      "3.138687499999996\n",
      "19.426187500000005\n",
      "var_47\n",
      "-45.26652499999999\n",
      "20.365674999999992\n",
      "var_48\n",
      "-18.663112499999997\n",
      "48.05138749999999\n",
      "var_49\n",
      "-7.186837500000006\n",
      "40.3854625\n",
      "var_50\n",
      "10.821050000000001\n",
      "14.682249999999998\n",
      "var_51\n",
      "-10.903000000000002\n",
      "37.5578\n",
      "var_52\n",
      "-16.584425\n",
      "11.461375\n",
      "var_53\n",
      "3.7751500000000004\n",
      "8.20355\n",
      "var_54\n",
      "-23.9735\n",
      "26.2265\n",
      "var_55\n",
      "-5.225475000000001\n",
      "30.477125\n",
      "var_56\n",
      "6.313349999999997\n",
      "27.075750000000003\n",
      "var_57\n",
      "3.95095\n",
      "8.58095\n",
      "var_58\n",
      "-8.85615\n",
      "15.246649999999999\n",
      "var_59\n",
      "6.430199999999997\n",
      "11.448600000000003\n",
      "var_60\n",
      "-0.3959250000000001\n",
      "24.428275\n",
      "var_61\n",
      "-47.408874999999995\n",
      "23.274124999999998\n",
      "var_62\n",
      "-4.7694125\n",
      "6.4230875\n",
      "var_63\n",
      "-8.49845\n",
      "9.93075\n",
      "var_64\n",
      "1.9971125000000005\n",
      "10.7870125\n",
      "var_65\n",
      "-9.86505\n",
      "11.90175\n",
      "var_66\n",
      "2.556025\n",
      "9.004225\n",
      "var_67\n",
      "-8.651149999999998\n",
      "32.447449999999996\n",
      "var_68\n",
      "4.998849999999999\n",
      "5.039250000000001\n",
      "var_69\n",
      "-15.095699999999997\n",
      "8.255499999999998\n",
      "var_70\n",
      "-12.299412499999992\n",
      "61.19648749999999\n",
      "var_71\n",
      "-0.11554999999999999\n",
      "1.4520499999999998\n",
      "var_72\n",
      "-10.759825000000001\n",
      "12.074775000000002\n",
      "var_73\n",
      "-2.568000000000005\n",
      "41.87360000000001\n",
      "var_74\n",
      "-20.42945\n",
      "59.67895\n",
      "var_75\n",
      "-0.9516875000000038\n",
      "34.8614125\n",
      "var_76\n",
      "-16.2354\n",
      "28.650199999999998\n",
      "var_77\n",
      "6.966000000000006\n",
      "31.089399999999998\n",
      "var_78\n",
      "-0.7573874999999997\n",
      "11.4407125\n",
      "var_79\n",
      "10.364862500000005\n",
      "18.393562499999998\n",
      "var_80\n",
      "-15.4334625\n",
      "27.574237500000002\n",
      "var_81\n",
      "8.524124999999998\n",
      "21.033525000000004\n",
      "var_82\n",
      "-29.678525\n",
      "22.770075\n",
      "var_83\n",
      "-23.9406\n",
      "26.2802\n",
      "var_84\n",
      "-21.0214\n",
      "15.787799999999997\n",
      "var_85\n",
      "6.305449999999997\n",
      "30.393850000000004\n",
      "var_86\n",
      "-15.713437500000001\n",
      "27.275462500000003\n",
      "var_87\n",
      "-5.030900000000001\n",
      "27.7163\n",
      "var_88\n",
      "1.445500000000001\n",
      "16.0375\n",
      "var_89\n",
      "-6.372450000000001\n",
      "13.66075\n",
      "var_90\n",
      "-57.02695000000001\n",
      "23.961450000000006\n",
      "var_91\n",
      "6.523149999999999\n",
      "7.44835\n",
      "var_92\n",
      "0.4145625000000024\n",
      "25.0976625\n",
      "var_92\n",
      "0.41529999999999845\n",
      "25.0973\n",
      "var_93\n",
      "9.071625000000001\n",
      "12.069025\n",
      "var_94\n",
      "2.439700000000002\n",
      "19.478099999999998\n",
      "var_95\n",
      "-1.8122499999999997\n",
      "1.6137499999999998\n",
      "var_96\n",
      "-11.725399999999999\n",
      "40.345\n",
      "var_97\n",
      "-19.956699999999998\n",
      "57.0457\n",
      "var_98\n",
      "-0.2225499999999998\n",
      "3.75065\n",
      "var_99\n",
      "-6.057499999999999\n",
      "4.4793\n",
      "var_100\n",
      "-33.186675\n",
      "20.120324999999998\n",
      "var_101\n",
      "-1.7879749999999976\n",
      "28.675424999999997\n",
      "var_102\n",
      "-2.902075\n",
      "47.642925\n",
      "var_103\n",
      "1.0145\n",
      "2.1201\n",
      "var_104\n",
      "5.892399999999998\n",
      "17.106800000000003\n",
      "var_105\n",
      "1.8653125000000006\n",
      "6.5968124999999995\n",
      "var_106\n",
      "3.3123249999999995\n",
      "13.900924999999999\n",
      "var_107\n",
      "-4.603425000000003\n",
      "40.131975000000004\n",
      "var_108\n",
      "13.704850000000002\n",
      "14.755649999999997\n",
      "var_109\n",
      "4.978000000000007\n",
      "31.987399999999994\n",
      "var_110\n",
      "-5.106000000000002\n",
      "16.022800000000004\n",
      "var_111\n",
      "3.1561\n",
      "9.4353\n",
      "var_112\n",
      "-1.6383000000000014\n",
      "8.306500000000002\n",
      "var_113\n",
      "-5.392049999999999\n",
      "21.78915\n",
      "var_114\n",
      "0.2541499999999992\n",
      "5.94655\n",
      "var_115\n",
      "-5.18475\n",
      "9.70365\n",
      "var_116\n",
      "-2.5673250000000007\n",
      "7.405275000000001\n",
      "var_117\n",
      "-22.729474999999997\n",
      "54.877325\n",
      "var_118\n",
      "-30.410249999999998\n",
      "19.80295\n",
      "var_119\n",
      "-9.54135\n",
      "15.48305\n",
      "var_120\n",
      "-10.438024999999996\n",
      "59.23457499999999\n",
      "var_121\n",
      "6.0648500000000025\n",
      "16.55165\n",
      "var_122\n",
      "-14.056000000000001\n",
      "16.584\n",
      "var_123\n",
      "-10.5481\n",
      "25.1023\n",
      "var_124\n",
      "-3.40475\n",
      "11.950849999999999\n",
      "var_125\n",
      "11.53565\n",
      "13.428050000000002\n",
      "var_126\n",
      "10.80375\n",
      "15.61535\n",
      "var_127\n",
      "-8.70065\n",
      "10.48655\n",
      "var_128\n",
      "-10.990350000000001\n",
      "8.754850000000001\n",
      "var_129\n",
      "3.5597125000000034\n",
      "27.433612499999995\n",
      "var_130\n",
      "9.731100000000001\n",
      "14.763099999999998\n",
      "var_131\n",
      "-0.8319999999999999\n",
      "1.9407999999999999\n",
      "var_132\n",
      "3.444200000000001\n",
      "12.193799999999998\n",
      "var_133\n",
      "5.752149999999999\n",
      "7.861350000000001\n",
      "var_134\n",
      "-23.807824999999998\n",
      "13.991974999999998\n",
      "var_135\n",
      "-26.569850000000002\n",
      "17.751350000000002\n",
      "var_136\n",
      "-9.2189125\n",
      "55.1885875\n",
      "var_137\n",
      "-9.998524999999995\n",
      "45.07447499999999\n",
      "var_138\n",
      "-11.6170875\n",
      "13.9938125\n",
      "var_139\n",
      "-13.8713\n",
      "29.4991\n",
      "var_140\n",
      "-10.922112499999999\n",
      "17.878987499999997\n",
      "var_141\n",
      "-17.665474999999997\n",
      "23.705524999999998\n",
      "var_142\n",
      "-4.377599999999997\n",
      "28.339999999999996\n",
      "var_143\n",
      "4.08225\n",
      "20.69225\n",
      "var_144\n",
      "5.9474374999999995\n",
      "11.3331375\n",
      "var_145\n",
      "-6.798875000000001\n",
      "16.365524999999998\n",
      "var_146\n",
      "3.4446875000000023\n",
      "17.313987499999996\n",
      "var_147\n",
      "-24.907725000000003\n",
      "18.184075000000004\n",
      "var_148\n",
      "3.4365749999999995\n",
      "4.548775000000001\n",
      "var_149\n",
      "-23.799725\n",
      "34.602875\n",
      "var_150\n",
      "9.350850000000003\n",
      "24.284249999999993\n",
      "var_151\n",
      "-1.9217999999999993\n",
      "22.0422\n",
      "var_152\n",
      "-0.805299999999999\n",
      "16.199299999999997\n",
      "var_153\n",
      "10.685899999999998\n",
      "22.8131\n",
      "var_154\n",
      "-7.785450000000001\n",
      "21.89495\n",
      "var_155\n",
      "-18.511225\n",
      "14.132175\n",
      "var_156\n",
      "10.293237499999996\n",
      "16.109337500000002\n",
      "var_157\n",
      "-20.8791625\n",
      "10.949537500000002\n",
      "var_158\n",
      "-5.526287500000002\n",
      "41.5192125\n",
      "var_159\n",
      "-1.537650000000001\n",
      "21.878150000000005\n",
      "var_160\n",
      "-9.727050000000009\n",
      "58.04355000000001\n",
      "var_161\n",
      "4.988149999999999\n",
      "6.274150000000001\n",
      "var_162\n",
      "1.26205\n",
      "9.43445\n",
      "var_163\n",
      "-4.3619125\n",
      "26.0097875\n",
      "var_164\n",
      "-19.710087499999997\n",
      "13.937412499999997\n",
      "var_165\n",
      "4.841899999999997\n",
      "33.929100000000005\n",
      "var_166\n",
      "1.8848500000000001\n",
      "4.05565\n",
      "var_167\n",
      "-26.092974999999996\n",
      "17.758425\n",
      "var_168\n",
      "-3.7711000000000006\n",
      "13.4937\n",
      "var_169\n",
      "4.57855\n",
      "6.7013500000000015\n",
      "var_170\n",
      "-12.793300000000002\n",
      "12.626900000000001\n",
      "var_171\n",
      "-16.221049999999998\n",
      "14.453749999999998\n",
      "var_172\n",
      "-4.5423250000000035\n",
      "44.18027500000001\n",
      "var_173\n",
      "-17.9503375\n",
      "16.5593625\n",
      "var_174\n",
      "-0.7918000000000003\n",
      "41.504999999999995\n",
      "var_175\n",
      "2.812800000000001\n",
      "20.2952\n",
      "var_176\n",
      "-25.003550000000004\n",
      "19.31765\n",
      "var_177\n",
      "3.623474999999999\n",
      "20.113275\n",
      "var_178\n",
      "-26.490162500000004\n",
      "24.4243375\n",
      "var_179\n",
      "-5.0213\n",
      "10.0427\n",
      "var_180\n",
      "-18.189600000000002\n",
      "12.506400000000001\n",
      "var_181\n",
      "6.196324999999998\n",
      "13.898925000000002\n",
      "var_182\n",
      "-26.395262499999998\n",
      "27.834037499999997\n",
      "var_183\n",
      "-4.628162500000001\n",
      "22.182137500000003\n",
      "var_184\n",
      "-14.99875\n",
      "40.12565\n",
      "var_185\n",
      "-17.51465\n",
      "9.56495\n",
      "var_186\n",
      "-0.005850000000000577\n",
      "17.90815\n",
      "var_187\n",
      "-45.804125\n",
      "25.114475\n",
      "var_188\n",
      "3.7243625000000034\n",
      "27.114862499999994\n",
      "var_189\n",
      "-2.1862500000000002\n",
      "3.68455\n",
      "var_190\n",
      "-9.753825\n",
      "16.102175000000003\n",
      "var_191\n",
      "-1.379137499999998\n",
      "16.0409625\n",
      "var_192\n",
      "-2.2031\n",
      "6.0417000000000005\n",
      "var_193\n",
      "-7.831950000000001\n",
      "14.624450000000001\n",
      "var_194\n",
      "8.477950000000003\n",
      "27.550349999999998\n",
      "var_195\n",
      "-4.1678125\n",
      "3.8278874999999997\n",
      "var_196\n",
      "-14.69765\n",
      "19.29695\n",
      "var_197\n",
      "6.2404375000000005\n",
      "11.6051375\n",
      "var_198\n",
      "7.475550000000004\n",
      "24.421749999999996\n",
      "var_199\n",
      "-35.2688375\n",
      "28.878262499999998\n"
     ]
    }
   ],
   "source": [
    "for i in cnames:\n",
    "    print(i)\n",
    "    q75,q25=np.percentile(training_data.loc[:,i],[75,25])\n",
    "    iqr=q75-q25\n",
    "    minimum=q25-(iqr*1.5)\n",
    "    maximum=q75+(iqr*1.5)\n",
    "    print(minimum)\n",
    "    print(maximum)\n",
    "    training_data=training_data.drop(training_data[training_data.loc[:,i]<minimum].index)\n",
    "    traininig_data=training_data.drop(training_data[training_data.loc[:,i]>maximum].index)"
   ]
  },
  {
   "cell_type": "code",
   "execution_count": 11,
   "metadata": {},
   "outputs": [],
   "source": [
    "#feature selection \n",
    "df_corr=training_data.loc[:,cnames]\n"
   ]
  },
  {
   "cell_type": "code",
   "execution_count": 12,
   "metadata": {},
   "outputs": [
    {
     "data": {
      "text/plain": [
       "(array([169342.,      0.,      0.,      0.,      0.,      0.,      0.,\n",
       "             0.,      0.,  18704.]),\n",
       " array([0. , 0.1, 0.2, 0.3, 0.4, 0.5, 0.6, 0.7, 0.8, 0.9, 1. ]),\n",
       " <a list of 10 Patch objects>)"
      ]
     },
     "execution_count": 12,
     "metadata": {},
     "output_type": "execute_result"
    },
    {
     "data": {
      "image/png": "[encoded data removed]",
      "text/plain": [
       "<Figure size 432x288 with 1 Axes>"
      ]
     },
     "metadata": {
      "needs_background": "light"
     },
     "output_type": "display_data"
    }
   ],
   "source": [
    "%matplotlib inline\n",
    "plt.hist(training_data['target'])"
   ]
  },
  {
   "cell_type": "code",
   "execution_count": 13,
   "metadata": {},
   "outputs": [],
   "source": [
    "corr=df_corr.corr()"
   ]
  },
  {
   "cell_type": "code",
   "execution_count": 21,
   "metadata": {},
   "outputs": [
    {
     "data": {
      "text/plain": [
       "<matplotlib.axes._subplots.AxesSubplot at 0x3270a400>"
      ]
     },
     "execution_count": 21,
     "metadata": {},
     "output_type": "execute_result"
    },
    {
     "data": {
      "image/png": "[encoded data removed]",
      "text/plain": [
       "<Figure size 3600x2160 with 2 Axes>"
      ]
     },
     "metadata": {
      "needs_background": "light"
     },
     "output_type": "display_data"
    }
   ],
   "source": [
    "a4_dims = (50,30)\n",
    "fig, ap = plt.subplots(figsize=a4_dims)\n",
    "sns.set(font_scale=2)\n",
    "sns.heatmap(corr,mask=np.zeros_like(corr,dtype=np.bool),cmap=sns.diverging_palette(260,10),ax=ap)"
   ]
  },
  {
   "cell_type": "code",
   "execution_count": 24,
   "metadata": {},
   "outputs": [],
   "source": [
    "##feature scaling \n",
    "#saving the copy of the data\n",
    "df=training_data.copy()\n",
    "df1=test_data.copy()\n"
   ]
  },
  {
   "cell_type": "code",
   "execution_count": 14,
   "metadata": {},
   "outputs": [
    {
     "data": {
      "text/plain": [
       "(array([1.600e+01, 1.500e+01, 2.300e+01, 3.400e+01, 3.500e+01, 5.100e+01,\n",
       "        5.300e+01, 5.300e+01, 8.200e+01, 1.000e+02, 1.550e+02, 1.620e+02,\n",
       "        2.000e+02, 2.250e+02, 2.590e+02, 3.250e+02, 3.670e+02, 4.180e+02,\n",
       "        4.790e+02, 5.410e+02, 6.150e+02, 6.940e+02, 8.450e+02, 9.040e+02,\n",
       "        9.830e+02, 1.098e+03, 1.235e+03, 1.376e+03, 1.499e+03, 1.621e+03,\n",
       "        1.719e+03, 1.886e+03, 2.053e+03, 2.116e+03, 2.302e+03, 2.356e+03,\n",
       "        2.543e+03, 2.766e+03, 2.763e+03, 2.873e+03, 3.046e+03, 2.995e+03,\n",
       "        3.200e+03, 3.203e+03, 3.283e+03, 3.249e+03, 3.347e+03, 3.445e+03,\n",
       "        3.368e+03, 3.424e+03, 3.380e+03, 3.555e+03, 3.595e+03, 3.519e+03,\n",
       "        3.359e+03, 3.463e+03, 3.461e+03, 3.332e+03, 3.327e+03, 3.385e+03,\n",
       "        3.302e+03, 3.254e+03, 3.330e+03, 3.117e+03, 3.099e+03, 3.064e+03,\n",
       "        3.010e+03, 2.913e+03, 2.972e+03, 3.050e+03, 3.021e+03, 3.214e+03,\n",
       "        3.042e+03, 2.925e+03, 2.759e+03, 2.514e+03, 2.317e+03, 2.155e+03,\n",
       "        2.060e+03, 2.014e+03, 1.941e+03, 1.706e+03, 1.672e+03, 1.531e+03,\n",
       "        1.371e+03, 1.296e+03, 1.185e+03, 1.114e+03, 1.027e+03, 9.690e+02,\n",
       "        9.030e+02, 8.370e+02, 8.060e+02, 7.320e+02, 7.240e+02, 6.580e+02,\n",
       "        6.310e+02, 5.910e+02, 5.750e+02, 5.050e+02, 4.800e+02, 4.250e+02,\n",
       "        4.730e+02, 4.910e+02, 4.300e+02, 4.470e+02, 4.290e+02, 3.970e+02,\n",
       "        4.350e+02, 3.620e+02, 3.310e+02, 2.820e+02, 1.990e+02, 9.600e+01,\n",
       "        4.300e+01, 2.600e+01, 1.000e+01, 3.000e+00, 1.000e+00, 1.000e+00,\n",
       "        1.000e+00, 2.000e+00]),\n",
       " array([ 2.0044    ,  2.15448689,  2.30457377,  2.45466066,  2.60474754,\n",
       "         2.75483443,  2.90492131,  3.0550082 ,  3.20509508,  3.35518197,\n",
       "         3.50526885,  3.65535574,  3.80544262,  3.95552951,  4.10561639,\n",
       "         4.25570328,  4.40579016,  4.55587705,  4.70596393,  4.85605082,\n",
       "         5.0061377 ,  5.15622459,  5.30631148,  5.45639836,  5.60648525,\n",
       "         5.75657213,  5.90665902,  6.0567459 ,  6.20683279,  6.35691967,\n",
       "         6.50700656,  6.65709344,  6.80718033,  6.95726721,  7.1073541 ,\n",
       "         7.25744098,  7.40752787,  7.55761475,  7.70770164,  7.85778852,\n",
       "         8.00787541,  8.1579623 ,  8.30804918,  8.45813607,  8.60822295,\n",
       "         8.75830984,  8.90839672,  9.05848361,  9.20857049,  9.35865738,\n",
       "         9.50874426,  9.65883115,  9.80891803,  9.95900492, 10.1090918 ,\n",
       "        10.25917869, 10.40926557, 10.55935246, 10.70943934, 10.85952623,\n",
       "        11.00961311, 11.1597    , 11.30978689, 11.45987377, 11.60996066,\n",
       "        11.76004754, 11.91013443, 12.06022131, 12.2103082 , 12.36039508,\n",
       "        12.51048197, 12.66056885, 12.81065574, 12.96074262, 13.11082951,\n",
       "        13.26091639, 13.41100328, 13.56109016, 13.71117705, 13.86126393,\n",
       "        14.01135082, 14.1614377 , 14.31152459, 14.46161148, 14.61169836,\n",
       "        14.76178525, 14.91187213, 15.06195902, 15.2120459 , 15.36213279,\n",
       "        15.51221967, 15.66230656, 15.81239344, 15.96248033, 16.11256721,\n",
       "        16.2626541 , 16.41274098, 16.56282787, 16.71291475, 16.86300164,\n",
       "        17.01308852, 17.16317541, 17.3132623 , 17.46334918, 17.61343607,\n",
       "        17.76352295, 17.91360984, 18.06369672, 18.21378361, 18.36387049,\n",
       "        18.51395738, 18.66404426, 18.81413115, 18.96421803, 19.11430492,\n",
       "        19.2643918 , 19.41447869, 19.56456557, 19.71465246, 19.86473934,\n",
       "        20.01482623, 20.16491311, 20.315     ]),\n",
       " <a list of 122 Patch objects>)"
      ]
     },
     "execution_count": 14,
     "metadata": {},
     "output_type": "execute_result"
    },
    {
     "data": {
      "image/png": "[encoded data removed]",
      "text/plain": [
       "<Figure size 432x288 with 1 Axes>"
      ]
     },
     "metadata": {
      "needs_background": "light"
     },
     "output_type": "display_data"
    }
   ],
   "source": [
    "#normality check\n",
    "%matplotlib inline\n",
    "plt.hist(training_data['var_0'],bins='auto')"
   ]
  },
  {
   "cell_type": "code",
   "execution_count": 25,
   "metadata": {},
   "outputs": [
    {
     "data": {
      "text/plain": [
       "(array([4.000e+00, 2.000e+00, 3.000e+00, 9.000e+00, 6.000e+00, 8.000e+00,\n",
       "        3.600e+01, 2.600e+01, 3.800e+01, 4.500e+01, 6.100e+01, 7.100e+01,\n",
       "        1.100e+02, 1.440e+02, 1.580e+02, 2.310e+02, 3.180e+02, 3.270e+02,\n",
       "        4.020e+02, 4.930e+02, 6.320e+02, 7.290e+02, 8.020e+02, 8.870e+02,\n",
       "        1.128e+03, 1.203e+03, 1.408e+03, 1.525e+03, 1.658e+03, 1.696e+03,\n",
       "        1.933e+03, 2.093e+03, 2.237e+03, 2.270e+03, 2.459e+03, 2.551e+03,\n",
       "        2.653e+03, 2.761e+03, 2.702e+03, 2.825e+03, 2.830e+03, 2.923e+03,\n",
       "        2.977e+03, 2.918e+03, 2.885e+03, 3.051e+03, 2.999e+03, 3.013e+03,\n",
       "        3.153e+03, 3.160e+03, 3.172e+03, 3.277e+03, 3.323e+03, 3.341e+03,\n",
       "        3.448e+03, 3.437e+03, 3.424e+03, 3.358e+03, 3.420e+03, 3.401e+03,\n",
       "        3.393e+03, 3.460e+03, 3.497e+03, 3.443e+03, 3.348e+03, 3.385e+03,\n",
       "        3.360e+03, 3.305e+03, 3.299e+03, 3.393e+03, 3.241e+03, 3.108e+03,\n",
       "        3.022e+03, 3.048e+03, 2.925e+03, 2.880e+03, 2.676e+03, 2.553e+03,\n",
       "        2.498e+03, 2.453e+03, 2.124e+03, 2.061e+03, 1.810e+03, 1.759e+03,\n",
       "        1.633e+03, 1.444e+03, 1.353e+03, 1.195e+03, 1.062e+03, 9.670e+02,\n",
       "        8.930e+02, 8.140e+02, 7.080e+02, 6.410e+02, 6.370e+02, 5.480e+02,\n",
       "        5.150e+02, 4.760e+02, 3.980e+02, 3.790e+02, 4.380e+02, 4.840e+02,\n",
       "        6.110e+02, 4.540e+02, 1.460e+02, 3.100e+01, 7.000e+00, 5.000e+00,\n",
       "        4.000e+00, 3.000e+00, 0.000e+00, 0.000e+00, 0.000e+00, 5.000e+00]),\n",
       " array([-13.8674    , -13.65473158, -13.44206316, -13.22939474,\n",
       "        -13.01672632, -12.80405789, -12.59138947, -12.37872105,\n",
       "        -12.16605263, -11.95338421, -11.74071579, -11.52804737,\n",
       "        -11.31537895, -11.10271053, -10.89004211, -10.67737368,\n",
       "        -10.46470526, -10.25203684, -10.03936842,  -9.8267    ,\n",
       "         -9.61403158,  -9.40136316,  -9.18869474,  -8.97602632,\n",
       "         -8.76335789,  -8.55068947,  -8.33802105,  -8.12535263,\n",
       "         -7.91268421,  -7.70001579,  -7.48734737,  -7.27467895,\n",
       "         -7.06201053,  -6.84934211,  -6.63667368,  -6.42400526,\n",
       "         -6.21133684,  -5.99866842,  -5.786     ,  -5.57333158,\n",
       "         -5.36066316,  -5.14799474,  -4.93532632,  -4.72265789,\n",
       "         -4.50998947,  -4.29732105,  -4.08465263,  -3.87198421,\n",
       "         -3.65931579,  -3.44664737,  -3.23397895,  -3.02131053,\n",
       "         -2.80864211,  -2.59597368,  -2.38330526,  -2.17063684,\n",
       "         -1.95796842,  -1.7453    ,  -1.53263158,  -1.31996316,\n",
       "         -1.10729474,  -0.89462632,  -0.68195789,  -0.46928947,\n",
       "         -0.25662105,  -0.04395263,   0.16871579,   0.38138421,\n",
       "          0.59405263,   0.80672105,   1.01938947,   1.23205789,\n",
       "          1.44472632,   1.65739474,   1.87006316,   2.08273158,\n",
       "          2.2954    ,   2.50806842,   2.72073684,   2.93340526,\n",
       "          3.14607368,   3.35874211,   3.57141053,   3.78407895,\n",
       "          3.99674737,   4.20941579,   4.42208421,   4.63475263,\n",
       "          4.84742105,   5.06008947,   5.27275789,   5.48542632,\n",
       "          5.69809474,   5.91076316,   6.12343158,   6.3361    ,\n",
       "          6.54876842,   6.76143684,   6.97410526,   7.18677368,\n",
       "          7.39944211,   7.61211053,   7.82477895,   8.03744737,\n",
       "          8.25011579,   8.46278421,   8.67545263,   8.88812105,\n",
       "          9.10078947,   9.31345789,   9.52612632,   9.73879474,\n",
       "          9.95146316,  10.16413158,  10.3768    ]),\n",
       " <a list of 114 Patch objects>)"
      ]
     },
     "execution_count": 25,
     "metadata": {},
     "output_type": "execute_result"
    },
    {
     "data": {
      "image/png": "[encoded data removed]",
      "text/plain": [
       "<Figure size 432x288 with 1 Axes>"
      ]
     },
     "metadata": {
      "needs_background": "light"
     },
     "output_type": "display_data"
    }
   ],
   "source": [
    "%matplotlib inline\n",
    "plt.hist(training_data['var_1'],bins='auto')"
   ]
  },
  {
   "cell_type": "code",
   "execution_count": 91,
   "metadata": {},
   "outputs": [
    {
     "data": {
      "text/plain": [
       "(array([9.000e+00, 9.000e+00, 1.400e+01, 1.600e+01, 1.000e+01, 2.600e+01,\n",
       "        4.200e+01, 3.400e+01, 3.600e+01, 5.800e+01, 6.600e+01, 7.700e+01,\n",
       "        1.060e+02, 1.530e+02, 1.920e+02, 2.260e+02, 2.750e+02, 3.500e+02,\n",
       "        3.880e+02, 4.080e+02, 4.960e+02, 6.420e+02, 7.370e+02, 8.220e+02,\n",
       "        8.920e+02, 1.048e+03, 1.217e+03, 1.330e+03, 1.412e+03, 1.655e+03,\n",
       "        1.798e+03, 1.944e+03, 2.054e+03, 2.219e+03, 2.346e+03, 2.607e+03,\n",
       "        2.710e+03, 2.740e+03, 2.882e+03, 2.958e+03, 3.098e+03, 3.112e+03,\n",
       "        3.177e+03, 3.277e+03, 3.331e+03, 3.336e+03, 3.290e+03, 3.331e+03,\n",
       "        3.473e+03, 3.291e+03, 3.438e+03, 3.452e+03, 3.297e+03, 3.351e+03,\n",
       "        3.236e+03, 3.327e+03, 3.258e+03, 3.210e+03, 3.218e+03, 3.220e+03,\n",
       "        3.189e+03, 3.120e+03, 3.041e+03, 2.843e+03, 3.070e+03, 2.986e+03,\n",
       "        2.952e+03, 2.832e+03, 3.034e+03, 3.506e+03, 3.942e+03, 3.694e+03,\n",
       "        3.195e+03, 2.791e+03, 2.559e+03, 2.564e+03, 2.383e+03, 2.382e+03,\n",
       "        2.154e+03, 2.119e+03, 1.906e+03, 1.890e+03, 1.727e+03, 1.700e+03,\n",
       "        1.478e+03, 1.364e+03, 1.396e+03, 1.235e+03, 1.110e+03, 1.011e+03,\n",
       "        9.170e+02, 9.050e+02, 7.960e+02, 7.640e+02, 6.620e+02, 6.070e+02,\n",
       "        6.210e+02, 5.560e+02, 5.370e+02, 4.960e+02, 4.390e+02, 4.480e+02,\n",
       "        4.280e+02, 3.860e+02, 4.050e+02, 3.530e+02, 3.450e+02, 3.690e+02,\n",
       "        3.750e+02, 3.640e+02, 3.700e+02, 4.050e+02, 2.750e+02, 2.050e+02,\n",
       "        7.500e+01, 2.900e+01, 1.100e+01, 0.000e+00, 2.000e+00, 0.000e+00,\n",
       "        0.000e+00, 0.000e+00, 0.000e+00, 1.000e+00]),\n",
       " array([ 3.0355    ,  3.16709274,  3.29868548,  3.43027823,  3.56187097,\n",
       "         3.69346371,  3.82505645,  3.95664919,  4.08824194,  4.21983468,\n",
       "         4.35142742,  4.48302016,  4.6146129 ,  4.74620565,  4.87779839,\n",
       "         5.00939113,  5.14098387,  5.27257661,  5.40416935,  5.5357621 ,\n",
       "         5.66735484,  5.79894758,  5.93054032,  6.06213306,  6.19372581,\n",
       "         6.32531855,  6.45691129,  6.58850403,  6.72009677,  6.85168952,\n",
       "         6.98328226,  7.114875  ,  7.24646774,  7.37806048,  7.50965323,\n",
       "         7.64124597,  7.77283871,  7.90443145,  8.03602419,  8.16761694,\n",
       "         8.29920968,  8.43080242,  8.56239516,  8.6939879 ,  8.82558065,\n",
       "         8.95717339,  9.08876613,  9.22035887,  9.35195161,  9.48354435,\n",
       "         9.6151371 ,  9.74672984,  9.87832258, 10.00991532, 10.14150806,\n",
       "        10.27310081, 10.40469355, 10.53628629, 10.66787903, 10.79947177,\n",
       "        10.93106452, 11.06265726, 11.19425   , 11.32584274, 11.45743548,\n",
       "        11.58902823, 11.72062097, 11.85221371, 11.98380645, 12.11539919,\n",
       "        12.24699194, 12.37858468, 12.51017742, 12.64177016, 12.7733629 ,\n",
       "        12.90495565, 13.03654839, 13.16814113, 13.29973387, 13.43132661,\n",
       "        13.56291935, 13.6945121 , 13.82610484, 13.95769758, 14.08929032,\n",
       "        14.22088306, 14.35247581, 14.48406855, 14.61566129, 14.74725403,\n",
       "        14.87884677, 15.01043952, 15.14203226, 15.273625  , 15.40521774,\n",
       "        15.53681048, 15.66840323, 15.79999597, 15.93158871, 16.06318145,\n",
       "        16.19477419, 16.32636694, 16.45795968, 16.58955242, 16.72114516,\n",
       "        16.8527379 , 16.98433065, 17.11592339, 17.24751613, 17.37910887,\n",
       "        17.51070161, 17.64229435, 17.7738871 , 17.90547984, 18.03707258,\n",
       "        18.16866532, 18.30025806, 18.43185081, 18.56344355, 18.69503629,\n",
       "        18.82662903, 18.95822177, 19.08981452, 19.22140726, 19.353     ]),\n",
       " <a list of 124 Patch objects>)"
      ]
     },
     "execution_count": 91,
     "metadata": {},
     "output_type": "execute_result"
    },
    {
     "data": {
      "image/png": "[encoded data removed]",
      "text/plain": [
       "<Figure size 432x288 with 1 Axes>"
      ]
     },
     "metadata": {
      "needs_background": "light"
     },
     "output_type": "display_data"
    }
   ],
   "source": [
    "%matplotlib inline\n",
    "plt.hist(training_data['var_2'],bins='auto')"
   ]
  },
  {
   "cell_type": "code",
   "execution_count": 92,
   "metadata": {},
   "outputs": [
    {
     "data": {
      "text/plain": [
       "(array([5.000e+00, 9.000e+00, 1.100e+01, 9.000e+00, 2.800e+01, 2.700e+01,\n",
       "        4.000e+01, 3.800e+01, 5.800e+01, 9.300e+01, 8.400e+01, 1.070e+02,\n",
       "        1.470e+02, 2.190e+02, 2.580e+02, 3.120e+02, 3.410e+02, 4.210e+02,\n",
       "        4.900e+02, 6.010e+02, 6.850e+02, 7.770e+02, 8.910e+02, 1.075e+03,\n",
       "        1.113e+03, 1.274e+03, 1.412e+03, 1.527e+03, 1.647e+03, 1.803e+03,\n",
       "        1.932e+03, 1.970e+03, 2.186e+03, 2.140e+03, 2.346e+03, 2.417e+03,\n",
       "        2.520e+03, 2.606e+03, 2.708e+03, 2.747e+03, 2.735e+03, 2.865e+03,\n",
       "        2.915e+03, 3.130e+03, 3.021e+03, 3.025e+03, 3.099e+03, 3.103e+03,\n",
       "        3.237e+03, 3.246e+03, 3.255e+03, 3.170e+03, 3.284e+03, 3.285e+03,\n",
       "        3.173e+03, 3.365e+03, 3.376e+03, 3.381e+03, 3.325e+03, 3.367e+03,\n",
       "        3.392e+03, 3.346e+03, 3.335e+03, 3.286e+03, 3.484e+03, 3.403e+03,\n",
       "        3.410e+03, 3.368e+03, 3.288e+03, 3.382e+03, 3.314e+03, 3.121e+03,\n",
       "        3.156e+03, 2.977e+03, 2.933e+03, 2.842e+03, 2.752e+03, 2.682e+03,\n",
       "        2.550e+03, 2.445e+03, 2.189e+03, 2.052e+03, 1.950e+03, 1.804e+03,\n",
       "        1.694e+03, 1.500e+03, 1.338e+03, 1.196e+03, 1.119e+03, 1.069e+03,\n",
       "        9.370e+02, 7.910e+02, 7.320e+02, 6.720e+02, 5.760e+02, 5.620e+02,\n",
       "        4.710e+02, 3.960e+02, 4.040e+02, 3.260e+02, 2.700e+02, 2.300e+02,\n",
       "        1.920e+02, 1.810e+02, 1.290e+02, 1.030e+02, 7.100e+01, 7.000e+01,\n",
       "        4.000e+01, 3.900e+01, 1.000e+01, 1.500e+01, 9.000e+00, 3.000e+00,\n",
       "        5.000e+00, 2.000e+00, 2.000e+00]),\n",
       " array([ 0.6732    ,  0.78016667,  0.88713333,  0.9941    ,  1.10106667,\n",
       "         1.20803333,  1.315     ,  1.42196667,  1.52893333,  1.6359    ,\n",
       "         1.74286667,  1.84983333,  1.9568    ,  2.06376667,  2.17073333,\n",
       "         2.2777    ,  2.38466667,  2.49163333,  2.5986    ,  2.70556667,\n",
       "         2.81253333,  2.9195    ,  3.02646667,  3.13343333,  3.2404    ,\n",
       "         3.34736667,  3.45433333,  3.5613    ,  3.66826667,  3.77523333,\n",
       "         3.8822    ,  3.98916667,  4.09613333,  4.2031    ,  4.31006667,\n",
       "         4.41703333,  4.524     ,  4.63096667,  4.73793333,  4.8449    ,\n",
       "         4.95186667,  5.05883333,  5.1658    ,  5.27276667,  5.37973333,\n",
       "         5.4867    ,  5.59366667,  5.70063333,  5.8076    ,  5.91456667,\n",
       "         6.02153333,  6.1285    ,  6.23546667,  6.34243333,  6.4494    ,\n",
       "         6.55636667,  6.66333333,  6.7703    ,  6.87726667,  6.98423333,\n",
       "         7.0912    ,  7.19816667,  7.30513333,  7.4121    ,  7.51906667,\n",
       "         7.62603333,  7.733     ,  7.83996667,  7.94693333,  8.0539    ,\n",
       "         8.16086667,  8.26783333,  8.3748    ,  8.48176667,  8.58873333,\n",
       "         8.6957    ,  8.80266667,  8.90963333,  9.0166    ,  9.12356667,\n",
       "         9.23053333,  9.3375    ,  9.44446667,  9.55143333,  9.6584    ,\n",
       "         9.76536667,  9.87233333,  9.9793    , 10.08626667, 10.19323333,\n",
       "        10.3002    , 10.40716667, 10.51413333, 10.6211    , 10.72806667,\n",
       "        10.83503333, 10.942     , 11.04896667, 11.15593333, 11.2629    ,\n",
       "        11.36986667, 11.47683333, 11.5838    , 11.69076667, 11.79773333,\n",
       "        11.9047    , 12.01166667, 12.11863333, 12.2256    , 12.33256667,\n",
       "        12.43953333, 12.5465    , 12.65346667, 12.76043333, 12.8674    ,\n",
       "        12.97436667, 13.08133333, 13.1883    ]),\n",
       " <a list of 117 Patch objects>)"
      ]
     },
     "execution_count": 92,
     "metadata": {},
     "output_type": "execute_result"
    },
    {
     "data": {
      "image/png": "[encoded data removed]",
      "text/plain": [
       "<Figure size 432x288 with 1 Axes>"
      ]
     },
     "metadata": {
      "needs_background": "light"
     },
     "output_type": "display_data"
    }
   ],
   "source": [
    "%matplotlib inline\n",
    "plt.hist(training_data['var_3'],bins='auto')"
   ]
  },
  {
   "cell_type": "code",
   "execution_count": 93,
   "metadata": {},
   "outputs": [
    {
     "data": {
      "text/plain": [
       "(array([2.700e+01, 2.900e+01, 2.800e+01, 3.300e+01, 3.900e+01, 6.300e+01,\n",
       "        8.400e+01, 1.040e+02, 1.180e+02, 1.380e+02, 1.660e+02, 1.860e+02,\n",
       "        2.190e+02, 2.960e+02, 2.920e+02, 4.230e+02, 4.250e+02, 5.230e+02,\n",
       "        5.700e+02, 6.830e+02, 7.290e+02, 8.120e+02, 8.930e+02, 1.057e+03,\n",
       "        1.115e+03, 1.247e+03, 1.317e+03, 1.476e+03, 1.512e+03, 1.726e+03,\n",
       "        1.835e+03, 1.933e+03, 2.013e+03, 2.164e+03, 2.140e+03, 2.293e+03,\n",
       "        2.405e+03, 2.423e+03, 2.523e+03, 2.591e+03, 2.653e+03, 2.699e+03,\n",
       "        2.848e+03, 2.820e+03, 2.747e+03, 2.897e+03, 2.948e+03, 3.012e+03,\n",
       "        3.077e+03, 3.119e+03, 3.168e+03, 3.284e+03, 3.371e+03, 3.328e+03,\n",
       "        3.459e+03, 3.542e+03, 3.413e+03, 3.518e+03, 3.472e+03, 3.479e+03,\n",
       "        3.544e+03, 3.425e+03, 3.380e+03, 3.458e+03, 3.397e+03, 3.442e+03,\n",
       "        3.326e+03, 3.398e+03, 3.348e+03, 3.270e+03, 3.186e+03, 3.082e+03,\n",
       "        3.046e+03, 2.949e+03, 2.843e+03, 2.667e+03, 2.686e+03, 2.515e+03,\n",
       "        2.433e+03, 2.300e+03, 2.144e+03, 1.968e+03, 1.863e+03, 1.699e+03,\n",
       "        1.657e+03, 1.482e+03, 1.377e+03, 1.317e+03, 1.125e+03, 9.960e+02,\n",
       "        1.024e+03, 9.120e+02, 8.220e+02, 7.910e+02, 7.810e+02, 8.020e+02,\n",
       "        8.500e+02, 8.680e+02, 7.930e+02, 5.900e+02, 3.730e+02, 2.360e+02,\n",
       "        1.220e+02, 6.100e+01, 4.800e+01, 3.600e+01, 2.600e+01, 1.900e+01,\n",
       "        1.500e+01, 1.200e+01, 1.300e+01, 5.000e+00, 5.000e+00, 5.000e+00,\n",
       "        4.000e+00, 1.000e+00, 2.000e+00, 2.000e+00, 0.000e+00, 0.000e+00,\n",
       "        0.000e+00, 0.000e+00, 0.000e+00, 0.000e+00, 1.000e+00]),\n",
       " array([ 6.3183   ,  6.4011248,  6.4839496,  6.5667744,  6.6495992,\n",
       "         6.732424 ,  6.8152488,  6.8980736,  6.9808984,  7.0637232,\n",
       "         7.146548 ,  7.2293728,  7.3121976,  7.3950224,  7.4778472,\n",
       "         7.560672 ,  7.6434968,  7.7263216,  7.8091464,  7.8919712,\n",
       "         7.974796 ,  8.0576208,  8.1404456,  8.2232704,  8.3060952,\n",
       "         8.38892  ,  8.4717448,  8.5545696,  8.6373944,  8.7202192,\n",
       "         8.803044 ,  8.8858688,  8.9686936,  9.0515184,  9.1343432,\n",
       "         9.217168 ,  9.2999928,  9.3828176,  9.4656424,  9.5484672,\n",
       "         9.631292 ,  9.7141168,  9.7969416,  9.8797664,  9.9625912,\n",
       "        10.045416 , 10.1282408, 10.2110656, 10.2938904, 10.3767152,\n",
       "        10.45954  , 10.5423648, 10.6251896, 10.7080144, 10.7908392,\n",
       "        10.873664 , 10.9564888, 11.0393136, 11.1221384, 11.2049632,\n",
       "        11.287788 , 11.3706128, 11.4534376, 11.5362624, 11.6190872,\n",
       "        11.701912 , 11.7847368, 11.8675616, 11.9503864, 12.0332112,\n",
       "        12.116036 , 12.1988608, 12.2816856, 12.3645104, 12.4473352,\n",
       "        12.53016  , 12.6129848, 12.6958096, 12.7786344, 12.8614592,\n",
       "        12.944284 , 13.0271088, 13.1099336, 13.1927584, 13.2755832,\n",
       "        13.358408 , 13.4412328, 13.5240576, 13.6068824, 13.6897072,\n",
       "        13.772532 , 13.8553568, 13.9381816, 14.0210064, 14.1038312,\n",
       "        14.186656 , 14.2694808, 14.3523056, 14.4351304, 14.5179552,\n",
       "        14.60078  , 14.6836048, 14.7664296, 14.8492544, 14.9320792,\n",
       "        15.014904 , 15.0977288, 15.1805536, 15.2633784, 15.3462032,\n",
       "        15.429028 , 15.5118528, 15.5946776, 15.6775024, 15.7603272,\n",
       "        15.843152 , 15.9259768, 16.0088016, 16.0916264, 16.1744512,\n",
       "        16.257276 , 16.3401008, 16.4229256, 16.5057504, 16.5885752,\n",
       "        16.6714   ]),\n",
       " <a list of 125 Patch objects>)"
      ]
     },
     "execution_count": 93,
     "metadata": {},
     "output_type": "execute_result"
    },
    {
     "data": {
      "image/png": "[encoded data removed]",
      "text/plain": [
       "<Figure size 432x288 with 1 Axes>"
      ]
     },
     "metadata": {
      "needs_background": "light"
     },
     "output_type": "display_data"
    }
   ],
   "source": [
    "%matplotlib inline\n",
    "plt.hist(training_data['var_4'],bins='auto')"
   ]
  },
  {
   "cell_type": "code",
   "execution_count": 28,
   "metadata": {},
   "outputs": [
    {
     "data": {
      "text/plain": [
       "(array([2.000e+00, 0.000e+00, 2.000e+00, 3.000e+00, 2.000e+00, 8.000e+00,\n",
       "        8.000e+00, 1.600e+01, 2.000e+01, 4.900e+01, 4.800e+01, 6.100e+01,\n",
       "        1.030e+02, 1.170e+02, 1.530e+02, 2.080e+02, 2.300e+02, 3.150e+02,\n",
       "        4.040e+02, 5.130e+02, 6.130e+02, 7.260e+02, 8.190e+02, 9.770e+02,\n",
       "        1.131e+03, 1.293e+03, 1.401e+03, 1.608e+03, 1.790e+03, 1.921e+03,\n",
       "        2.096e+03, 2.248e+03, 2.286e+03, 2.410e+03, 2.554e+03, 2.567e+03,\n",
       "        2.644e+03, 2.698e+03, 2.812e+03, 2.727e+03, 2.835e+03, 2.830e+03,\n",
       "        2.897e+03, 2.909e+03, 2.964e+03, 3.009e+03, 2.951e+03, 3.030e+03,\n",
       "        3.096e+03, 3.005e+03, 3.171e+03, 3.295e+03, 3.256e+03, 3.223e+03,\n",
       "        3.209e+03, 3.251e+03, 3.298e+03, 3.266e+03, 3.299e+03, 3.263e+03,\n",
       "        3.434e+03, 3.406e+03, 3.403e+03, 3.399e+03, 3.452e+03, 3.476e+03,\n",
       "        3.539e+03, 3.522e+03, 3.544e+03, 3.534e+03, 3.541e+03, 3.517e+03,\n",
       "        3.440e+03, 3.323e+03, 3.257e+03, 3.221e+03, 2.974e+03, 2.878e+03,\n",
       "        2.779e+03, 2.440e+03, 2.238e+03, 2.063e+03, 1.710e+03, 1.607e+03,\n",
       "        1.453e+03, 1.236e+03, 1.095e+03, 9.530e+02, 8.300e+02, 7.080e+02,\n",
       "        6.330e+02, 6.000e+02, 5.670e+02, 5.030e+02, 5.140e+02, 5.600e+02,\n",
       "        5.460e+02, 5.120e+02, 4.790e+02, 4.060e+02, 3.290e+02, 2.740e+02,\n",
       "        2.150e+02, 1.350e+02, 7.400e+01, 3.800e+01, 2.300e+01, 1.500e+01,\n",
       "        6.000e+00, 5.000e+00]),\n",
       " array([-29.1883    , -28.76611909, -28.34393818, -27.92175727,\n",
       "        -27.49957636, -27.07739545, -26.65521455, -26.23303364,\n",
       "        -25.81085273, -25.38867182, -24.96649091, -24.54431   ,\n",
       "        -24.12212909, -23.69994818, -23.27776727, -22.85558636,\n",
       "        -22.43340545, -22.01122455, -21.58904364, -21.16686273,\n",
       "        -20.74468182, -20.32250091, -19.90032   , -19.47813909,\n",
       "        -19.05595818, -18.63377727, -18.21159636, -17.78941545,\n",
       "        -17.36723455, -16.94505364, -16.52287273, -16.10069182,\n",
       "        -15.67851091, -15.25633   , -14.83414909, -14.41196818,\n",
       "        -13.98978727, -13.56760636, -13.14542545, -12.72324455,\n",
       "        -12.30106364, -11.87888273, -11.45670182, -11.03452091,\n",
       "        -10.61234   , -10.19015909,  -9.76797818,  -9.34579727,\n",
       "         -8.92361636,  -8.50143545,  -8.07925455,  -7.65707364,\n",
       "         -7.23489273,  -6.81271182,  -6.39053091,  -5.96835   ,\n",
       "         -5.54616909,  -5.12398818,  -4.70180727,  -4.27962636,\n",
       "         -3.85744545,  -3.43526455,  -3.01308364,  -2.59090273,\n",
       "         -2.16872182,  -1.74654091,  -1.32436   ,  -0.90217909,\n",
       "         -0.47999818,  -0.05781727,   0.36436364,   0.78654455,\n",
       "          1.20872545,   1.63090636,   2.05308727,   2.47526818,\n",
       "          2.89744909,   3.31963   ,   3.74181091,   4.16399182,\n",
       "          4.58617273,   5.00835364,   5.43053455,   5.85271545,\n",
       "          6.27489636,   6.69707727,   7.11925818,   7.54143909,\n",
       "          7.96362   ,   8.38580091,   8.80798182,   9.23016273,\n",
       "          9.65234364,  10.07452455,  10.49670545,  10.91888636,\n",
       "         11.34106727,  11.76324818,  12.18542909,  12.60761   ,\n",
       "         13.02979091,  13.45197182,  13.87415273,  14.29633364,\n",
       "         14.71851455,  15.14069545,  15.56287636,  15.98505727,\n",
       "         16.40723818,  16.82941909,  17.2516    ]),\n",
       " <a list of 110 Patch objects>)"
      ]
     },
     "execution_count": 28,
     "metadata": {},
     "output_type": "execute_result"
    },
    {
     "data": {
      "image/png": "[encoded data removed]",
      "text/plain": [
       "<Figure size 432x288 with 1 Axes>"
      ]
     },
     "metadata": {
      "needs_background": "light"
     },
     "output_type": "display_data"
    }
   ],
   "source": [
    "%matplotlib inline \n",
    "plt.hist(training_data['var_5'],bins='auto')"
   ]
  },
  {
   "cell_type": "code",
   "execution_count": 29,
   "metadata": {},
   "outputs": [
    {
     "data": {
      "text/plain": [
       "(array([1.600e+01, 3.800e+01, 3.000e+01, 2.800e+01, 4.600e+01, 4.900e+01,\n",
       "        6.800e+01, 7.900e+01, 7.500e+01, 1.150e+02, 1.440e+02, 1.460e+02,\n",
       "        1.970e+02, 2.700e+02, 2.440e+02, 3.080e+02, 3.310e+02, 4.200e+02,\n",
       "        5.060e+02, 5.750e+02, 6.530e+02, 7.380e+02, 7.880e+02, 8.860e+02,\n",
       "        1.050e+03, 1.122e+03, 1.245e+03, 1.423e+03, 1.471e+03, 1.556e+03,\n",
       "        1.784e+03, 1.821e+03, 1.907e+03, 2.016e+03, 2.301e+03, 2.335e+03,\n",
       "        2.519e+03, 2.519e+03, 2.831e+03, 2.901e+03, 2.813e+03, 3.030e+03,\n",
       "        3.071e+03, 3.052e+03, 3.138e+03, 3.221e+03, 3.247e+03, 3.241e+03,\n",
       "        3.309e+03, 3.406e+03, 3.266e+03, 3.336e+03, 3.339e+03, 3.363e+03,\n",
       "        3.298e+03, 3.279e+03, 3.262e+03, 3.187e+03, 3.315e+03, 3.167e+03,\n",
       "        3.240e+03, 3.201e+03, 3.192e+03, 3.208e+03, 3.377e+03, 3.340e+03,\n",
       "        3.402e+03, 3.399e+03, 3.298e+03, 3.204e+03, 3.254e+03, 3.163e+03,\n",
       "        2.843e+03, 2.735e+03, 2.589e+03, 2.513e+03, 2.409e+03, 2.244e+03,\n",
       "        2.126e+03, 2.000e+03, 1.964e+03, 1.874e+03, 1.768e+03, 1.664e+03,\n",
       "        1.513e+03, 1.501e+03, 1.392e+03, 1.302e+03, 1.193e+03, 1.094e+03,\n",
       "        1.042e+03, 9.100e+02, 8.740e+02, 8.110e+02, 7.420e+02, 6.640e+02,\n",
       "        6.940e+02, 7.160e+02, 6.160e+02, 5.740e+02, 5.600e+02, 4.800e+02,\n",
       "        5.060e+02, 4.540e+02, 4.460e+02, 3.990e+02, 3.070e+02, 3.140e+02,\n",
       "        2.980e+02, 2.310e+02, 1.560e+02, 1.240e+02, 8.200e+01, 5.900e+01,\n",
       "        2.700e+01, 2.600e+01, 1.800e+01, 4.000e+00, 5.000e+00, 3.000e+00,\n",
       "        2.000e+00, 3.000e+00, 1.000e+00, 1.000e+00, 0.000e+00, 1.000e+00,\n",
       "        1.000e+00, 0.000e+00, 2.000e+00]),\n",
       " array([2.917     , 2.95987364, 3.00274729, 3.04562093, 3.08849457,\n",
       "        3.13136822, 3.17424186, 3.2171155 , 3.25998915, 3.30286279,\n",
       "        3.34573643, 3.38861008, 3.43148372, 3.47435736, 3.51723101,\n",
       "        3.56010465, 3.60297829, 3.64585194, 3.68872558, 3.73159922,\n",
       "        3.77447287, 3.81734651, 3.86022016, 3.9030938 , 3.94596744,\n",
       "        3.98884109, 4.03171473, 4.07458837, 4.11746202, 4.16033566,\n",
       "        4.2032093 , 4.24608295, 4.28895659, 4.33183023, 4.37470388,\n",
       "        4.41757752, 4.46045116, 4.50332481, 4.54619845, 4.58907209,\n",
       "        4.63194574, 4.67481938, 4.71769302, 4.76056667, 4.80344031,\n",
       "        4.84631395, 4.8891876 , 4.93206124, 4.97493488, 5.01780853,\n",
       "        5.06068217, 5.10355581, 5.14642946, 5.1893031 , 5.23217674,\n",
       "        5.27505039, 5.31792403, 5.36079767, 5.40367132, 5.44654496,\n",
       "        5.4894186 , 5.53229225, 5.57516589, 5.61803953, 5.66091318,\n",
       "        5.70378682, 5.74666047, 5.78953411, 5.83240775, 5.8752814 ,\n",
       "        5.91815504, 5.96102868, 6.00390233, 6.04677597, 6.08964961,\n",
       "        6.13252326, 6.1753969 , 6.21827054, 6.26114419, 6.30401783,\n",
       "        6.34689147, 6.38976512, 6.43263876, 6.4755124 , 6.51838605,\n",
       "        6.56125969, 6.60413333, 6.64700698, 6.68988062, 6.73275426,\n",
       "        6.77562791, 6.81850155, 6.86137519, 6.90424884, 6.94712248,\n",
       "        6.98999612, 7.03286977, 7.07574341, 7.11861705, 7.1614907 ,\n",
       "        7.20436434, 7.24723798, 7.29011163, 7.33298527, 7.37585891,\n",
       "        7.41873256, 7.4616062 , 7.50447984, 7.54735349, 7.59022713,\n",
       "        7.63310078, 7.67597442, 7.71884806, 7.76172171, 7.80459535,\n",
       "        7.84746899, 7.89034264, 7.93321628, 7.97608992, 8.01896357,\n",
       "        8.06183721, 8.10471085, 8.1475845 , 8.19045814, 8.23333178,\n",
       "        8.27620543, 8.31907907, 8.36195271, 8.40482636, 8.4477    ]),\n",
       " <a list of 129 Patch objects>)"
      ]
     },
     "execution_count": 29,
     "metadata": {},
     "output_type": "execute_result"
    },
    {
     "data": {
      "image/png": "[encoded data removed]",
      "text/plain": [
       "<Figure size 432x288 with 1 Axes>"
      ]
     },
     "metadata": {
      "needs_background": "light"
     },
     "output_type": "display_data"
    }
   ],
   "source": [
    "%matplotlib inline \n",
    "plt.hist(training_data['var_6'],bins='auto')"
   ]
  },
  {
   "cell_type": "code",
   "execution_count": 43,
   "metadata": {},
   "outputs": [
    {
     "data": {
      "text/plain": [
       "(array([2.000e+00, 0.000e+00, 4.000e+00, 4.000e+00, 4.000e+00, 2.000e+00,\n",
       "        1.400e+01, 1.700e+01, 2.900e+01, 3.600e+01, 4.600e+01, 4.200e+01,\n",
       "        6.000e+01, 1.060e+02, 1.430e+02, 2.410e+02, 3.110e+02, 5.350e+02,\n",
       "        8.150e+02, 9.930e+02, 1.133e+03, 1.058e+03, 1.073e+03, 1.127e+03,\n",
       "        1.187e+03, 1.263e+03, 1.280e+03, 1.500e+03, 1.633e+03, 1.765e+03,\n",
       "        1.906e+03, 2.089e+03, 2.290e+03, 2.402e+03, 2.472e+03, 2.667e+03,\n",
       "        2.715e+03, 2.854e+03, 3.090e+03, 3.051e+03, 3.241e+03, 3.220e+03,\n",
       "        3.249e+03, 3.321e+03, 3.423e+03, 3.460e+03, 3.405e+03, 3.434e+03,\n",
       "        3.425e+03, 3.334e+03, 3.339e+03, 3.468e+03, 3.353e+03, 3.388e+03,\n",
       "        3.269e+03, 3.221e+03, 3.327e+03, 3.201e+03, 3.294e+03, 3.200e+03,\n",
       "        3.280e+03, 3.218e+03, 3.279e+03, 3.246e+03, 3.204e+03, 3.223e+03,\n",
       "        3.216e+03, 3.057e+03, 3.125e+03, 2.928e+03, 2.869e+03, 2.838e+03,\n",
       "        2.699e+03, 2.626e+03, 2.518e+03, 2.608e+03, 2.465e+03, 2.384e+03,\n",
       "        2.292e+03, 2.196e+03, 2.098e+03, 1.982e+03, 1.987e+03, 1.792e+03,\n",
       "        1.598e+03, 1.491e+03, 1.363e+03, 1.250e+03, 1.107e+03, 1.073e+03,\n",
       "        9.930e+02, 8.010e+02, 7.230e+02, 6.720e+02, 5.710e+02, 5.180e+02,\n",
       "        4.040e+02, 3.670e+02, 3.030e+02, 2.410e+02, 1.830e+02, 1.960e+02,\n",
       "        1.200e+02, 1.020e+02, 7.800e+01, 4.700e+01, 4.000e+01, 3.500e+01,\n",
       "        2.700e+01, 2.600e+01, 2.000e+01, 9.000e+00, 9.000e+00, 6.000e+00,\n",
       "        6.000e+00, 2.000e+00, 1.000e+00, 3.000e+00]),\n",
       " array([ 6.4653    ,  6.64518559,  6.82507119,  7.00495678,  7.18484237,\n",
       "         7.36472797,  7.54461356,  7.72449915,  7.90438475,  8.08427034,\n",
       "         8.26415593,  8.44404153,  8.62392712,  8.80381271,  8.98369831,\n",
       "         9.1635839 ,  9.34346949,  9.52335508,  9.70324068,  9.88312627,\n",
       "        10.06301186, 10.24289746, 10.42278305, 10.60266864, 10.78255424,\n",
       "        10.96243983, 11.14232542, 11.32221102, 11.50209661, 11.6819822 ,\n",
       "        11.8618678 , 12.04175339, 12.22163898, 12.40152458, 12.58141017,\n",
       "        12.76129576, 12.94118136, 13.12106695, 13.30095254, 13.48083814,\n",
       "        13.66072373, 13.84060932, 14.02049492, 14.20038051, 14.3802661 ,\n",
       "        14.56015169, 14.74003729, 14.91992288, 15.09980847, 15.27969407,\n",
       "        15.45957966, 15.63946525, 15.81935085, 15.99923644, 16.17912203,\n",
       "        16.35900763, 16.53889322, 16.71877881, 16.89866441, 17.07855   ,\n",
       "        17.25843559, 17.43832119, 17.61820678, 17.79809237, 17.97797797,\n",
       "        18.15786356, 18.33774915, 18.51763475, 18.69752034, 18.87740593,\n",
       "        19.05729153, 19.23717712, 19.41706271, 19.59694831, 19.7768339 ,\n",
       "        19.95671949, 20.13660508, 20.31649068, 20.49637627, 20.67626186,\n",
       "        20.85614746, 21.03603305, 21.21591864, 21.39580424, 21.57568983,\n",
       "        21.75557542, 21.93546102, 22.11534661, 22.2952322 , 22.4751178 ,\n",
       "        22.65500339, 22.83488898, 23.01477458, 23.19466017, 23.37454576,\n",
       "        23.55443136, 23.73431695, 23.91420254, 24.09408814, 24.27397373,\n",
       "        24.45385932, 24.63374492, 24.81363051, 24.9935161 , 25.17340169,\n",
       "        25.35328729, 25.53317288, 25.71305847, 25.89294407, 26.07282966,\n",
       "        26.25271525, 26.43260085, 26.61248644, 26.79237203, 26.97225763,\n",
       "        27.15214322, 27.33202881, 27.51191441, 27.6918    ]),\n",
       " <a list of 118 Patch objects>)"
      ]
     },
     "execution_count": 43,
     "metadata": {},
     "output_type": "execute_result"
    },
    {
     "data": {
      "image/png": "[encoded data removed]",
      "text/plain": [
       "<Figure size 432x288 with 1 Axes>"
      ]
     },
     "metadata": {
      "needs_background": "light"
     },
     "output_type": "display_data"
    }
   ],
   "source": [
    "%matplotlib inline \n",
    "plt.hist(training_data['var_7'],bins='auto')"
   ]
  },
  {
   "cell_type": "code",
   "execution_count": 44,
   "metadata": {},
   "outputs": [
    {
     "data": {
      "text/plain": [
       "(array([3.000e+00, 1.000e+00, 7.000e+00, 5.000e+00, 7.000e+00, 1.100e+01,\n",
       "        1.700e+01, 1.800e+01, 4.900e+01, 7.000e+01, 1.000e+02, 1.290e+02,\n",
       "        1.440e+02, 1.710e+02, 2.300e+02, 2.660e+02, 3.230e+02, 3.850e+02,\n",
       "        4.820e+02, 6.240e+02, 6.730e+02, 7.860e+02, 9.510e+02, 1.055e+03,\n",
       "        1.136e+03, 1.290e+03, 1.477e+03, 1.670e+03, 1.806e+03, 1.869e+03,\n",
       "        2.066e+03, 2.194e+03, 2.270e+03, 2.324e+03, 2.542e+03, 2.660e+03,\n",
       "        2.651e+03, 2.795e+03, 2.884e+03, 2.947e+03, 3.115e+03, 3.003e+03,\n",
       "        3.094e+03, 3.122e+03, 3.199e+03, 3.124e+03, 3.261e+03, 3.205e+03,\n",
       "        3.118e+03, 3.163e+03, 3.149e+03, 3.191e+03, 3.131e+03, 3.194e+03,\n",
       "        3.160e+03, 3.294e+03, 3.233e+03, 3.302e+03, 3.202e+03, 3.200e+03,\n",
       "        3.375e+03, 3.306e+03, 3.321e+03, 3.419e+03, 3.466e+03, 3.461e+03,\n",
       "        3.487e+03, 3.506e+03, 3.517e+03, 3.522e+03, 3.409e+03, 3.454e+03,\n",
       "        3.449e+03, 3.195e+03, 3.206e+03, 3.015e+03, 2.930e+03, 2.787e+03,\n",
       "        2.582e+03, 2.424e+03, 2.353e+03, 2.199e+03, 2.043e+03, 1.794e+03,\n",
       "        1.732e+03, 1.553e+03, 1.415e+03, 1.235e+03, 1.024e+03, 8.080e+02,\n",
       "        6.790e+02, 5.100e+02, 3.750e+02, 2.660e+02, 1.960e+02, 1.380e+02,\n",
       "        9.000e+01, 6.500e+01, 5.400e+01, 4.600e+01, 2.400e+01, 2.100e+01,\n",
       "        1.400e+01, 1.500e+01, 4.000e+00, 4.000e+00, 5.000e+00, 2.000e+00,\n",
       "        1.000e+00, 2.000e+00]),\n",
       " array([-9.9911    , -9.80798727, -9.62487455, -9.44176182, -9.25864909,\n",
       "        -9.07553636, -8.89242364, -8.70931091, -8.52619818, -8.34308545,\n",
       "        -8.15997273, -7.97686   , -7.79374727, -7.61063455, -7.42752182,\n",
       "        -7.24440909, -7.06129636, -6.87818364, -6.69507091, -6.51195818,\n",
       "        -6.32884545, -6.14573273, -5.96262   , -5.77950727, -5.59639455,\n",
       "        -5.41328182, -5.23016909, -5.04705636, -4.86394364, -4.68083091,\n",
       "        -4.49771818, -4.31460545, -4.13149273, -3.94838   , -3.76526727,\n",
       "        -3.58215455, -3.39904182, -3.21592909, -3.03281636, -2.84970364,\n",
       "        -2.66659091, -2.48347818, -2.30036545, -2.11725273, -1.93414   ,\n",
       "        -1.75102727, -1.56791455, -1.38480182, -1.20168909, -1.01857636,\n",
       "        -0.83546364, -0.65235091, -0.46923818, -0.28612545, -0.10301273,\n",
       "         0.0801    ,  0.26321273,  0.44632545,  0.62943818,  0.81255091,\n",
       "         0.99566364,  1.17877636,  1.36188909,  1.54500182,  1.72811455,\n",
       "         1.91122727,  2.09434   ,  2.27745273,  2.46056545,  2.64367818,\n",
       "         2.82679091,  3.00990364,  3.19301636,  3.37612909,  3.55924182,\n",
       "         3.74235455,  3.92546727,  4.10858   ,  4.29169273,  4.47480545,\n",
       "         4.65791818,  4.84103091,  5.02414364,  5.20725636,  5.39036909,\n",
       "         5.57348182,  5.75659455,  5.93970727,  6.12282   ,  6.30593273,\n",
       "         6.48904545,  6.67215818,  6.85527091,  7.03838364,  7.22149636,\n",
       "         7.40460909,  7.58772182,  7.77083455,  7.95394727,  8.13706   ,\n",
       "         8.32017273,  8.50328545,  8.68639818,  8.86951091,  9.05262364,\n",
       "         9.23573636,  9.41884909,  9.60196182,  9.78507455,  9.96818727,\n",
       "        10.1513    ]),\n",
       " <a list of 110 Patch objects>)"
      ]
     },
     "execution_count": 44,
     "metadata": {},
     "output_type": "execute_result"
    },
    {
     "data": {
      "image/png": "[encoded data removed]",
      "text/plain": [
       "<Figure size 432x288 with 1 Axes>"
      ]
     },
     "metadata": {
      "needs_background": "light"
     },
     "output_type": "display_data"
    }
   ],
   "source": [
    "%matplotlib inline \n",
    "plt.hist(training_data['var_8'],bins='auto')"
   ]
  },
  {
   "cell_type": "code",
   "execution_count": 45,
   "metadata": {},
   "outputs": [
    {
     "data": {
      "text/plain": [
       "(array([1.000e+00, 0.000e+00, 1.000e+00, 6.000e+00, 1.300e+01, 7.400e+01,\n",
       "        1.530e+02, 2.520e+02, 3.160e+02, 3.380e+02, 3.650e+02, 3.960e+02,\n",
       "        3.720e+02, 4.440e+02, 4.770e+02, 5.350e+02, 6.110e+02, 6.600e+02,\n",
       "        7.710e+02, 8.540e+02, 9.130e+02, 1.082e+03, 1.250e+03, 1.325e+03,\n",
       "        1.570e+03, 1.702e+03, 1.914e+03, 1.981e+03, 2.129e+03, 2.283e+03,\n",
       "        2.433e+03, 2.541e+03, 2.584e+03, 2.701e+03, 2.928e+03, 2.933e+03,\n",
       "        2.986e+03, 2.963e+03, 2.922e+03, 2.947e+03, 3.266e+03, 3.189e+03,\n",
       "        3.293e+03, 3.239e+03, 3.058e+03, 3.092e+03, 3.217e+03, 3.239e+03,\n",
       "        3.150e+03, 3.169e+03, 3.208e+03, 3.182e+03, 3.222e+03, 3.620e+03,\n",
       "        4.228e+03, 4.034e+03, 3.490e+03, 3.150e+03, 3.042e+03, 2.899e+03,\n",
       "        3.056e+03, 3.100e+03, 3.148e+03, 3.321e+03, 3.368e+03, 3.351e+03,\n",
       "        3.376e+03, 3.507e+03, 3.503e+03, 3.513e+03, 3.560e+03, 3.430e+03,\n",
       "        3.459e+03, 3.314e+03, 3.048e+03, 2.982e+03, 2.665e+03, 2.475e+03,\n",
       "        2.252e+03, 1.863e+03, 1.732e+03, 1.488e+03, 1.198e+03, 1.038e+03,\n",
       "        8.720e+02, 6.630e+02, 5.240e+02, 4.150e+02, 3.150e+02, 2.560e+02,\n",
       "        1.340e+02, 1.370e+02, 9.500e+01, 6.100e+01, 4.400e+01, 2.900e+01,\n",
       "        1.700e+01, 9.000e+00, 8.000e+00, 1.000e+00, 2.000e+00, 1.000e+00,\n",
       "        0.000e+00, 0.000e+00, 3.000e+00]),\n",
       " array([ 3.9705    ,  4.0388819 ,  4.10726381,  4.17564571,  4.24402762,\n",
       "         4.31240952,  4.38079143,  4.44917333,  4.51755524,  4.58593714,\n",
       "         4.65431905,  4.72270095,  4.79108286,  4.85946476,  4.92784667,\n",
       "         4.99622857,  5.06461048,  5.13299238,  5.20137429,  5.26975619,\n",
       "         5.3381381 ,  5.40652   ,  5.4749019 ,  5.54328381,  5.61166571,\n",
       "         5.68004762,  5.74842952,  5.81681143,  5.88519333,  5.95357524,\n",
       "         6.02195714,  6.09033905,  6.15872095,  6.22710286,  6.29548476,\n",
       "         6.36386667,  6.43224857,  6.50063048,  6.56901238,  6.63739429,\n",
       "         6.70577619,  6.7741581 ,  6.84254   ,  6.9109219 ,  6.97930381,\n",
       "         7.04768571,  7.11606762,  7.18444952,  7.25283143,  7.32121333,\n",
       "         7.38959524,  7.45797714,  7.52635905,  7.59474095,  7.66312286,\n",
       "         7.73150476,  7.79988667,  7.86826857,  7.93665048,  8.00503238,\n",
       "         8.07341429,  8.14179619,  8.2101781 ,  8.27856   ,  8.3469419 ,\n",
       "         8.41532381,  8.48370571,  8.55208762,  8.62046952,  8.68885143,\n",
       "         8.75723333,  8.82561524,  8.89399714,  8.96237905,  9.03076095,\n",
       "         9.09914286,  9.16752476,  9.23590667,  9.30428857,  9.37267048,\n",
       "         9.44105238,  9.50943429,  9.57781619,  9.6461981 ,  9.71458   ,\n",
       "         9.7829619 ,  9.85134381,  9.91972571,  9.98810762, 10.05648952,\n",
       "        10.12487143, 10.19325333, 10.26163524, 10.33001714, 10.39839905,\n",
       "        10.46678095, 10.53516286, 10.60354476, 10.67192667, 10.74030857,\n",
       "        10.80869048, 10.87707238, 10.94545429, 11.01383619, 11.0822181 ,\n",
       "        11.1506    ]),\n",
       " <a list of 105 Patch objects>)"
      ]
     },
     "execution_count": 45,
     "metadata": {},
     "output_type": "execute_result"
    },
    {
     "data": {
      "image/png": "[encoded data removed]",
      "text/plain": [
       "<Figure size 432x288 with 1 Axes>"
      ]
     },
     "metadata": {
      "needs_background": "light"
     },
     "output_type": "display_data"
    }
   ],
   "source": [
    "%matplotlib inline \n",
    "plt.hist(training_data['var_9'],bins='auto')"
   ]
  },
  {
   "cell_type": "code",
   "execution_count": 46,
   "metadata": {},
   "outputs": [
    {
     "data": {
      "text/plain": [
       "(array([1.000e+00, 0.000e+00, 0.000e+00, 0.000e+00, 2.000e+00, 0.000e+00,\n",
       "        0.000e+00, 0.000e+00, 2.000e+00, 2.000e+00, 2.000e+00, 1.000e+00,\n",
       "        7.000e+00, 8.000e+00, 4.000e+00, 2.200e+01, 1.600e+01, 1.900e+01,\n",
       "        2.200e+01, 2.500e+01, 3.400e+01, 5.300e+01, 5.900e+01, 8.400e+01,\n",
       "        7.600e+01, 9.000e+01, 1.210e+02, 1.650e+02, 1.870e+02, 2.270e+02,\n",
       "        2.440e+02, 2.750e+02, 3.370e+02, 3.620e+02, 4.270e+02, 4.840e+02,\n",
       "        5.680e+02, 6.220e+02, 7.140e+02, 8.490e+02, 8.820e+02, 9.770e+02,\n",
       "        1.028e+03, 1.174e+03, 1.294e+03, 1.415e+03, 1.461e+03, 1.534e+03,\n",
       "        1.698e+03, 1.799e+03, 1.900e+03, 1.972e+03, 2.122e+03, 2.151e+03,\n",
       "        2.186e+03, 2.356e+03, 2.452e+03, 2.462e+03, 2.584e+03, 2.780e+03,\n",
       "        2.643e+03, 2.775e+03, 2.750e+03, 2.881e+03, 3.047e+03, 3.043e+03,\n",
       "        3.013e+03, 3.039e+03, 3.138e+03, 3.165e+03, 3.334e+03, 3.422e+03,\n",
       "        3.383e+03, 3.461e+03, 3.481e+03, 3.580e+03, 3.409e+03, 3.403e+03,\n",
       "        3.585e+03, 3.503e+03, 3.423e+03, 3.426e+03, 3.469e+03, 3.417e+03,\n",
       "        3.412e+03, 3.326e+03, 3.327e+03, 3.143e+03, 3.121e+03, 3.081e+03,\n",
       "        2.934e+03, 3.035e+03, 2.768e+03, 2.748e+03, 2.581e+03, 2.538e+03,\n",
       "        2.451e+03, 2.374e+03, 2.241e+03, 2.091e+03, 1.921e+03, 1.897e+03,\n",
       "        1.765e+03, 1.617e+03, 1.458e+03, 1.411e+03, 1.307e+03, 1.230e+03,\n",
       "        1.111e+03, 1.069e+03, 1.017e+03, 9.590e+02, 8.990e+02, 8.130e+02,\n",
       "        6.750e+02, 6.590e+02, 6.130e+02, 5.010e+02, 4.450e+02, 3.300e+02,\n",
       "        2.620e+02, 2.170e+02, 1.640e+02, 9.700e+01, 6.700e+01, 7.700e+01,\n",
       "        4.600e+01, 3.300e+01, 2.400e+01, 1.800e+01, 1.300e+01, 1.000e+01,\n",
       "        3.000e+00, 5.000e+00, 4.000e+00, 3.000e+00, 3.000e+00, 1.000e+00,\n",
       "        2.000e+00, 0.000e+00, 0.000e+00, 1.000e+00]),\n",
       " array([-20.7313    , -20.45382465, -20.1763493 , -19.89887394,\n",
       "        -19.62139859, -19.34392324, -19.06644789, -18.78897254,\n",
       "        -18.51149718, -18.23402183, -17.95654648, -17.67907113,\n",
       "        -17.40159577, -17.12412042, -16.84664507, -16.56916972,\n",
       "        -16.29169437, -16.01421901, -15.73674366, -15.45926831,\n",
       "        -15.18179296, -14.90431761, -14.62684225, -14.3493669 ,\n",
       "        -14.07189155, -13.7944162 , -13.51694085, -13.23946549,\n",
       "        -12.96199014, -12.68451479, -12.40703944, -12.12956408,\n",
       "        -11.85208873, -11.57461338, -11.29713803, -11.01966268,\n",
       "        -10.74218732, -10.46471197, -10.18723662,  -9.90976127,\n",
       "         -9.63228592,  -9.35481056,  -9.07733521,  -8.79985986,\n",
       "         -8.52238451,  -8.24490915,  -7.9674338 ,  -7.68995845,\n",
       "         -7.4124831 ,  -7.13500775,  -6.85753239,  -6.58005704,\n",
       "         -6.30258169,  -6.02510634,  -5.74763099,  -5.47015563,\n",
       "         -5.19268028,  -4.91520493,  -4.63772958,  -4.36025423,\n",
       "         -4.08277887,  -3.80530352,  -3.52782817,  -3.25035282,\n",
       "         -2.97287746,  -2.69540211,  -2.41792676,  -2.14045141,\n",
       "         -1.86297606,  -1.5855007 ,  -1.30802535,  -1.03055   ,\n",
       "         -0.75307465,  -0.4755993 ,  -0.19812394,   0.07935141,\n",
       "          0.35682676,   0.63430211,   0.91177746,   1.18925282,\n",
       "          1.46672817,   1.74420352,   2.02167887,   2.29915423,\n",
       "          2.57662958,   2.85410493,   3.13158028,   3.40905563,\n",
       "          3.68653099,   3.96400634,   4.24148169,   4.51895704,\n",
       "          4.79643239,   5.07390775,   5.3513831 ,   5.62885845,\n",
       "          5.9063338 ,   6.18380915,   6.46128451,   6.73875986,\n",
       "          7.01623521,   7.29371056,   7.57118592,   7.84866127,\n",
       "          8.12613662,   8.40361197,   8.68108732,   8.95856268,\n",
       "          9.23603803,   9.51351338,   9.79098873,  10.06846408,\n",
       "         10.34593944,  10.62341479,  10.90089014,  11.17836549,\n",
       "         11.45584085,  11.7333162 ,  12.01079155,  12.2882669 ,\n",
       "         12.56574225,  12.84321761,  13.12069296,  13.39816831,\n",
       "         13.67564366,  13.95311901,  14.23059437,  14.50806972,\n",
       "         14.78554507,  15.06302042,  15.34049577,  15.61797113,\n",
       "         15.89544648,  16.17292183,  16.45039718,  16.72787254,\n",
       "         17.00534789,  17.28282324,  17.56029859,  17.83777394,\n",
       "         18.1152493 ,  18.39272465,  18.6702    ]),\n",
       " <a list of 142 Patch objects>)"
      ]
     },
     "execution_count": 46,
     "metadata": {},
     "output_type": "execute_result"
    },
    {
     "data": {
      "image/png": "[encoded data removed]",
      "text/plain": [
       "<Figure size 432x288 with 1 Axes>"
      ]
     },
     "metadata": {
      "needs_background": "light"
     },
     "output_type": "display_data"
    }
   ],
   "source": [
    "%matplotlib inline \n",
    "plt.hist(training_data['var_10'],bins='auto')"
   ]
  },
  {
   "cell_type": "code",
   "execution_count": 47,
   "metadata": {},
   "outputs": [
    {
     "data": {
      "text/plain": [
       "(array([4.300e+01, 5.000e+01, 5.000e+01, 8.000e+01, 6.700e+01, 9.600e+01,\n",
       "        1.260e+02, 1.270e+02, 1.670e+02, 1.890e+02, 2.200e+02, 2.570e+02,\n",
       "        3.010e+02, 3.190e+02, 3.640e+02, 4.130e+02, 4.430e+02, 5.520e+02,\n",
       "        5.950e+02, 6.770e+02, 7.020e+02, 8.280e+02, 8.700e+02, 9.830e+02,\n",
       "        1.079e+03, 1.238e+03, 1.250e+03, 1.339e+03, 1.540e+03, 1.572e+03,\n",
       "        1.663e+03, 1.836e+03, 1.957e+03, 1.994e+03, 2.105e+03, 2.238e+03,\n",
       "        2.289e+03, 2.392e+03, 2.617e+03, 2.610e+03, 2.701e+03, 2.718e+03,\n",
       "        2.803e+03, 2.857e+03, 3.017e+03, 3.039e+03, 3.240e+03, 3.074e+03,\n",
       "        3.292e+03, 3.363e+03, 3.223e+03, 3.371e+03, 3.211e+03, 3.321e+03,\n",
       "        3.334e+03, 3.552e+03, 3.330e+03, 3.459e+03, 3.367e+03, 3.624e+03,\n",
       "        3.432e+03, 3.380e+03, 3.369e+03, 3.440e+03, 3.376e+03, 3.409e+03,\n",
       "        3.243e+03, 3.235e+03, 3.131e+03, 3.166e+03, 3.013e+03, 3.014e+03,\n",
       "        2.814e+03, 2.719e+03, 2.610e+03, 2.450e+03, 2.358e+03, 2.389e+03,\n",
       "        2.166e+03, 2.085e+03, 2.081e+03, 1.888e+03, 1.734e+03, 1.577e+03,\n",
       "        1.599e+03, 1.441e+03, 1.345e+03, 1.237e+03, 1.190e+03, 1.094e+03,\n",
       "        1.051e+03, 9.380e+02, 9.330e+02, 9.100e+02, 7.760e+02, 7.510e+02,\n",
       "        7.100e+02, 6.120e+02, 5.920e+02, 5.350e+02, 5.390e+02, 4.780e+02,\n",
       "        4.090e+02, 3.940e+02, 3.760e+02, 3.260e+02, 2.740e+02, 2.640e+02,\n",
       "        1.940e+02, 1.850e+02, 1.510e+02, 1.280e+02, 1.110e+02, 6.700e+01,\n",
       "        5.900e+01, 4.400e+01, 2.700e+01, 1.900e+01, 1.700e+01, 2.000e+01,\n",
       "        1.400e+01, 7.000e+00, 6.000e+00, 3.000e+00, 2.000e+00, 3.000e+00,\n",
       "        1.000e+00, 1.000e+00]),\n",
       " array([-20.053     , -19.76204922, -19.47109844, -19.18014766,\n",
       "        -18.88919687, -18.59824609, -18.30729531, -18.01634453,\n",
       "        -17.72539375, -17.43444297, -17.14349219, -16.85254141,\n",
       "        -16.56159063, -16.27063984, -15.97968906, -15.68873828,\n",
       "        -15.3977875 , -15.10683672, -14.81588594, -14.52493516,\n",
       "        -14.23398438, -13.94303359, -13.65208281, -13.36113203,\n",
       "        -13.07018125, -12.77923047, -12.48827969, -12.19732891,\n",
       "        -11.90637812, -11.61542734, -11.32447656, -11.03352578,\n",
       "        -10.742575  , -10.45162422, -10.16067344,  -9.86972266,\n",
       "         -9.57877188,  -9.28782109,  -8.99687031,  -8.70591953,\n",
       "         -8.41496875,  -8.12401797,  -7.83306719,  -7.54211641,\n",
       "         -7.25116563,  -6.96021484,  -6.66926406,  -6.37831328,\n",
       "         -6.0873625 ,  -5.79641172,  -5.50546094,  -5.21451016,\n",
       "         -4.92355937,  -4.63260859,  -4.34165781,  -4.05070703,\n",
       "         -3.75975625,  -3.46880547,  -3.17785469,  -2.88690391,\n",
       "         -2.59595313,  -2.30500234,  -2.01405156,  -1.72310078,\n",
       "         -1.43215   ,  -1.14119922,  -0.85024844,  -0.55929766,\n",
       "         -0.26834687,   0.02260391,   0.31355469,   0.60450547,\n",
       "          0.89545625,   1.18640703,   1.47735781,   1.76830859,\n",
       "          2.05925937,   2.35021016,   2.64116094,   2.93211172,\n",
       "          3.2230625 ,   3.51401328,   3.80496406,   4.09591484,\n",
       "          4.38686562,   4.67781641,   4.96876719,   5.25971797,\n",
       "          5.55066875,   5.84161953,   6.13257031,   6.42352109,\n",
       "          6.71447188,   7.00542266,   7.29637344,   7.58732422,\n",
       "          7.878275  ,   8.16922578,   8.46017656,   8.75112734,\n",
       "          9.04207812,   9.33302891,   9.62397969,   9.91493047,\n",
       "         10.20588125,  10.49683203,  10.78778281,  11.07873359,\n",
       "         11.36968438,  11.66063516,  11.95158594,  12.24253672,\n",
       "         12.5334875 ,  12.82443828,  13.11538906,  13.40633984,\n",
       "         13.69729062,  13.98824141,  14.27919219,  14.57014297,\n",
       "         14.86109375,  15.15204453,  15.44299531,  15.73394609,\n",
       "         16.02489687,  16.31584766,  16.60679844,  16.89774922,\n",
       "         17.1887    ]),\n",
       " <a list of 128 Patch objects>)"
      ]
     },
     "execution_count": 47,
     "metadata": {},
     "output_type": "execute_result"
    },
    {
     "data": {
      "image/png": "[encoded data removed]",
      "text/plain": [
       "<Figure size 432x288 with 1 Axes>"
      ]
     },
     "metadata": {
      "needs_background": "light"
     },
     "output_type": "display_data"
    }
   ],
   "source": [
    "%matplotlib inline \n",
    "plt.hist(training_data['var_11'],bins='auto')"
   ]
  },
  {
   "cell_type": "code",
   "execution_count": 48,
   "metadata": {},
   "outputs": [
    {
     "data": {
      "text/plain": [
       "(array([5.000e+00, 1.000e+00, 5.000e+00, 5.000e+00, 4.000e+00, 8.000e+00,\n",
       "        2.021e+03, 3.900e+02, 4.080e+02, 4.050e+02, 3.840e+02, 4.220e+02,\n",
       "        4.060e+02, 4.350e+02, 4.500e+02, 4.940e+02, 5.230e+02, 5.120e+02,\n",
       "        5.520e+02, 5.610e+02, 6.790e+02, 7.100e+02, 7.460e+02, 8.410e+02,\n",
       "        9.360e+02, 1.022e+03, 1.046e+03, 1.125e+03, 1.318e+03, 1.378e+03,\n",
       "        1.450e+03, 1.612e+03, 1.892e+03, 1.880e+03, 2.010e+03, 2.118e+03,\n",
       "        2.292e+03, 2.505e+03, 2.518e+03, 2.621e+03, 2.772e+03, 2.854e+03,\n",
       "        2.966e+03, 2.990e+03, 3.212e+03, 3.194e+03, 3.370e+03, 3.509e+03,\n",
       "        3.434e+03, 3.556e+03, 3.423e+03, 3.604e+03, 3.521e+03, 3.312e+03,\n",
       "        3.167e+03, 3.249e+03, 3.468e+03, 3.268e+03, 3.245e+03, 3.385e+03,\n",
       "        3.329e+03, 3.192e+03, 3.274e+03, 3.270e+03, 3.197e+03, 3.131e+03,\n",
       "        3.094e+03, 3.084e+03, 3.074e+03, 3.067e+03, 3.050e+03, 2.862e+03,\n",
       "        2.904e+03, 2.911e+03, 2.809e+03, 2.742e+03, 2.610e+03, 2.440e+03,\n",
       "        2.494e+03, 2.345e+03, 2.177e+03, 2.143e+03, 2.061e+03, 1.823e+03,\n",
       "        1.757e+03, 1.568e+03, 1.531e+03, 1.273e+03, 1.277e+03, 1.145e+03,\n",
       "        1.065e+03, 9.520e+02, 8.640e+02, 8.040e+02, 6.440e+02, 6.370e+02,\n",
       "        5.370e+02, 4.630e+02, 3.900e+02, 3.410e+02, 2.570e+02, 2.500e+02,\n",
       "        2.030e+02, 1.510e+02, 1.540e+02, 1.160e+02, 8.900e+01, 5.700e+01,\n",
       "        6.200e+01, 4.500e+01, 2.800e+01, 2.300e+01, 2.300e+01, 2.500e+01,\n",
       "        1.000e+01, 1.300e+01, 3.000e+00, 5.000e+00, 2.000e+00, 1.000e+00,\n",
       "        2.000e+00, 3.000e+00, 2.000e+00, 2.000e+00]),\n",
       " array([13.4921    , 13.50147419, 13.51084839, 13.52022258, 13.52959677,\n",
       "        13.53897097, 13.54834516, 13.55771935, 13.56709355, 13.57646774,\n",
       "        13.58584194, 13.59521613, 13.60459032, 13.61396452, 13.62333871,\n",
       "        13.6327129 , 13.6420871 , 13.65146129, 13.66083548, 13.67020968,\n",
       "        13.67958387, 13.68895806, 13.69833226, 13.70770645, 13.71708065,\n",
       "        13.72645484, 13.73582903, 13.74520323, 13.75457742, 13.76395161,\n",
       "        13.77332581, 13.7827    , 13.79207419, 13.80144839, 13.81082258,\n",
       "        13.82019677, 13.82957097, 13.83894516, 13.84831935, 13.85769355,\n",
       "        13.86706774, 13.87644194, 13.88581613, 13.89519032, 13.90456452,\n",
       "        13.91393871, 13.9233129 , 13.9326871 , 13.94206129, 13.95143548,\n",
       "        13.96080968, 13.97018387, 13.97955806, 13.98893226, 13.99830645,\n",
       "        14.00768065, 14.01705484, 14.02642903, 14.03580323, 14.04517742,\n",
       "        14.05455161, 14.06392581, 14.0733    , 14.08267419, 14.09204839,\n",
       "        14.10142258, 14.11079677, 14.12017097, 14.12954516, 14.13891935,\n",
       "        14.14829355, 14.15766774, 14.16704194, 14.17641613, 14.18579032,\n",
       "        14.19516452, 14.20453871, 14.2139129 , 14.2232871 , 14.23266129,\n",
       "        14.24203548, 14.25140968, 14.26078387, 14.27015806, 14.27953226,\n",
       "        14.28890645, 14.29828065, 14.30765484, 14.31702903, 14.32640323,\n",
       "        14.33577742, 14.34515161, 14.35452581, 14.3639    , 14.37327419,\n",
       "        14.38264839, 14.39202258, 14.40139677, 14.41077097, 14.42014516,\n",
       "        14.42951935, 14.43889355, 14.44826774, 14.45764194, 14.46701613,\n",
       "        14.47639032, 14.48576452, 14.49513871, 14.5045129 , 14.5138871 ,\n",
       "        14.52326129, 14.53263548, 14.54200968, 14.55138387, 14.56075806,\n",
       "        14.57013226, 14.57950645, 14.58888065, 14.59825484, 14.60762903,\n",
       "        14.61700323, 14.62637742, 14.63575161, 14.64512581, 14.6545    ]),\n",
       " <a list of 124 Patch objects>)"
      ]
     },
     "execution_count": 48,
     "metadata": {},
     "output_type": "execute_result"
    },
    {
     "data": {
      "image/png": "[encoded data removed]",
      "text/plain": [
       "<Figure size 432x288 with 1 Axes>"
      ]
     },
     "metadata": {
      "needs_background": "light"
     },
     "output_type": "display_data"
    }
   ],
   "source": [
    "%matplotlib inline \n",
    "plt.hist(training_data['var_12'],bins='auto')"
   ]
  },
  {
   "cell_type": "code",
   "execution_count": 49,
   "metadata": {},
   "outputs": [
    {
     "data": {
      "text/plain": [
       "(array([2.000e+00, 3.000e+00, 3.000e+00, 3.200e+01, 8.000e+01, 1.720e+02,\n",
       "        2.510e+02, 3.120e+02, 3.490e+02, 3.580e+02, 3.990e+02, 3.770e+02,\n",
       "        4.350e+02, 3.630e+02, 4.390e+02, 4.750e+02, 5.090e+02, 5.430e+02,\n",
       "        6.270e+02, 7.300e+02, 7.960e+02, 9.680e+02, 1.005e+03, 1.145e+03,\n",
       "        1.293e+03, 1.414e+03, 1.529e+03, 1.730e+03, 1.813e+03, 1.918e+03,\n",
       "        2.049e+03, 2.348e+03, 2.431e+03, 2.543e+03, 2.664e+03, 2.774e+03,\n",
       "        2.800e+03, 2.924e+03, 2.935e+03, 3.086e+03, 3.035e+03, 3.096e+03,\n",
       "        3.303e+03, 3.137e+03, 3.193e+03, 3.243e+03, 3.220e+03, 3.238e+03,\n",
       "        3.254e+03, 3.307e+03, 3.357e+03, 3.410e+03, 3.780e+03, 3.897e+03,\n",
       "        3.889e+03, 3.556e+03, 3.220e+03, 3.010e+03, 2.892e+03, 3.035e+03,\n",
       "        3.009e+03, 3.076e+03, 3.125e+03, 3.207e+03, 3.285e+03, 3.207e+03,\n",
       "        3.158e+03, 3.321e+03, 3.335e+03, 3.370e+03, 3.270e+03, 3.369e+03,\n",
       "        3.269e+03, 3.306e+03, 3.095e+03, 3.002e+03, 2.791e+03, 2.693e+03,\n",
       "        2.494e+03, 2.277e+03, 2.148e+03, 1.903e+03, 1.728e+03, 1.431e+03,\n",
       "        1.287e+03, 1.051e+03, 8.650e+02, 7.270e+02, 6.030e+02, 4.510e+02,\n",
       "        3.710e+02, 2.980e+02, 2.280e+02, 1.840e+02, 1.260e+02, 8.200e+01,\n",
       "        6.500e+01, 5.200e+01, 3.500e+01, 1.700e+01, 1.100e+01, 1.100e+01,\n",
       "        6.000e+00, 4.000e+00, 3.000e+00, 0.000e+00, 2.000e+00, 0.000e+00,\n",
       "        2.000e+00]),\n",
       " array([-4.9874    , -4.73676789, -4.48613578, -4.23550367, -3.98487156,\n",
       "        -3.73423945, -3.48360734, -3.23297523, -2.98234312, -2.73171101,\n",
       "        -2.4810789 , -2.23044679, -1.97981468, -1.72918257, -1.47855046,\n",
       "        -1.22791835, -0.97728624, -0.72665413, -0.47602202, -0.22538991,\n",
       "         0.0252422 ,  0.27587431,  0.52650642,  0.77713853,  1.02777064,\n",
       "         1.27840275,  1.52903486,  1.77966697,  2.03029908,  2.28093119,\n",
       "         2.5315633 ,  2.78219541,  3.03282752,  3.28345963,  3.53409174,\n",
       "         3.78472385,  4.03535596,  4.28598807,  4.53662018,  4.78725229,\n",
       "         5.0378844 ,  5.28851651,  5.53914862,  5.78978073,  6.04041284,\n",
       "         6.29104495,  6.54167706,  6.79230917,  7.04294128,  7.29357339,\n",
       "         7.5442055 ,  7.79483761,  8.04546972,  8.29610183,  8.54673394,\n",
       "         8.79736606,  9.04799817,  9.29863028,  9.54926239,  9.7998945 ,\n",
       "        10.05052661, 10.30115872, 10.55179083, 10.80242294, 11.05305505,\n",
       "        11.30368716, 11.55431927, 11.80495138, 12.05558349, 12.3062156 ,\n",
       "        12.55684771, 12.80747982, 13.05811193, 13.30874404, 13.55937615,\n",
       "        13.81000826, 14.06064037, 14.31127248, 14.56190459, 14.8125367 ,\n",
       "        15.06316881, 15.31380092, 15.56443303, 15.81506514, 16.06569725,\n",
       "        16.31632936, 16.56696147, 16.81759358, 17.06822569, 17.3188578 ,\n",
       "        17.56948991, 17.82012202, 18.07075413, 18.32138624, 18.57201835,\n",
       "        18.82265046, 19.07328257, 19.32391468, 19.57454679, 19.8251789 ,\n",
       "        20.07581101, 20.32644312, 20.57707523, 20.82770734, 21.07833945,\n",
       "        21.32897156, 21.57960367, 21.83023578, 22.08086789, 22.3315    ]),\n",
       " <a list of 109 Patch objects>)"
      ]
     },
     "execution_count": 49,
     "metadata": {},
     "output_type": "execute_result"
    },
    {
     "data": {
      "image/png": "[encoded data removed]",
      "text/plain": [
       "<Figure size 432x288 with 1 Axes>"
      ]
     },
     "metadata": {
      "needs_background": "light"
     },
     "output_type": "display_data"
    }
   ],
   "source": [
    "%matplotlib inline \n",
    "plt.hist(training_data['var_13'],bins='auto')"
   ]
  },
  {
   "cell_type": "code",
   "execution_count": 50,
   "metadata": {},
   "outputs": [
    {
     "data": {
      "text/plain": [
       "(array([1.000e+00, 2.000e+00, 3.000e+00, 5.000e+00, 6.000e+00, 9.000e+00,\n",
       "        1.700e+01, 1.900e+01, 3.100e+01, 4.400e+01, 5.900e+01, 8.300e+01,\n",
       "        1.340e+02, 2.070e+02, 3.090e+02, 4.560e+02, 6.400e+02, 7.750e+02,\n",
       "        8.420e+02, 9.340e+02, 9.660e+02, 1.098e+03, 1.214e+03, 1.362e+03,\n",
       "        1.463e+03, 1.615e+03, 1.818e+03, 1.956e+03, 2.098e+03, 2.213e+03,\n",
       "        2.357e+03, 2.524e+03, 2.700e+03, 2.708e+03, 2.894e+03, 2.962e+03,\n",
       "        3.128e+03, 3.161e+03, 2.984e+03, 3.224e+03, 3.249e+03, 3.253e+03,\n",
       "        3.205e+03, 3.291e+03, 3.240e+03, 3.229e+03, 3.310e+03, 3.332e+03,\n",
       "        3.271e+03, 3.278e+03, 3.317e+03, 3.336e+03, 3.251e+03, 3.324e+03,\n",
       "        3.275e+03, 3.282e+03, 3.302e+03, 3.260e+03, 3.327e+03, 3.264e+03,\n",
       "        3.191e+03, 3.266e+03, 3.315e+03, 3.324e+03, 3.154e+03, 3.233e+03,\n",
       "        3.220e+03, 3.130e+03, 3.103e+03, 3.074e+03, 2.991e+03, 2.789e+03,\n",
       "        2.780e+03, 2.700e+03, 2.710e+03, 2.451e+03, 2.387e+03, 2.236e+03,\n",
       "        2.129e+03, 2.055e+03, 1.919e+03, 1.734e+03, 1.633e+03, 1.592e+03,\n",
       "        1.333e+03, 1.188e+03, 1.069e+03, 9.560e+02, 8.210e+02, 7.520e+02,\n",
       "        6.240e+02, 4.990e+02, 4.100e+02, 3.250e+02, 2.940e+02, 2.490e+02,\n",
       "        1.910e+02, 1.710e+02, 1.070e+02, 9.600e+01, 5.000e+01, 5.000e+01,\n",
       "        2.500e+01, 3.200e+01, 2.400e+01, 2.000e+01, 1.100e+01, 7.000e+00,\n",
       "        3.000e+00, 3.000e+00, 1.000e+00, 0.000e+00, 1.000e+00, 0.000e+00,\n",
       "        1.000e+00]),\n",
       " array([ 1.0133    ,  1.13438174,  1.25546348,  1.37654522,  1.49762696,\n",
       "         1.6187087 ,  1.73979043,  1.86087217,  1.98195391,  2.10303565,\n",
       "         2.22411739,  2.34519913,  2.46628087,  2.58736261,  2.70844435,\n",
       "         2.82952609,  2.95060783,  3.07168957,  3.1927713 ,  3.31385304,\n",
       "         3.43493478,  3.55601652,  3.67709826,  3.79818   ,  3.91926174,\n",
       "         4.04034348,  4.16142522,  4.28250696,  4.4035887 ,  4.52467043,\n",
       "         4.64575217,  4.76683391,  4.88791565,  5.00899739,  5.13007913,\n",
       "         5.25116087,  5.37224261,  5.49332435,  5.61440609,  5.73548783,\n",
       "         5.85656957,  5.9776513 ,  6.09873304,  6.21981478,  6.34089652,\n",
       "         6.46197826,  6.58306   ,  6.70414174,  6.82522348,  6.94630522,\n",
       "         7.06738696,  7.1884687 ,  7.30955043,  7.43063217,  7.55171391,\n",
       "         7.67279565,  7.79387739,  7.91495913,  8.03604087,  8.15712261,\n",
       "         8.27820435,  8.39928609,  8.52036783,  8.64144957,  8.7625313 ,\n",
       "         8.88361304,  9.00469478,  9.12577652,  9.24685826,  9.36794   ,\n",
       "         9.48902174,  9.61010348,  9.73118522,  9.85226696,  9.9733487 ,\n",
       "        10.09443043, 10.21551217, 10.33659391, 10.45767565, 10.57875739,\n",
       "        10.69983913, 10.82092087, 10.94200261, 11.06308435, 11.18416609,\n",
       "        11.30524783, 11.42632957, 11.5474113 , 11.66849304, 11.78957478,\n",
       "        11.91065652, 12.03173826, 12.15282   , 12.27390174, 12.39498348,\n",
       "        12.51606522, 12.63714696, 12.7582287 , 12.87931043, 13.00039217,\n",
       "        13.12147391, 13.24255565, 13.36363739, 13.48471913, 13.60580087,\n",
       "        13.72688261, 13.84796435, 13.96904609, 14.09012783, 14.21120957,\n",
       "        14.3322913 , 14.45337304, 14.57445478, 14.69553652, 14.81661826,\n",
       "        14.9377    ]),\n",
       " <a list of 115 Patch objects>)"
      ]
     },
     "execution_count": 50,
     "metadata": {},
     "output_type": "execute_result"
    },
    {
     "data": {
      "image/png": "[encoded data removed]",
      "text/plain": [
       "<Figure size 432x288 with 1 Axes>"
      ]
     },
     "metadata": {
      "needs_background": "light"
     },
     "output_type": "display_data"
    }
   ],
   "source": [
    "%matplotlib inline \n",
    "plt.hist(training_data['var_14'],bins='auto')"
   ]
  },
  {
   "cell_type": "code",
   "execution_count": 51,
   "metadata": {},
   "outputs": [
    {
     "data": {
      "text/plain": [
       "(array([6.000e+00, 1.300e+01, 1.600e+01, 2.100e+01, 2.100e+01, 2.900e+01,\n",
       "        2.500e+01, 5.100e+01, 5.300e+01, 7.400e+01, 1.250e+02, 1.310e+02,\n",
       "        1.560e+02, 2.020e+02, 2.350e+02, 2.870e+02, 3.500e+02, 4.090e+02,\n",
       "        4.660e+02, 5.820e+02, 6.140e+02, 7.610e+02, 8.630e+02, 9.550e+02,\n",
       "        1.095e+03, 1.141e+03, 1.378e+03, 1.417e+03, 1.676e+03, 1.710e+03,\n",
       "        1.960e+03, 2.006e+03, 2.072e+03, 2.179e+03, 2.346e+03, 2.353e+03,\n",
       "        2.513e+03, 2.652e+03, 2.702e+03, 2.728e+03, 2.845e+03, 2.889e+03,\n",
       "        2.954e+03, 2.905e+03, 2.960e+03, 3.110e+03, 3.039e+03, 3.032e+03,\n",
       "        3.101e+03, 3.234e+03, 3.308e+03, 3.245e+03, 3.429e+03, 3.417e+03,\n",
       "        3.400e+03, 3.370e+03, 3.398e+03, 3.458e+03, 3.530e+03, 3.513e+03,\n",
       "        3.435e+03, 3.438e+03, 3.353e+03, 3.488e+03, 3.283e+03, 3.304e+03,\n",
       "        3.356e+03, 3.225e+03, 3.251e+03, 3.149e+03, 3.169e+03, 3.137e+03,\n",
       "        2.987e+03, 3.018e+03, 2.845e+03, 2.752e+03, 2.510e+03, 2.522e+03,\n",
       "        2.376e+03, 2.290e+03, 2.235e+03, 2.032e+03, 1.873e+03, 1.768e+03,\n",
       "        1.577e+03, 1.464e+03, 1.434e+03, 1.240e+03, 1.197e+03, 1.085e+03,\n",
       "        9.650e+02, 8.440e+02, 8.480e+02, 7.310e+02, 6.670e+02, 6.150e+02,\n",
       "        5.770e+02, 5.220e+02, 4.240e+02, 4.940e+02, 4.450e+02, 4.380e+02,\n",
       "        3.690e+02, 3.490e+02, 2.500e+02, 1.160e+02, 4.700e+01, 1.000e+01,\n",
       "        1.000e+01, 1.000e+01, 8.000e+00, 0.000e+00, 1.000e+00, 1.000e+00,\n",
       "        1.000e+00, 0.000e+00, 0.000e+00, 1.000e+00]),\n",
       " array([13.3461    , 13.3674322 , 13.38876441, 13.41009661, 13.43142881,\n",
       "        13.45276102, 13.47409322, 13.49542542, 13.51675763, 13.53808983,\n",
       "        13.55942203, 13.58075424, 13.60208644, 13.62341864, 13.64475085,\n",
       "        13.66608305, 13.68741525, 13.70874746, 13.73007966, 13.75141186,\n",
       "        13.77274407, 13.79407627, 13.81540847, 13.83674068, 13.85807288,\n",
       "        13.87940508, 13.90073729, 13.92206949, 13.94340169, 13.9647339 ,\n",
       "        13.9860661 , 14.00739831, 14.02873051, 14.05006271, 14.07139492,\n",
       "        14.09272712, 14.11405932, 14.13539153, 14.15672373, 14.17805593,\n",
       "        14.19938814, 14.22072034, 14.24205254, 14.26338475, 14.28471695,\n",
       "        14.30604915, 14.32738136, 14.34871356, 14.37004576, 14.39137797,\n",
       "        14.41271017, 14.43404237, 14.45537458, 14.47670678, 14.49803898,\n",
       "        14.51937119, 14.54070339, 14.56203559, 14.5833678 , 14.6047    ,\n",
       "        14.6260322 , 14.64736441, 14.66869661, 14.69002881, 14.71136102,\n",
       "        14.73269322, 14.75402542, 14.77535763, 14.79668983, 14.81802203,\n",
       "        14.83935424, 14.86068644, 14.88201864, 14.90335085, 14.92468305,\n",
       "        14.94601525, 14.96734746, 14.98867966, 15.01001186, 15.03134407,\n",
       "        15.05267627, 15.07400847, 15.09534068, 15.11667288, 15.13800508,\n",
       "        15.15933729, 15.18066949, 15.20200169, 15.2233339 , 15.2446661 ,\n",
       "        15.26599831, 15.28733051, 15.30866271, 15.32999492, 15.35132712,\n",
       "        15.37265932, 15.39399153, 15.41532373, 15.43665593, 15.45798814,\n",
       "        15.47932034, 15.50065254, 15.52198475, 15.54331695, 15.56464915,\n",
       "        15.58598136, 15.60731356, 15.62864576, 15.64997797, 15.67131017,\n",
       "        15.69264237, 15.71397458, 15.73530678, 15.75663898, 15.77797119,\n",
       "        15.79930339, 15.82063559, 15.8419678 , 15.8633    ]),\n",
       " <a list of 118 Patch objects>)"
      ]
     },
     "execution_count": 51,
     "metadata": {},
     "output_type": "execute_result"
    },
    {
     "data": {
      "image/png": "[encoded data removed]",
      "text/plain": [
       "<Figure size 432x288 with 1 Axes>"
      ]
     },
     "metadata": {
      "needs_background": "light"
     },
     "output_type": "display_data"
    }
   ],
   "source": [
    "%matplotlib inline \n",
    "plt.hist(training_data['var_15'],bins='auto')"
   ]
  },
  {
   "cell_type": "code",
   "execution_count": 52,
   "metadata": {},
   "outputs": [
    {
     "data": {
      "text/plain": [
       "(array([1.200e+01, 1.700e+01, 3.200e+01, 2.100e+01, 3.500e+01, 6.200e+01,\n",
       "        7.800e+01, 7.800e+01, 1.030e+02, 1.210e+02, 1.510e+02, 1.600e+02,\n",
       "        2.140e+02, 2.330e+02, 2.780e+02, 3.070e+02, 3.570e+02, 4.530e+02,\n",
       "        4.790e+02, 5.530e+02, 6.530e+02, 7.150e+02, 8.110e+02, 9.450e+02,\n",
       "        1.025e+03, 1.201e+03, 1.270e+03, 1.378e+03, 1.515e+03, 1.597e+03,\n",
       "        1.741e+03, 1.911e+03, 1.962e+03, 2.067e+03, 2.262e+03, 2.363e+03,\n",
       "        2.440e+03, 2.596e+03, 2.675e+03, 2.840e+03, 2.839e+03, 3.040e+03,\n",
       "        3.108e+03, 3.141e+03, 3.158e+03, 3.114e+03, 3.189e+03, 3.333e+03,\n",
       "        3.258e+03, 3.305e+03, 3.393e+03, 3.292e+03, 3.353e+03, 3.428e+03,\n",
       "        3.434e+03, 3.474e+03, 3.403e+03, 3.261e+03, 3.268e+03, 3.330e+03,\n",
       "        3.233e+03, 3.136e+03, 3.163e+03, 3.108e+03, 3.054e+03, 3.032e+03,\n",
       "        2.885e+03, 2.867e+03, 3.028e+03, 4.161e+03, 3.838e+03, 2.917e+03,\n",
       "        2.795e+03, 2.666e+03, 2.610e+03, 2.488e+03, 2.426e+03, 2.222e+03,\n",
       "        2.187e+03, 2.043e+03, 1.956e+03, 1.804e+03, 1.747e+03, 1.628e+03,\n",
       "        1.501e+03, 1.360e+03, 1.279e+03, 1.211e+03, 1.049e+03, 1.070e+03,\n",
       "        9.940e+02, 9.430e+02, 8.310e+02, 7.790e+02, 6.940e+02, 7.070e+02,\n",
       "        6.270e+02, 5.870e+02, 5.740e+02, 5.420e+02, 5.380e+02, 4.920e+02,\n",
       "        4.860e+02, 4.680e+02, 4.450e+02, 4.440e+02, 3.950e+02, 4.250e+02,\n",
       "        4.000e+02, 4.200e+02, 4.120e+02, 3.880e+02, 1.280e+02, 1.100e+01,\n",
       "        7.000e+00, 4.000e+00, 2.000e+00, 2.000e+00, 2.000e+00, 0.000e+00,\n",
       "        1.000e+00, 0.000e+00, 0.000e+00, 1.000e+00, 0.000e+00, 0.000e+00,\n",
       "        1.000e+00]),\n",
       " array([ 2.0642    ,  2.18928976,  2.31437953,  2.43946929,  2.56455906,\n",
       "         2.68964882,  2.81473858,  2.93982835,  3.06491811,  3.19000787,\n",
       "         3.31509764,  3.4401874 ,  3.56527717,  3.69036693,  3.81545669,\n",
       "         3.94054646,  4.06563622,  4.19072598,  4.31581575,  4.44090551,\n",
       "         4.56599528,  4.69108504,  4.8161748 ,  4.94126457,  5.06635433,\n",
       "         5.19144409,  5.31653386,  5.44162362,  5.56671339,  5.69180315,\n",
       "         5.81689291,  5.94198268,  6.06707244,  6.1921622 ,  6.31725197,\n",
       "         6.44234173,  6.5674315 ,  6.69252126,  6.81761102,  6.94270079,\n",
       "         7.06779055,  7.19288031,  7.31797008,  7.44305984,  7.56814961,\n",
       "         7.69323937,  7.81832913,  7.9434189 ,  8.06850866,  8.19359843,\n",
       "         8.31868819,  8.44377795,  8.56886772,  8.69395748,  8.81904724,\n",
       "         8.94413701,  9.06922677,  9.19431654,  9.3194063 ,  9.44449606,\n",
       "         9.56958583,  9.69467559,  9.81976535,  9.94485512, 10.06994488,\n",
       "        10.19503465, 10.32012441, 10.44521417, 10.57030394, 10.6953937 ,\n",
       "        10.82048346, 10.94557323, 11.07066299, 11.19575276, 11.32084252,\n",
       "        11.44593228, 11.57102205, 11.69611181, 11.82120157, 11.94629134,\n",
       "        12.0713811 , 12.19647087, 12.32156063, 12.44665039, 12.57174016,\n",
       "        12.69682992, 12.82191969, 12.94700945, 13.07209921, 13.19718898,\n",
       "        13.32227874, 13.4473685 , 13.57245827, 13.69754803, 13.8226378 ,\n",
       "        13.94772756, 14.07281732, 14.19790709, 14.32299685, 14.44808661,\n",
       "        14.57317638, 14.69826614, 14.82335591, 14.94844567, 15.07353543,\n",
       "        15.1986252 , 15.32371496, 15.44880472, 15.57389449, 15.69898425,\n",
       "        15.82407402, 15.94916378, 16.07425354, 16.19934331, 16.32443307,\n",
       "        16.44952283, 16.5746126 , 16.69970236, 16.82479213, 16.94988189,\n",
       "        17.07497165, 17.20006142, 17.32515118, 17.45024094, 17.57533071,\n",
       "        17.70042047, 17.82551024, 17.9506    ]),\n",
       " <a list of 127 Patch objects>)"
      ]
     },
     "execution_count": 52,
     "metadata": {},
     "output_type": "execute_result"
    },
    {
     "data": {
      "image/png": "[encoded data removed]",
      "text/plain": [
       "<Figure size 432x288 with 1 Axes>"
      ]
     },
     "metadata": {
      "needs_background": "light"
     },
     "output_type": "display_data"
    }
   ],
   "source": [
    "%matplotlib inline \n",
    "plt.hist(training_data['var_16'],bins='auto')"
   ]
  },
  {
   "cell_type": "code",
   "execution_count": 53,
   "metadata": {},
   "outputs": [
    {
     "data": {
      "text/plain": [
       "(array([3.500e+01, 4.800e+01, 6.300e+01, 6.600e+01, 7.800e+01, 9.200e+01,\n",
       "        1.110e+02, 1.370e+02, 1.660e+02, 1.900e+02, 2.420e+02, 2.650e+02,\n",
       "        2.890e+02, 3.290e+02, 3.580e+02, 4.780e+02, 5.090e+02, 5.370e+02,\n",
       "        6.360e+02, 6.660e+02, 7.650e+02, 8.750e+02, 9.570e+02, 1.003e+03,\n",
       "        1.146e+03, 1.190e+03, 1.305e+03, 1.404e+03, 1.554e+03, 1.591e+03,\n",
       "        1.694e+03, 1.828e+03, 1.808e+03, 1.961e+03, 2.074e+03, 2.230e+03,\n",
       "        2.212e+03, 2.430e+03, 2.427e+03, 2.511e+03, 2.635e+03, 2.744e+03,\n",
       "        2.821e+03, 2.919e+03, 3.033e+03, 3.122e+03, 3.046e+03, 3.137e+03,\n",
       "        3.320e+03, 3.314e+03, 3.343e+03, 3.407e+03, 3.382e+03, 3.445e+03,\n",
       "        3.433e+03, 3.421e+03, 3.516e+03, 3.397e+03, 3.408e+03, 3.423e+03,\n",
       "        3.373e+03, 3.474e+03, 3.326e+03, 3.292e+03, 3.309e+03, 3.188e+03,\n",
       "        3.311e+03, 3.117e+03, 3.135e+03, 3.155e+03, 2.958e+03, 2.967e+03,\n",
       "        2.854e+03, 2.863e+03, 2.662e+03, 2.670e+03, 2.544e+03, 2.502e+03,\n",
       "        2.357e+03, 2.205e+03, 2.141e+03, 2.070e+03, 1.914e+03, 1.819e+03,\n",
       "        1.751e+03, 1.588e+03, 1.592e+03, 1.511e+03, 1.311e+03, 1.202e+03,\n",
       "        1.188e+03, 1.045e+03, 1.030e+03, 8.920e+02, 8.290e+02, 7.310e+02,\n",
       "        6.260e+02, 4.910e+02, 4.620e+02, 4.170e+02, 3.010e+02, 2.690e+02,\n",
       "        1.940e+02, 1.700e+02, 1.240e+02, 1.110e+02, 9.600e+01, 6.400e+01,\n",
       "        6.300e+01, 5.300e+01, 4.900e+01, 3.400e+01, 2.600e+01, 1.700e+01,\n",
       "        1.000e+01, 2.000e+01, 9.000e+00, 6.000e+00, 1.000e+01, 5.000e+00,\n",
       "        3.000e+00, 2.000e+00, 4.000e+00, 2.000e+00, 2.000e+00, 1.000e+00,\n",
       "        0.000e+00, 0.000e+00, 1.000e+00, 1.000e+00, 1.000e+00]),\n",
       " array([-24.9721    , -24.6362374 , -24.30037481, -23.96451221,\n",
       "        -23.62864962, -23.29278702, -22.95692443, -22.62106183,\n",
       "        -22.28519924, -21.94933664, -21.61347405, -21.27761145,\n",
       "        -20.94174885, -20.60588626, -20.27002366, -19.93416107,\n",
       "        -19.59829847, -19.26243588, -18.92657328, -18.59071069,\n",
       "        -18.25484809, -17.9189855 , -17.5831229 , -17.24726031,\n",
       "        -16.91139771, -16.57553511, -16.23967252, -15.90380992,\n",
       "        -15.56794733, -15.23208473, -14.89622214, -14.56035954,\n",
       "        -14.22449695, -13.88863435, -13.55277176, -13.21690916,\n",
       "        -12.88104656, -12.54518397, -12.20932137, -11.87345878,\n",
       "        -11.53759618, -11.20173359, -10.86587099, -10.5300084 ,\n",
       "        -10.1941458 ,  -9.85828321,  -9.52242061,  -9.18655802,\n",
       "         -8.85069542,  -8.51483282,  -8.17897023,  -7.84310763,\n",
       "         -7.50724504,  -7.17138244,  -6.83551985,  -6.49965725,\n",
       "         -6.16379466,  -5.82793206,  -5.49206947,  -5.15620687,\n",
       "         -4.82034427,  -4.48448168,  -4.14861908,  -3.81275649,\n",
       "         -3.47689389,  -3.1410313 ,  -2.8051687 ,  -2.46930611,\n",
       "         -2.13344351,  -1.79758092,  -1.46171832,  -1.12585573,\n",
       "         -0.78999313,  -0.45413053,  -0.11826794,   0.21759466,\n",
       "          0.55345725,   0.88931985,   1.22518244,   1.56104504,\n",
       "          1.89690763,   2.23277023,   2.56863282,   2.90449542,\n",
       "          3.24035802,   3.57622061,   3.91208321,   4.2479458 ,\n",
       "          4.5838084 ,   4.91967099,   5.25553359,   5.59139618,\n",
       "          5.92725878,   6.26312137,   6.59898397,   6.93484656,\n",
       "          7.27070916,   7.60657176,   7.94243435,   8.27829695,\n",
       "          8.61415954,   8.95002214,   9.28588473,   9.62174733,\n",
       "          9.95760992,  10.29347252,  10.62933511,  10.96519771,\n",
       "         11.30106031,  11.6369229 ,  11.9727855 ,  12.30864809,\n",
       "         12.64451069,  12.98037328,  13.31623588,  13.65209847,\n",
       "         13.98796107,  14.32382366,  14.65968626,  14.99554885,\n",
       "         15.33141145,  15.66727405,  16.00313664,  16.33899924,\n",
       "         16.67486183,  17.01072443,  17.34658702,  17.68244962,\n",
       "         18.01831221,  18.35417481,  18.6900374 ,  19.0259    ]),\n",
       " <a list of 131 Patch objects>)"
      ]
     },
     "execution_count": 53,
     "metadata": {},
     "output_type": "execute_result"
    },
    {
     "data": {
      "image/png": "[encoded data removed]",
      "text/plain": [
       "<Figure size 432x288 with 1 Axes>"
      ]
     },
     "metadata": {
      "needs_background": "light"
     },
     "output_type": "display_data"
    }
   ],
   "source": [
    "%matplotlib inline \n",
    "plt.hist(training_data['var_17'],bins='auto')"
   ]
  },
  {
   "cell_type": "code",
   "execution_count": 54,
   "metadata": {},
   "outputs": [
    {
     "data": {
      "text/plain": [
       "(array([2.000e+00, 4.000e+00, 7.000e+00, 7.000e+00, 1.200e+01, 1.000e+01,\n",
       "        1.500e+01, 2.800e+01, 3.100e+01, 3.000e+01, 5.200e+01, 7.600e+01,\n",
       "        1.270e+02, 1.240e+02, 1.660e+02, 2.090e+02, 2.380e+02, 3.190e+02,\n",
       "        4.080e+02, 4.890e+02, 5.870e+02, 6.610e+02, 8.090e+02, 8.510e+02,\n",
       "        1.011e+03, 1.152e+03, 1.367e+03, 1.478e+03, 1.625e+03, 1.810e+03,\n",
       "        1.851e+03, 2.104e+03, 2.200e+03, 2.328e+03, 2.533e+03, 2.544e+03,\n",
       "        2.635e+03, 2.855e+03, 2.800e+03, 2.922e+03, 2.950e+03, 3.035e+03,\n",
       "        3.044e+03, 3.022e+03, 3.058e+03, 2.963e+03, 3.171e+03, 3.171e+03,\n",
       "        3.099e+03, 3.177e+03, 3.120e+03, 3.262e+03, 3.379e+03, 3.308e+03,\n",
       "        3.331e+03, 3.493e+03, 3.429e+03, 3.325e+03, 3.563e+03, 3.461e+03,\n",
       "        3.390e+03, 3.397e+03, 3.306e+03, 3.463e+03, 3.306e+03, 3.355e+03,\n",
       "        3.268e+03, 3.289e+03, 3.201e+03, 3.184e+03, 3.199e+03, 2.986e+03,\n",
       "        2.883e+03, 2.914e+03, 2.897e+03, 2.823e+03, 2.596e+03, 2.456e+03,\n",
       "        2.391e+03, 2.168e+03, 2.246e+03, 2.103e+03, 1.955e+03, 1.842e+03,\n",
       "        1.689e+03, 1.592e+03, 1.381e+03, 1.203e+03, 1.198e+03, 1.080e+03,\n",
       "        9.190e+02, 8.530e+02, 8.080e+02, 7.220e+02, 6.360e+02, 6.020e+02,\n",
       "        5.480e+02, 4.750e+02, 4.510e+02, 4.180e+02, 3.860e+02, 3.170e+02,\n",
       "        2.840e+02, 2.760e+02, 2.050e+02, 1.640e+02, 1.140e+02, 1.010e+02,\n",
       "        6.700e+01, 3.900e+01, 2.900e+01, 1.600e+01, 6.000e+00, 3.000e+00,\n",
       "        5.000e+00, 1.000e+00, 0.000e+00, 1.000e+00, 0.000e+00, 0.000e+00,\n",
       "        0.000e+00, 1.000e+00]),\n",
       " array([-8.4511    , -8.03963197, -7.62816393, -7.2166959 , -6.80522787,\n",
       "        -6.39375984, -5.9822918 , -5.57082377, -5.15935574, -4.7478877 ,\n",
       "        -4.33641967, -3.92495164, -3.51348361, -3.10201557, -2.69054754,\n",
       "        -2.27907951, -1.86761148, -1.45614344, -1.04467541, -0.63320738,\n",
       "        -0.22173934,  0.18972869,  0.60119672,  1.01266475,  1.42413279,\n",
       "         1.83560082,  2.24706885,  2.65853689,  3.07000492,  3.48147295,\n",
       "         3.89294098,  4.30440902,  4.71587705,  5.12734508,  5.53881311,\n",
       "         5.95028115,  6.36174918,  6.77321721,  7.18468525,  7.59615328,\n",
       "         8.00762131,  8.41908934,  8.83055738,  9.24202541,  9.65349344,\n",
       "        10.06496148, 10.47642951, 10.88789754, 11.29936557, 11.71083361,\n",
       "        12.12230164, 12.53376967, 12.9452377 , 13.35670574, 13.76817377,\n",
       "        14.1796418 , 14.59110984, 15.00257787, 15.4140459 , 15.82551393,\n",
       "        16.23698197, 16.64845   , 17.05991803, 17.47138607, 17.8828541 ,\n",
       "        18.29432213, 18.70579016, 19.1172582 , 19.52872623, 19.94019426,\n",
       "        20.3516623 , 20.76313033, 21.17459836, 21.58606639, 21.99753443,\n",
       "        22.40900246, 22.82047049, 23.23193852, 23.64340656, 24.05487459,\n",
       "        24.46634262, 24.87781066, 25.28927869, 25.70074672, 26.11221475,\n",
       "        26.52368279, 26.93515082, 27.34661885, 27.75808689, 28.16955492,\n",
       "        28.58102295, 28.99249098, 29.40395902, 29.81542705, 30.22689508,\n",
       "        30.63836311, 31.04983115, 31.46129918, 31.87276721, 32.28423525,\n",
       "        32.69570328, 33.10717131, 33.51863934, 33.93010738, 34.34157541,\n",
       "        34.75304344, 35.16451148, 35.57597951, 35.98744754, 36.39891557,\n",
       "        36.81038361, 37.22185164, 37.63331967, 38.0447877 , 38.45625574,\n",
       "        38.86772377, 39.2791918 , 39.69065984, 40.10212787, 40.5135959 ,\n",
       "        40.92506393, 41.33653197, 41.748     ]),\n",
       " <a list of 122 Patch objects>)"
      ]
     },
     "execution_count": 54,
     "metadata": {},
     "output_type": "execute_result"
    },
    {
     "data": {
      "image/png": "[encoded data removed]",
      "text/plain": [
       "<Figure size 432x288 with 1 Axes>"
      ]
     },
     "metadata": {
      "needs_background": "light"
     },
     "output_type": "display_data"
    }
   ],
   "source": [
    "%matplotlib inline \n",
    "plt.hist(training_data['var_18'],bins='auto')"
   ]
  },
  {
   "cell_type": "code",
   "execution_count": 55,
   "metadata": {},
   "outputs": [
    {
     "data": {
      "text/plain": [
       "(array([2.000e+00, 1.000e+00, 8.000e+00, 2.000e+00, 4.000e+00, 1.400e+01,\n",
       "        1.500e+01, 2.300e+01, 3.200e+01, 5.400e+01, 7.600e+01, 7.000e+01,\n",
       "        1.170e+02, 1.550e+02, 1.930e+02, 2.560e+02, 3.040e+02, 3.760e+02,\n",
       "        4.420e+02, 5.530e+02, 6.570e+02, 7.110e+02, 8.950e+02, 1.017e+03,\n",
       "        1.198e+03, 1.285e+03, 1.499e+03, 1.583e+03, 1.711e+03, 1.939e+03,\n",
       "        1.996e+03, 2.173e+03, 2.245e+03, 2.478e+03, 2.613e+03, 2.596e+03,\n",
       "        2.697e+03, 2.774e+03, 2.672e+03, 2.815e+03, 2.905e+03, 2.873e+03,\n",
       "        2.955e+03, 2.938e+03, 3.019e+03, 3.045e+03, 3.046e+03, 3.078e+03,\n",
       "        3.176e+03, 3.258e+03, 3.240e+03, 3.452e+03, 3.377e+03, 3.351e+03,\n",
       "        3.283e+03, 3.352e+03, 3.338e+03, 3.348e+03, 3.366e+03, 3.439e+03,\n",
       "        3.400e+03, 3.312e+03, 3.360e+03, 3.347e+03, 3.359e+03, 3.355e+03,\n",
       "        3.252e+03, 3.236e+03, 3.261e+03, 3.171e+03, 3.221e+03, 3.115e+03,\n",
       "        3.107e+03, 2.984e+03, 2.908e+03, 2.765e+03, 2.827e+03, 2.609e+03,\n",
       "        2.429e+03, 2.381e+03, 2.222e+03, 1.981e+03, 1.873e+03, 1.711e+03,\n",
       "        1.558e+03, 1.456e+03, 1.231e+03, 1.145e+03, 1.119e+03, 1.014e+03,\n",
       "        8.370e+02, 7.440e+02, 7.170e+02, 6.100e+02, 5.700e+02, 4.830e+02,\n",
       "        4.400e+02, 4.490e+02, 4.550e+02, 3.850e+02, 3.380e+02, 3.430e+02,\n",
       "        2.850e+02, 2.570e+02, 1.580e+02, 9.800e+01, 3.600e+01, 2.300e+01,\n",
       "        1.000e+01, 7.000e+00, 2.000e+00]),\n",
       " array([-11.5576    , -11.13651351, -10.71542703, -10.29434054,\n",
       "         -9.87325405,  -9.45216757,  -9.03108108,  -8.60999459,\n",
       "         -8.18890811,  -7.76782162,  -7.34673514,  -6.92564865,\n",
       "         -6.50456216,  -6.08347568,  -5.66238919,  -5.2413027 ,\n",
       "         -4.82021622,  -4.39912973,  -3.97804324,  -3.55695676,\n",
       "         -3.13587027,  -2.71478378,  -2.2936973 ,  -1.87261081,\n",
       "         -1.45152432,  -1.03043784,  -0.60935135,  -0.18826486,\n",
       "          0.23282162,   0.65390811,   1.07499459,   1.49608108,\n",
       "          1.91716757,   2.33825405,   2.75934054,   3.18042703,\n",
       "          3.60151351,   4.0226    ,   4.44368649,   4.86477297,\n",
       "          5.28585946,   5.70694595,   6.12803243,   6.54911892,\n",
       "          6.97020541,   7.39129189,   7.81237838,   8.23346486,\n",
       "          8.65455135,   9.07563784,   9.49672432,   9.91781081,\n",
       "         10.3388973 ,  10.75998378,  11.18107027,  11.60215676,\n",
       "         12.02324324,  12.44432973,  12.86541622,  13.2865027 ,\n",
       "         13.70758919,  14.12867568,  14.54976216,  14.97084865,\n",
       "         15.39193514,  15.81302162,  16.23410811,  16.65519459,\n",
       "         17.07628108,  17.49736757,  17.91845405,  18.33954054,\n",
       "         18.76062703,  19.18171351,  19.6028    ,  20.02388649,\n",
       "         20.44497297,  20.86605946,  21.28714595,  21.70823243,\n",
       "         22.12931892,  22.55040541,  22.97149189,  23.39257838,\n",
       "         23.81366486,  24.23475135,  24.65583784,  25.07692432,\n",
       "         25.49801081,  25.9190973 ,  26.34018378,  26.76127027,\n",
       "         27.18235676,  27.60344324,  28.02452973,  28.44561622,\n",
       "         28.8667027 ,  29.28778919,  29.70887568,  30.12996216,\n",
       "         30.55104865,  30.97213514,  31.39322162,  31.81430811,\n",
       "         32.23539459,  32.65648108,  33.07756757,  33.49865405,\n",
       "         33.91974054,  34.34082703,  34.76191351,  35.183     ]),\n",
       " <a list of 111 Patch objects>)"
      ]
     },
     "execution_count": 55,
     "metadata": {},
     "output_type": "execute_result"
    },
    {
     "data": {
      "image/png": "[encoded data removed]",
      "text/plain": [
       "<Figure size 432x288 with 1 Axes>"
      ]
     },
     "metadata": {
      "needs_background": "light"
     },
     "output_type": "display_data"
    }
   ],
   "source": [
    "%matplotlib inline \n",
    "plt.hist(training_data['var_19'],bins='auto')"
   ]
  },
  {
   "cell_type": "code",
   "execution_count": 56,
   "metadata": {},
   "outputs": [
    {
     "data": {
      "text/plain": [
       "(array([1.000e+00, 3.000e+00, 2.000e+00, 1.000e+00, 4.000e+00, 1.300e+01,\n",
       "        1.500e+01, 2.200e+01, 3.500e+01, 4.100e+01, 8.200e+01, 1.010e+02,\n",
       "        1.870e+02, 2.680e+02, 4.310e+02, 5.910e+02, 7.360e+02, 8.710e+02,\n",
       "        1.056e+03, 1.112e+03, 1.240e+03, 1.348e+03, 1.438e+03, 1.594e+03,\n",
       "        1.705e+03, 1.944e+03, 2.122e+03, 2.233e+03, 2.523e+03, 2.613e+03,\n",
       "        2.834e+03, 2.878e+03, 2.966e+03, 3.162e+03, 3.206e+03, 3.100e+03,\n",
       "        3.265e+03, 3.324e+03, 3.314e+03, 3.321e+03, 3.370e+03, 3.327e+03,\n",
       "        3.287e+03, 3.260e+03, 3.280e+03, 3.419e+03, 3.207e+03, 3.248e+03,\n",
       "        3.349e+03, 3.368e+03, 3.213e+03, 3.227e+03, 3.255e+03, 3.232e+03,\n",
       "        3.279e+03, 3.310e+03, 3.333e+03, 3.182e+03, 3.295e+03, 3.197e+03,\n",
       "        3.306e+03, 3.107e+03, 3.084e+03, 3.176e+03, 3.193e+03, 3.196e+03,\n",
       "        3.143e+03, 3.006e+03, 2.937e+03, 2.976e+03, 2.864e+03, 2.729e+03,\n",
       "        2.595e+03, 2.572e+03, 2.409e+03, 2.288e+03, 2.196e+03, 2.054e+03,\n",
       "        1.959e+03, 1.790e+03, 1.637e+03, 1.530e+03, 1.389e+03, 1.228e+03,\n",
       "        1.098e+03, 9.460e+02, 8.060e+02, 6.740e+02, 5.490e+02, 5.030e+02,\n",
       "        3.900e+02, 3.070e+02, 2.710e+02, 2.040e+02, 1.490e+02, 1.270e+02,\n",
       "        8.700e+01, 7.200e+01, 4.500e+01, 3.900e+01, 2.600e+01, 1.400e+01,\n",
       "        1.100e+01, 1.000e+01, 6.000e+00, 3.000e+00, 4.000e+00, 1.000e+00]),\n",
       " array([-3.3711    , -3.05020185, -2.7293037 , -2.40840556, -2.08750741,\n",
       "        -1.76660926, -1.44571111, -1.12481296, -0.80391481, -0.48301667,\n",
       "        -0.16211852,  0.15877963,  0.47967778,  0.80057593,  1.12147407,\n",
       "         1.44237222,  1.76327037,  2.08416852,  2.40506667,  2.72596481,\n",
       "         3.04686296,  3.36776111,  3.68865926,  4.00955741,  4.33045556,\n",
       "         4.6513537 ,  4.97225185,  5.29315   ,  5.61404815,  5.9349463 ,\n",
       "         6.25584444,  6.57674259,  6.89764074,  7.21853889,  7.53943704,\n",
       "         7.86033519,  8.18123333,  8.50213148,  8.82302963,  9.14392778,\n",
       "         9.46482593,  9.78572407, 10.10662222, 10.42752037, 10.74841852,\n",
       "        11.06931667, 11.39021481, 11.71111296, 12.03201111, 12.35290926,\n",
       "        12.67380741, 12.99470556, 13.3156037 , 13.63650185, 13.9574    ,\n",
       "        14.27829815, 14.5991963 , 14.92009444, 15.24099259, 15.56189074,\n",
       "        15.88278889, 16.20368704, 16.52458519, 16.84548333, 17.16638148,\n",
       "        17.48727963, 17.80817778, 18.12907593, 18.44997407, 18.77087222,\n",
       "        19.09177037, 19.41266852, 19.73356667, 20.05446481, 20.37536296,\n",
       "        20.69626111, 21.01715926, 21.33805741, 21.65895556, 21.9798537 ,\n",
       "        22.30075185, 22.62165   , 22.94254815, 23.2634463 , 23.58434444,\n",
       "        23.90524259, 24.22614074, 24.54703889, 24.86793704, 25.18883519,\n",
       "        25.50973333, 25.83063148, 26.15152963, 26.47242778, 26.79332593,\n",
       "        27.11422407, 27.43512222, 27.75602037, 28.07691852, 28.39781667,\n",
       "        28.71871481, 29.03961296, 29.36051111, 29.68140926, 30.00230741,\n",
       "        30.32320556, 30.6441037 , 30.96500185, 31.2859    ]),\n",
       " <a list of 108 Patch objects>)"
      ]
     },
     "execution_count": 56,
     "metadata": {},
     "output_type": "execute_result"
    },
    {
     "data": {
      "image/png": "[encoded data removed]",
      "text/plain": [
       "<Figure size 432x288 with 1 Axes>"
      ]
     },
     "metadata": {
      "needs_background": "light"
     },
     "output_type": "display_data"
    }
   ],
   "source": [
    "%matplotlib inline \n",
    "plt.hist(training_data['var_20'],bins='auto')"
   ]
  },
  {
   "cell_type": "code",
   "execution_count": 57,
   "metadata": {},
   "outputs": [
    {
     "data": {
      "text/plain": [
       "(array([1.900e+01, 2.700e+01, 3.300e+01, 6.100e+01, 7.400e+01, 8.000e+01,\n",
       "        1.390e+02, 1.510e+02, 2.080e+02, 2.470e+02, 3.130e+02, 3.730e+02,\n",
       "        4.000e+02, 5.290e+02, 5.850e+02, 6.040e+02, 6.880e+02, 6.820e+02,\n",
       "        6.960e+02, 8.100e+02, 9.010e+02, 9.690e+02, 9.430e+02, 1.048e+03,\n",
       "        1.069e+03, 1.181e+03, 1.245e+03, 1.266e+03, 1.389e+03, 1.487e+03,\n",
       "        1.515e+03, 1.670e+03, 1.850e+03, 1.937e+03, 2.016e+03, 2.094e+03,\n",
       "        2.271e+03, 2.382e+03, 2.415e+03, 2.493e+03, 2.701e+03, 2.702e+03,\n",
       "        2.895e+03, 2.901e+03, 3.015e+03, 3.007e+03, 3.257e+03, 3.291e+03,\n",
       "        3.314e+03, 3.453e+03, 3.480e+03, 3.539e+03, 3.489e+03, 3.498e+03,\n",
       "        3.456e+03, 3.485e+03, 3.468e+03, 3.525e+03, 3.435e+03, 3.442e+03,\n",
       "        3.273e+03, 3.287e+03, 3.299e+03, 3.303e+03, 3.242e+03, 3.413e+03,\n",
       "        3.210e+03, 3.173e+03, 3.065e+03, 3.031e+03, 2.827e+03, 2.848e+03,\n",
       "        2.868e+03, 2.764e+03, 2.698e+03, 2.663e+03, 2.339e+03, 2.342e+03,\n",
       "        2.287e+03, 2.112e+03, 2.045e+03, 1.926e+03, 1.803e+03, 1.824e+03,\n",
       "        1.668e+03, 1.501e+03, 1.472e+03, 1.332e+03, 1.232e+03, 1.172e+03,\n",
       "        1.078e+03, 9.260e+02, 8.540e+02, 8.240e+02, 7.010e+02, 6.430e+02,\n",
       "        6.240e+02, 5.660e+02, 4.940e+02, 4.080e+02, 3.790e+02, 3.150e+02,\n",
       "        2.940e+02, 2.770e+02, 2.360e+02, 1.870e+02, 1.660e+02, 1.350e+02,\n",
       "        1.060e+02, 9.600e+01, 8.500e+01, 8.500e+01, 5.600e+01, 5.400e+01,\n",
       "        4.600e+01, 3.100e+01, 4.000e+01, 2.500e+01, 1.100e+01, 1.400e+01,\n",
       "        1.300e+01, 1.200e+01, 4.000e+00, 8.000e+00, 2.000e+00, 5.000e+00,\n",
       "        2.000e+00, 3.000e+00, 1.000e+00, 2.000e+00, 1.000e+00, 2.000e+00,\n",
       "        1.000e+00, 0.000e+00, 1.000e+00, 1.000e+00]),\n",
       " array([-5.738     , -5.33518897, -4.93237794, -4.52956691, -4.12675588,\n",
       "        -3.72394485, -3.32113382, -2.91832279, -2.51551176, -2.11270074,\n",
       "        -1.70988971, -1.30707868, -0.90426765, -0.50145662, -0.09864559,\n",
       "         0.30416544,  0.70697647,  1.1097875 ,  1.51259853,  1.91540956,\n",
       "         2.31822059,  2.72103162,  3.12384265,  3.52665368,  3.92946471,\n",
       "         4.33227574,  4.73508676,  5.13789779,  5.54070882,  5.94351985,\n",
       "         6.34633088,  6.74914191,  7.15195294,  7.55476397,  7.957575  ,\n",
       "         8.36038603,  8.76319706,  9.16600809,  9.56881912,  9.97163015,\n",
       "        10.37444118, 10.77725221, 11.18006324, 11.58287426, 11.98568529,\n",
       "        12.38849632, 12.79130735, 13.19411838, 13.59692941, 13.99974044,\n",
       "        14.40255147, 14.8053625 , 15.20817353, 15.61098456, 16.01379559,\n",
       "        16.41660662, 16.81941765, 17.22222868, 17.62503971, 18.02785074,\n",
       "        18.43066176, 18.83347279, 19.23628382, 19.63909485, 20.04190588,\n",
       "        20.44471691, 20.84752794, 21.25033897, 21.65315   , 22.05596103,\n",
       "        22.45877206, 22.86158309, 23.26439412, 23.66720515, 24.07001618,\n",
       "        24.47282721, 24.87563824, 25.27844926, 25.68126029, 26.08407132,\n",
       "        26.48688235, 26.88969338, 27.29250441, 27.69531544, 28.09812647,\n",
       "        28.5009375 , 28.90374853, 29.30655956, 29.70937059, 30.11218162,\n",
       "        30.51499265, 30.91780368, 31.32061471, 31.72342574, 32.12623676,\n",
       "        32.52904779, 32.93185882, 33.33466985, 33.73748088, 34.14029191,\n",
       "        34.54310294, 34.94591397, 35.348725  , 35.75153603, 36.15434706,\n",
       "        36.55715809, 36.95996912, 37.36278015, 37.76559118, 38.16840221,\n",
       "        38.57121324, 38.97402426, 39.37683529, 39.77964632, 40.18245735,\n",
       "        40.58526838, 40.98807941, 41.39089044, 41.79370147, 42.1965125 ,\n",
       "        42.59932353, 43.00213456, 43.40494559, 43.80775662, 44.21056765,\n",
       "        44.61337868, 45.01618971, 45.41900074, 45.82181176, 46.22462279,\n",
       "        46.62743382, 47.03024485, 47.43305588, 47.83586691, 48.23867794,\n",
       "        48.64148897, 49.0443    ]),\n",
       " <a list of 136 Patch objects>)"
      ]
     },
     "execution_count": 57,
     "metadata": {},
     "output_type": "execute_result"
    },
    {
     "data": {
      "image/png": "[encoded data removed]",
      "text/plain": [
       "<Figure size 432x288 with 1 Axes>"
      ]
     },
     "metadata": {
      "needs_background": "light"
     },
     "output_type": "display_data"
    }
   ],
   "source": [
    "%matplotlib inline \n",
    "plt.hist(training_data['var_21'],bins='auto')"
   ]
  },
  {
   "cell_type": "code",
   "execution_count": 58,
   "metadata": {},
   "outputs": [
    {
     "data": {
      "text/plain": [
       "(array([9.000e+00, 6.000e+00, 1.900e+01, 2.000e+01, 2.500e+01, 2.700e+01,\n",
       "        4.200e+01, 5.700e+01, 8.400e+01, 1.110e+02, 1.040e+02, 1.410e+02,\n",
       "        1.850e+02, 1.920e+02, 2.660e+02, 2.740e+02, 3.760e+02, 4.230e+02,\n",
       "        4.770e+02, 5.830e+02, 6.860e+02, 7.490e+02, 8.380e+02, 9.280e+02,\n",
       "        1.065e+03, 1.173e+03, 1.266e+03, 1.517e+03, 1.540e+03, 1.640e+03,\n",
       "        1.825e+03, 1.863e+03, 1.994e+03, 2.173e+03, 2.231e+03, 2.375e+03,\n",
       "        2.516e+03, 2.666e+03, 2.814e+03, 2.778e+03, 2.887e+03, 3.017e+03,\n",
       "        2.900e+03, 3.037e+03, 3.134e+03, 3.073e+03, 3.209e+03, 3.114e+03,\n",
       "        3.291e+03, 3.137e+03, 3.355e+03, 3.198e+03, 3.238e+03, 3.316e+03,\n",
       "        3.243e+03, 3.221e+03, 3.334e+03, 3.273e+03, 3.323e+03, 3.495e+03,\n",
       "        3.379e+03, 3.458e+03, 3.555e+03, 3.488e+03, 3.407e+03, 3.203e+03,\n",
       "        3.374e+03, 3.316e+03, 3.235e+03, 3.206e+03, 3.186e+03, 2.962e+03,\n",
       "        2.897e+03, 2.910e+03, 2.862e+03, 2.633e+03, 2.491e+03, 2.425e+03,\n",
       "        2.318e+03, 2.200e+03, 2.087e+03, 1.843e+03, 1.872e+03, 1.654e+03,\n",
       "        1.574e+03, 1.429e+03, 1.312e+03, 1.186e+03, 1.128e+03, 9.780e+02,\n",
       "        9.280e+02, 8.190e+02, 8.000e+02, 6.760e+02, 6.180e+02, 6.580e+02,\n",
       "        5.650e+02, 5.290e+02, 4.680e+02, 4.730e+02, 4.740e+02, 3.860e+02,\n",
       "        3.880e+02, 3.720e+02, 3.350e+02, 3.040e+02, 2.580e+02, 2.570e+02,\n",
       "        2.380e+02, 1.830e+02, 1.780e+02, 1.700e+02, 1.240e+02, 9.500e+01,\n",
       "        8.200e+01, 6.100e+01, 4.100e+01, 3.900e+01, 3.500e+01, 2.800e+01,\n",
       "        1.500e+01, 8.000e+00, 5.000e+00, 4.000e+00, 2.000e+00, 4.000e+00,\n",
       "        2.000e+00, 0.000e+00, 1.000e+00, 2.000e+00]),\n",
       " array([-3.959     , -3.81628077, -3.67356154, -3.53084231, -3.38812308,\n",
       "        -3.24540385, -3.10268462, -2.95996538, -2.81724615, -2.67452692,\n",
       "        -2.53180769, -2.38908846, -2.24636923, -2.10365   , -1.96093077,\n",
       "        -1.81821154, -1.67549231, -1.53277308, -1.39005385, -1.24733462,\n",
       "        -1.10461538, -0.96189615, -0.81917692, -0.67645769, -0.53373846,\n",
       "        -0.39101923, -0.2483    , -0.10558077,  0.03713846,  0.17985769,\n",
       "         0.32257692,  0.46529615,  0.60801538,  0.75073462,  0.89345385,\n",
       "         1.03617308,  1.17889231,  1.32161154,  1.46433077,  1.60705   ,\n",
       "         1.74976923,  1.89248846,  2.03520769,  2.17792692,  2.32064615,\n",
       "         2.46336538,  2.60608462,  2.74880385,  2.89152308,  3.03424231,\n",
       "         3.17696154,  3.31968077,  3.4624    ,  3.60511923,  3.74783846,\n",
       "         3.89055769,  4.03327692,  4.17599615,  4.31871538,  4.46143462,\n",
       "         4.60415385,  4.74687308,  4.88959231,  5.03231154,  5.17503077,\n",
       "         5.31775   ,  5.46046923,  5.60318846,  5.74590769,  5.88862692,\n",
       "         6.03134615,  6.17406538,  6.31678462,  6.45950385,  6.60222308,\n",
       "         6.74494231,  6.88766154,  7.03038077,  7.1731    ,  7.31581923,\n",
       "         7.45853846,  7.60125769,  7.74397692,  7.88669615,  8.02941538,\n",
       "         8.17213462,  8.31485385,  8.45757308,  8.60029231,  8.74301154,\n",
       "         8.88573077,  9.02845   ,  9.17116923,  9.31388846,  9.45660769,\n",
       "         9.59932692,  9.74204615,  9.88476538, 10.02748462, 10.17020385,\n",
       "        10.31292308, 10.45564231, 10.59836154, 10.74108077, 10.8838    ,\n",
       "        11.02651923, 11.16923846, 11.31195769, 11.45467692, 11.59739615,\n",
       "        11.74011538, 11.88283462, 12.02555385, 12.16827308, 12.31099231,\n",
       "        12.45371154, 12.59643077, 12.73915   , 12.88186923, 13.02458846,\n",
       "        13.16730769, 13.31002692, 13.45274615, 13.59546538, 13.73818462,\n",
       "        13.88090385, 14.02362308, 14.16634231, 14.30906154, 14.45178077,\n",
       "        14.5945    ]),\n",
       " <a list of 130 Patch objects>)"
      ]
     },
     "execution_count": 58,
     "metadata": {},
     "output_type": "execute_result"
    },
    {
     "data": {
      "image/png": "[encoded data removed]",
      "text/plain": [
       "<Figure size 432x288 with 1 Axes>"
      ]
     },
     "metadata": {
      "needs_background": "light"
     },
     "output_type": "display_data"
    }
   ],
   "source": [
    "%matplotlib inline \n",
    "plt.hist(training_data['var_22'],bins='auto')"
   ]
  },
  {
   "cell_type": "code",
   "execution_count": 59,
   "metadata": {},
   "outputs": [
    {
     "data": {
      "text/plain": [
       "(array([5.000e+00, 4.000e+00, 1.400e+01, 1.100e+01, 1.700e+01, 1.800e+01,\n",
       "        3.800e+01, 6.300e+01, 8.500e+01, 9.800e+01, 1.230e+02, 1.780e+02,\n",
       "        2.090e+02, 2.680e+02, 3.230e+02, 3.770e+02, 4.240e+02, 5.550e+02,\n",
       "        6.100e+02, 6.740e+02, 7.830e+02, 8.610e+02, 9.570e+02, 1.017e+03,\n",
       "        1.109e+03, 1.180e+03, 1.316e+03, 1.296e+03, 1.489e+03, 1.538e+03,\n",
       "        1.630e+03, 1.733e+03, 1.966e+03, 2.058e+03, 2.236e+03, 2.235e+03,\n",
       "        2.351e+03, 2.482e+03, 2.701e+03, 2.677e+03, 2.898e+03, 2.855e+03,\n",
       "        3.023e+03, 3.055e+03, 3.181e+03, 3.171e+03, 3.305e+03, 3.284e+03,\n",
       "        3.369e+03, 3.394e+03, 3.434e+03, 3.496e+03, 3.373e+03, 3.345e+03,\n",
       "        3.471e+03, 3.566e+03, 3.418e+03, 3.472e+03, 3.456e+03, 3.264e+03,\n",
       "        3.342e+03, 3.290e+03, 3.326e+03, 3.334e+03, 3.274e+03, 3.151e+03,\n",
       "        3.128e+03, 3.065e+03, 3.064e+03, 2.983e+03, 2.774e+03, 2.833e+03,\n",
       "        2.814e+03, 2.771e+03, 2.636e+03, 2.552e+03, 2.515e+03, 2.544e+03,\n",
       "        2.295e+03, 2.209e+03, 2.129e+03, 2.133e+03, 1.926e+03, 1.792e+03,\n",
       "        1.815e+03, 1.659e+03, 1.551e+03, 1.448e+03, 1.386e+03, 1.174e+03,\n",
       "        1.099e+03, 9.970e+02, 9.300e+02, 8.310e+02, 8.190e+02, 6.610e+02,\n",
       "        5.710e+02, 5.640e+02, 5.120e+02, 4.160e+02, 3.670e+02, 3.070e+02,\n",
       "        2.280e+02, 2.150e+02, 2.100e+02, 1.350e+02, 1.380e+02, 1.210e+02,\n",
       "        1.030e+02, 7.300e+01, 5.700e+01, 5.700e+01, 3.400e+01, 3.800e+01,\n",
       "        3.300e+01, 1.500e+01, 2.100e+01, 1.500e+01, 8.000e+00, 6.000e+00,\n",
       "        5.000e+00, 1.000e+00, 3.000e+00, 2.000e+00, 0.000e+00, 0.000e+00,\n",
       "        2.000e+00]),\n",
       " array([1.4801    , 1.50683307, 1.53356614, 1.56029921, 1.58703228,\n",
       "        1.61376535, 1.64049843, 1.6672315 , 1.69396457, 1.72069764,\n",
       "        1.74743071, 1.77416378, 1.80089685, 1.82762992, 1.85436299,\n",
       "        1.88109606, 1.90782913, 1.9345622 , 1.96129528, 1.98802835,\n",
       "        2.01476142, 2.04149449, 2.06822756, 2.09496063, 2.1216937 ,\n",
       "        2.14842677, 2.17515984, 2.20189291, 2.22862598, 2.25535906,\n",
       "        2.28209213, 2.3088252 , 2.33555827, 2.36229134, 2.38902441,\n",
       "        2.41575748, 2.44249055, 2.46922362, 2.49595669, 2.52268976,\n",
       "        2.54942283, 2.57615591, 2.60288898, 2.62962205, 2.65635512,\n",
       "        2.68308819, 2.70982126, 2.73655433, 2.7632874 , 2.79002047,\n",
       "        2.81675354, 2.84348661, 2.87021969, 2.89695276, 2.92368583,\n",
       "        2.9504189 , 2.97715197, 3.00388504, 3.03061811, 3.05735118,\n",
       "        3.08408425, 3.11081732, 3.13755039, 3.16428346, 3.19101654,\n",
       "        3.21774961, 3.24448268, 3.27121575, 3.29794882, 3.32468189,\n",
       "        3.35141496, 3.37814803, 3.4048811 , 3.43161417, 3.45834724,\n",
       "        3.48508031, 3.51181339, 3.53854646, 3.56527953, 3.5920126 ,\n",
       "        3.61874567, 3.64547874, 3.67221181, 3.69894488, 3.72567795,\n",
       "        3.75241102, 3.77914409, 3.80587717, 3.83261024, 3.85934331,\n",
       "        3.88607638, 3.91280945, 3.93954252, 3.96627559, 3.99300866,\n",
       "        4.01974173, 4.0464748 , 4.07320787, 4.09994094, 4.12667402,\n",
       "        4.15340709, 4.18014016, 4.20687323, 4.2336063 , 4.26033937,\n",
       "        4.28707244, 4.31380551, 4.34053858, 4.36727165, 4.39400472,\n",
       "        4.4207378 , 4.44747087, 4.47420394, 4.50093701, 4.52767008,\n",
       "        4.55440315, 4.58113622, 4.60786929, 4.63460236, 4.66133543,\n",
       "        4.6880685 , 4.71480157, 4.74153465, 4.76826772, 4.79500079,\n",
       "        4.82173386, 4.84846693, 4.8752    ]),\n",
       " <a list of 127 Patch objects>)"
      ]
     },
     "execution_count": 59,
     "metadata": {},
     "output_type": "execute_result"
    },
    {
     "data": {
      "image/png": "[encoded data removed]",
      "text/plain": [
       "<Figure size 432x288 with 1 Axes>"
      ]
     },
     "metadata": {
      "needs_background": "light"
     },
     "output_type": "display_data"
    }
   ],
   "source": [
    "%matplotlib inline \n",
    "plt.hist(training_data['var_23'],bins='auto')"
   ]
  },
  {
   "cell_type": "code",
   "execution_count": 32,
   "metadata": {},
   "outputs": [
    {
     "data": {
      "text/plain": [
       "(array([1.200e+01, 1.500e+01, 2.300e+01, 2.000e+01, 2.600e+01, 2.800e+01,\n",
       "        4.000e+01, 7.200e+01, 7.000e+01, 1.150e+02, 1.350e+02, 1.430e+02,\n",
       "        2.230e+02, 2.250e+02, 2.810e+02, 3.550e+02, 4.100e+02, 4.670e+02,\n",
       "        5.470e+02, 5.940e+02, 7.040e+02, 8.880e+02, 8.490e+02, 1.074e+03,\n",
       "        1.158e+03, 1.283e+03, 1.357e+03, 1.425e+03, 1.576e+03, 1.609e+03,\n",
       "        1.821e+03, 1.900e+03, 1.934e+03, 2.176e+03, 2.245e+03, 2.301e+03,\n",
       "        2.406e+03, 2.614e+03, 2.672e+03, 2.732e+03, 2.794e+03, 2.884e+03,\n",
       "        2.820e+03, 3.003e+03, 2.991e+03, 3.179e+03, 3.066e+03, 3.048e+03,\n",
       "        3.000e+03, 3.111e+03, 3.077e+03, 3.224e+03, 3.104e+03, 3.199e+03,\n",
       "        3.266e+03, 3.258e+03, 3.256e+03, 3.267e+03, 3.276e+03, 3.280e+03,\n",
       "        3.401e+03, 3.348e+03, 3.371e+03, 3.415e+03, 3.517e+03, 3.463e+03,\n",
       "        3.645e+03, 3.494e+03, 3.540e+03, 3.508e+03, 3.460e+03, 3.328e+03,\n",
       "        3.318e+03, 3.252e+03, 3.242e+03, 3.126e+03, 2.980e+03, 2.800e+03,\n",
       "        2.730e+03, 2.470e+03, 2.356e+03, 2.336e+03, 2.253e+03, 2.087e+03,\n",
       "        1.981e+03, 1.881e+03, 1.715e+03, 1.465e+03, 1.291e+03, 9.720e+02,\n",
       "        8.540e+02, 5.960e+02, 5.030e+02, 4.010e+02, 3.170e+02, 2.130e+02,\n",
       "        1.700e+02, 1.430e+02, 1.340e+02, 8.300e+01, 8.000e+01, 3.800e+01,\n",
       "        4.100e+01, 3.800e+01, 1.700e+01, 1.200e+01, 1.000e+01, 7.000e+00,\n",
       "        2.000e+00, 3.000e+00, 6.000e+00, 1.000e+00, 3.000e+00, 1.000e+00]),\n",
       " array([0.        , 0.00877193, 0.01754386, 0.02631579, 0.03508772,\n",
       "        0.04385965, 0.05263158, 0.06140351, 0.07017544, 0.07894737,\n",
       "        0.0877193 , 0.09649123, 0.10526316, 0.11403509, 0.12280702,\n",
       "        0.13157895, 0.14035088, 0.14912281, 0.15789474, 0.16666667,\n",
       "        0.1754386 , 0.18421053, 0.19298246, 0.20175439, 0.21052632,\n",
       "        0.21929825, 0.22807018, 0.23684211, 0.24561404, 0.25438596,\n",
       "        0.26315789, 0.27192982, 0.28070175, 0.28947368, 0.29824561,\n",
       "        0.30701754, 0.31578947, 0.3245614 , 0.33333333, 0.34210526,\n",
       "        0.35087719, 0.35964912, 0.36842105, 0.37719298, 0.38596491,\n",
       "        0.39473684, 0.40350877, 0.4122807 , 0.42105263, 0.42982456,\n",
       "        0.43859649, 0.44736842, 0.45614035, 0.46491228, 0.47368421,\n",
       "        0.48245614, 0.49122807, 0.5       , 0.50877193, 0.51754386,\n",
       "        0.52631579, 0.53508772, 0.54385965, 0.55263158, 0.56140351,\n",
       "        0.57017544, 0.57894737, 0.5877193 , 0.59649123, 0.60526316,\n",
       "        0.61403509, 0.62280702, 0.63157895, 0.64035088, 0.64912281,\n",
       "        0.65789474, 0.66666667, 0.6754386 , 0.68421053, 0.69298246,\n",
       "        0.70175439, 0.71052632, 0.71929825, 0.72807018, 0.73684211,\n",
       "        0.74561404, 0.75438596, 0.76315789, 0.77192982, 0.78070175,\n",
       "        0.78947368, 0.79824561, 0.80701754, 0.81578947, 0.8245614 ,\n",
       "        0.83333333, 0.84210526, 0.85087719, 0.85964912, 0.86842105,\n",
       "        0.87719298, 0.88596491, 0.89473684, 0.90350877, 0.9122807 ,\n",
       "        0.92105263, 0.92982456, 0.93859649, 0.94736842, 0.95614035,\n",
       "        0.96491228, 0.97368421, 0.98245614, 0.99122807, 1.        ]),\n",
       " <a list of 114 Patch objects>)"
      ]
     },
     "execution_count": 32,
     "metadata": {},
     "output_type": "execute_result"
    },
    {
     "data": {
      "image/png": "[encoded data removed]",
      "text/plain": [
       "<Figure size 432x288 with 1 Axes>"
      ]
     },
     "metadata": {
      "needs_background": "light"
     },
     "output_type": "display_data"
    }
   ],
   "source": [
    "%matplotlib inline \n",
    "plt.hist(training_data['var_199'],bins='auto')"
   ]
  },
  {
   "cell_type": "code",
   "execution_count": 15,
   "metadata": {},
   "outputs": [
    {
     "name": "stdout",
     "output_type": "stream",
     "text": [
      "var_0\n",
      "var_1\n",
      "var_2\n",
      "var_3\n",
      "var_4\n",
      "var_5\n",
      "var_6\n",
      "var_7\n",
      "var_8\n",
      "var_9\n",
      "var_11\n",
      "var_12\n",
      "var_13\n",
      "var_14\n",
      "var_15\n",
      "var_16\n",
      "var_17\n",
      "var_18\n",
      "var_19\n",
      "var_20\n",
      "var_21\n",
      "var_22\n",
      "var_23\n",
      "var_24\n",
      "var_25\n",
      "var_26\n",
      "var_27\n",
      "var_28\n",
      "var_29\n",
      "var_30\n",
      "var_31\n",
      "var_32\n",
      "var_33\n",
      "var_34\n",
      "var_35\n",
      "var_36\n",
      "var_37\n",
      "var_38\n",
      "var_39\n",
      "var_40\n",
      "var_41\n",
      "var_42\n",
      "var_43\n",
      "var_44\n",
      "var_45\n",
      "var_46\n",
      "var_47\n",
      "var_48\n",
      "var_49\n",
      "var_50\n",
      "var_51\n",
      "var_52\n",
      "var_53\n",
      "var_54\n",
      "var_55\n",
      "var_56\n",
      "var_57\n",
      "var_58\n",
      "var_59\n",
      "var_60\n",
      "var_61\n",
      "var_62\n",
      "var_63\n",
      "var_64\n",
      "var_65\n",
      "var_66\n",
      "var_67\n",
      "var_68\n",
      "var_69\n",
      "var_70\n",
      "var_71\n",
      "var_72\n",
      "var_73\n",
      "var_74\n",
      "var_75\n",
      "var_76\n",
      "var_77\n",
      "var_78\n",
      "var_79\n",
      "var_80\n",
      "var_81\n",
      "var_82\n",
      "var_83\n",
      "var_84\n",
      "var_85\n",
      "var_86\n",
      "var_87\n",
      "var_88\n",
      "var_89\n",
      "var_90\n",
      "var_91\n",
      "var_92\n",
      "var_92\n",
      "var_93\n",
      "var_94\n",
      "var_95\n",
      "var_96\n",
      "var_97\n",
      "var_98\n",
      "var_99\n",
      "var_100\n",
      "var_101\n",
      "var_102\n",
      "var_103\n",
      "var_104\n",
      "var_105\n",
      "var_106\n",
      "var_107\n",
      "var_108\n",
      "var_109\n",
      "var_110\n",
      "var_111\n",
      "var_112\n",
      "var_113\n",
      "var_114\n",
      "var_115\n",
      "var_116\n",
      "var_117\n",
      "var_118\n",
      "var_119\n",
      "var_120\n",
      "var_121\n",
      "var_122\n",
      "var_123\n",
      "var_124\n",
      "var_125\n",
      "var_126\n",
      "var_127\n",
      "var_128\n",
      "var_129\n",
      "var_130\n",
      "var_131\n",
      "var_132\n",
      "var_133\n",
      "var_134\n",
      "var_135\n",
      "var_136\n",
      "var_137\n",
      "var_138\n",
      "var_139\n",
      "var_140\n",
      "var_141\n",
      "var_142\n",
      "var_143\n",
      "var_144\n",
      "var_145\n",
      "var_146\n",
      "var_147\n",
      "var_148\n",
      "var_149\n",
      "var_150\n",
      "var_151\n",
      "var_152\n",
      "var_153\n",
      "var_154\n",
      "var_155\n",
      "var_156\n",
      "var_157\n",
      "var_158\n",
      "var_159\n",
      "var_160\n",
      "var_161\n",
      "var_162\n",
      "var_163\n",
      "var_164\n",
      "var_165\n",
      "var_166\n",
      "var_167\n",
      "var_168\n",
      "var_169\n",
      "var_170\n",
      "var_171\n",
      "var_172\n",
      "var_173\n",
      "var_174\n",
      "var_175\n",
      "var_176\n",
      "var_177\n",
      "var_178\n",
      "var_179\n",
      "var_180\n",
      "var_181\n",
      "var_182\n",
      "var_183\n",
      "var_184\n",
      "var_185\n",
      "var_186\n",
      "var_187\n",
      "var_188\n",
      "var_189\n",
      "var_190\n",
      "var_191\n",
      "var_192\n",
      "var_193\n",
      "var_194\n",
      "var_195\n",
      "var_196\n",
      "var_197\n",
      "var_198\n",
      "var_199\n"
     ]
    }
   ],
   "source": [
    "#apply normalization in training data\n",
    "for i in cnames:\n",
    "    print(i)\n",
    "    training_data[i] = (training_data[i] - min(training_data[i]))/(max(training_data[i]) - min(training_data[i]))"
   ]
  },
  {
   "cell_type": "code",
   "execution_count": 31,
   "metadata": {},
   "outputs": [
    {
     "name": "stdout",
     "output_type": "stream",
     "text": [
      "var_0\n",
      "var_1\n",
      "var_2\n",
      "var_3\n",
      "var_4\n",
      "var_5\n",
      "var_6\n",
      "var_7\n",
      "var_8\n",
      "var_9\n",
      "var_11\n",
      "var_12\n",
      "var_13\n",
      "var_14\n",
      "var_15\n",
      "var_16\n",
      "var_17\n",
      "var_18\n",
      "var_19\n",
      "var_20\n",
      "var_21\n",
      "var_22\n",
      "var_23\n",
      "var_24\n",
      "var_25\n",
      "var_26\n",
      "var_27\n",
      "var_28\n",
      "var_29\n",
      "var_30\n",
      "var_31\n",
      "var_32\n",
      "var_33\n",
      "var_34\n",
      "var_35\n",
      "var_36\n",
      "var_37\n",
      "var_38\n",
      "var_39\n",
      "var_40\n",
      "var_41\n",
      "var_42\n",
      "var_43\n",
      "var_44\n",
      "var_45\n",
      "var_46\n",
      "var_47\n",
      "var_48\n",
      "var_49\n",
      "var_50\n",
      "var_51\n",
      "var_52\n",
      "var_53\n",
      "var_54\n",
      "var_55\n",
      "var_56\n",
      "var_57\n",
      "var_58\n",
      "var_59\n",
      "var_60\n",
      "var_61\n",
      "var_62\n",
      "var_63\n",
      "var_64\n",
      "var_65\n",
      "var_66\n",
      "var_67\n",
      "var_68\n",
      "var_69\n",
      "var_70\n",
      "var_71\n",
      "var_72\n",
      "var_73\n",
      "var_74\n",
      "var_75\n",
      "var_76\n",
      "var_77\n",
      "var_78\n",
      "var_79\n",
      "var_80\n",
      "var_81\n",
      "var_82\n",
      "var_83\n",
      "var_84\n",
      "var_85\n",
      "var_86\n",
      "var_87\n",
      "var_88\n",
      "var_89\n",
      "var_90\n",
      "var_91\n",
      "var_92\n",
      "var_92\n",
      "var_93\n",
      "var_94\n",
      "var_95\n",
      "var_96\n",
      "var_97\n",
      "var_98\n",
      "var_99\n",
      "var_100\n",
      "var_101\n",
      "var_102\n",
      "var_103\n",
      "var_104\n",
      "var_105\n",
      "var_106\n",
      "var_107\n",
      "var_108\n",
      "var_109\n",
      "var_110\n",
      "var_111\n",
      "var_112\n",
      "var_113\n",
      "var_114\n",
      "var_115\n",
      "var_116\n",
      "var_117\n",
      "var_118\n",
      "var_119\n",
      "var_120\n",
      "var_121\n",
      "var_122\n",
      "var_123\n",
      "var_124\n",
      "var_125\n",
      "var_126\n",
      "var_127\n",
      "var_128\n",
      "var_129\n",
      "var_130\n",
      "var_131\n",
      "var_132\n",
      "var_133\n",
      "var_134\n",
      "var_135\n",
      "var_136\n",
      "var_137\n",
      "var_138\n",
      "var_139\n",
      "var_140\n",
      "var_141\n",
      "var_142\n",
      "var_143\n",
      "var_144\n",
      "var_145\n",
      "var_146\n",
      "var_147\n",
      "var_148\n",
      "var_149\n",
      "var_150\n",
      "var_151\n",
      "var_152\n",
      "var_153\n",
      "var_154\n",
      "var_155\n",
      "var_156\n",
      "var_157\n",
      "var_158\n",
      "var_159\n",
      "var_160\n",
      "var_161\n",
      "var_162\n",
      "var_163\n",
      "var_164\n",
      "var_165\n",
      "var_166\n",
      "var_167\n",
      "var_168\n",
      "var_169\n",
      "var_170\n",
      "var_171\n",
      "var_172\n",
      "var_173\n",
      "var_174\n",
      "var_175\n",
      "var_176\n",
      "var_177\n",
      "var_178\n",
      "var_179\n",
      "var_180\n",
      "var_181\n",
      "var_182\n",
      "var_183\n",
      "var_184\n",
      "var_185\n",
      "var_186\n",
      "var_187\n",
      "var_188\n",
      "var_189\n",
      "var_190\n",
      "var_191\n",
      "var_192\n",
      "var_193\n",
      "var_194\n",
      "var_195\n",
      "var_196\n",
      "var_197\n",
      "var_198\n",
      "var_199\n"
     ]
    }
   ],
   "source": [
    "#apply normalization on test data\n",
    "for i in cnames:\n",
    "    print(i)\n",
    "    test_data[i] = (test_data[i] - min(test_data[i]))/(max(test_data[i]) - min(test_data[i]))\n"
   ]
  },
  {
   "cell_type": "code",
   "execution_count": 45,
   "metadata": {},
   "outputs": [],
   "source": [
    "#now apply different machine learning algorithms to check which is perform better and selelct the best model\n"
   ]
  },
  {
   "cell_type": "code",
   "execution_count": 16,
   "metadata": {},
   "outputs": [],
   "source": [
    "#Replace target categries with yes or no \n",
    "training_data['target']=training_data['target'].replace(0,'No')\n",
    "training_data['target']=training_data['target'].replace(1,'Yes')"
   ]
  },
  {
   "cell_type": "code",
   "execution_count": 17,
   "metadata": {},
   "outputs": [],
   "source": [
    "#Divide data into train and test\n",
    "X = training_data.values[:, 2:203]\n",
    "Y = training_data.values[:,1]\n",
    "\n",
    "X_train, X_test, y_train, y_test = train_test_split( X, Y, test_size = 0.2)"
   ]
  },
  {
   "cell_type": "code",
   "execution_count": 31,
   "metadata": {},
   "outputs": [],
   "source": [
    "#1::Decision Tree\n",
    "clf = tree.DecisionTreeClassifier(criterion='entropy').fit(X_train, y_train)"
   ]
  },
  {
   "cell_type": "code",
   "execution_count": 32,
   "metadata": {},
   "outputs": [],
   "source": [
    "#predict new test cases\n",
    "Y_predict = clf.predict(X_test)"
   ]
  },
  {
   "cell_type": "code",
   "execution_count": 33,
   "metadata": {},
   "outputs": [
    {
     "data": {
      "text/plain": [
       "array(['No', 'No', 'No', ..., 'No', 'No', 'No'], dtype=object)"
      ]
     },
     "execution_count": 33,
     "metadata": {},
     "output_type": "execute_result"
    }
   ],
   "source": [
    "Y_predict"
   ]
  },
  {
   "cell_type": "code",
   "execution_count": 34,
   "metadata": {},
   "outputs": [],
   "source": [
    "#Error matrix for classification \n",
    "CM=confusion_matrix(y_test,Y_predict)"
   ]
  },
  {
   "cell_type": "code",
   "execution_count": 35,
   "metadata": {},
   "outputs": [],
   "source": [
    "CM=pd.crosstab(y_test,Y_predict)"
   ]
  },
  {
   "cell_type": "code",
   "execution_count": 36,
   "metadata": {},
   "outputs": [
    {
     "data": {
      "text/html": [
       "<div>\n",
       "<style scoped>\n",
       "    .dataframe tbody tr th:only-of-type {\n",
       "        vertical-align: middle;\n",
       "    }\n",
       "\n",
       "    .dataframe tbody tr th {\n",
       "        vertical-align: top;\n",
       "    }\n",
       "\n",
       "    .dataframe thead th {\n",
       "        text-align: right;\n",
       "    }\n",
       "</style>\n",
       "<table border=\"1\" class=\"dataframe\">\n",
       "  <thead>\n",
       "    <tr style=\"text-align: right;\">\n",
       "      <th>col_0</th>\n",
       "      <th>No</th>\n",
       "      <th>Yes</th>\n",
       "    </tr>\n",
       "    <tr>\n",
       "      <th>row_0</th>\n",
       "      <th></th>\n",
       "      <th></th>\n",
       "    </tr>\n",
       "  </thead>\n",
       "  <tbody>\n",
       "    <tr>\n",
       "      <th>No</th>\n",
       "      <td>30783</td>\n",
       "      <td>3107</td>\n",
       "    </tr>\n",
       "    <tr>\n",
       "      <th>Yes</th>\n",
       "      <td>3016</td>\n",
       "      <td>704</td>\n",
       "    </tr>\n",
       "  </tbody>\n",
       "</table>\n",
       "</div>"
      ],
      "text/plain": [
       "col_0     No   Yes\n",
       "row_0             \n",
       "No     30783  3107\n",
       "Yes     3016   704"
      ]
     },
     "execution_count": 36,
     "metadata": {},
     "output_type": "execute_result"
    }
   ],
   "source": [
    "CM"
   ]
  },
  {
   "cell_type": "code",
   "execution_count": 39,
   "metadata": {},
   "outputs": [],
   "source": [
    "#let us save TP,TN,FP,FN\n",
    "TN=CM.iloc[0,0]\n",
    "FN=CM.iloc[1,0]\n",
    "TP=CM.iloc[1,1]\n",
    "FP=CM.iloc[0,1]"
   ]
  },
  {
   "cell_type": "code",
   "execution_count": 37,
   "metadata": {},
   "outputs": [
    {
     "data": {
      "text/plain": [
       "83.71975538420632"
      ]
     },
     "execution_count": 37,
     "metadata": {},
     "output_type": "execute_result"
    }
   ],
   "source": [
    "#check accuracy of model\n",
    "accuracy_score(y_test,Y_predict)*100"
   ]
  },
  {
   "cell_type": "code",
   "execution_count": 40,
   "metadata": {},
   "outputs": [
    {
     "data": {
      "text/plain": [
       "83.71975538420632"
      ]
     },
     "execution_count": 40,
     "metadata": {},
     "output_type": "execute_result"
    }
   ],
   "source": [
    "#Accuracy\n",
    "((TP+TN)*100)/(TP+TN+FP+FN)"
   ]
  },
  {
   "cell_type": "code",
   "execution_count": 41,
   "metadata": {},
   "outputs": [
    {
     "data": {
      "text/plain": [
       "81.0752688172043"
      ]
     },
     "execution_count": 41,
     "metadata": {},
     "output_type": "execute_result"
    }
   ],
   "source": [
    "#False Negative Rate\n",
    "(FN*100)/(FN+TP)"
   ]
  },
  {
   "cell_type": "code",
   "execution_count": 42,
   "metadata": {},
   "outputs": [
    {
     "data": {
      "text/plain": [
       "18.9247311827957"
      ]
     },
     "execution_count": 42,
     "metadata": {},
     "output_type": "execute_result"
    }
   ],
   "source": [
    "#Recall\n",
    "(TP*100)/(TP+FN)"
   ]
  },
  {
   "cell_type": "code",
   "execution_count": null,
   "metadata": {},
   "outputs": [],
   "source": [
    "#lets make a note for DT\n",
    "#Accuracy=83.71\n",
    "#FNR=81.07\n",
    "#Recall=18.92"
   ]
  },
  {
   "cell_type": "code",
   "execution_count": 43,
   "metadata": {},
   "outputs": [],
   "source": [
    "#::2:: Random Forest(Classsifier)\n",
    "RF_model=RandomForestClassifier(n_estimators=100).fit(X_train,y_train)"
   ]
  },
  {
   "cell_type": "code",
   "execution_count": 44,
   "metadata": {},
   "outputs": [],
   "source": [
    "#predict some test casses \n",
    "RF_predictions=RF_model.predict(X_test)"
   ]
  },
  {
   "cell_type": "code",
   "execution_count": 45,
   "metadata": {},
   "outputs": [],
   "source": [
    "CM=confusion_matrix(y_test,RF_predictions)"
   ]
  },
  {
   "cell_type": "code",
   "execution_count": 46,
   "metadata": {},
   "outputs": [],
   "source": [
    "CM=pd.crosstab(y_test,RF_predictions)"
   ]
  },
  {
   "cell_type": "code",
   "execution_count": 47,
   "metadata": {},
   "outputs": [
    {
     "data": {
      "text/html": [
       "<div>\n",
       "<style scoped>\n",
       "    .dataframe tbody tr th:only-of-type {\n",
       "        vertical-align: middle;\n",
       "    }\n",
       "\n",
       "    .dataframe tbody tr th {\n",
       "        vertical-align: top;\n",
       "    }\n",
       "\n",
       "    .dataframe thead th {\n",
       "        text-align: right;\n",
       "    }\n",
       "</style>\n",
       "<table border=\"1\" class=\"dataframe\">\n",
       "  <thead>\n",
       "    <tr style=\"text-align: right;\">\n",
       "      <th>col_0</th>\n",
       "      <th>No</th>\n",
       "    </tr>\n",
       "    <tr>\n",
       "      <th>row_0</th>\n",
       "      <th></th>\n",
       "    </tr>\n",
       "  </thead>\n",
       "  <tbody>\n",
       "    <tr>\n",
       "      <th>No</th>\n",
       "      <td>33890</td>\n",
       "    </tr>\n",
       "    <tr>\n",
       "      <th>Yes</th>\n",
       "      <td>3720</td>\n",
       "    </tr>\n",
       "  </tbody>\n",
       "</table>\n",
       "</div>"
      ],
      "text/plain": [
       "col_0     No\n",
       "row_0       \n",
       "No     33890\n",
       "Yes     3720"
      ]
     },
     "execution_count": 47,
     "metadata": {},
     "output_type": "execute_result"
    }
   ],
   "source": [
    "CM"
   ]
  },
  {
   "cell_type": "code",
   "execution_count": 48,
   "metadata": {},
   "outputs": [],
   "source": [
    "#let us save TP,TN,FP,FN\n",
    "TN=CM.iloc[0,0]\n",
    "FN=CM.iloc[1,0]\n",
    "\n",
    "\n",
    "\n"
   ]
  },
  {
   "cell_type": "code",
   "execution_count": 51,
   "metadata": {},
   "outputs": [
    {
     "data": {
      "text/plain": [
       "90.10901356022335"
      ]
     },
     "execution_count": 51,
     "metadata": {},
     "output_type": "execute_result"
    }
   ],
   "source": [
    "#check accuracy of model\n",
    "accuracy_score(y_test,RF_predictions)*100"
   ]
  },
  {
   "cell_type": "code",
   "execution_count": 52,
   "metadata": {},
   "outputs": [
    {
     "data": {
      "text/plain": [
       "83.51802225924048"
      ]
     },
     "execution_count": 52,
     "metadata": {},
     "output_type": "execute_result"
    }
   ],
   "source": [
    "#Accuracy\n",
    "((TP+TN)*100)/(TP+TN+FP+FN)"
   ]
  },
  {
   "cell_type": "code",
   "execution_count": 53,
   "metadata": {},
   "outputs": [
    {
     "data": {
      "text/plain": [
       "84.08679927667269"
      ]
     },
     "execution_count": 53,
     "metadata": {},
     "output_type": "execute_result"
    }
   ],
   "source": [
    "#False Negative Rate\n",
    "(FN*100)/(FN+TP)"
   ]
  },
  {
   "cell_type": "code",
   "execution_count": 54,
   "metadata": {},
   "outputs": [
    {
     "data": {
      "text/plain": [
       "15.913200723327305"
      ]
     },
     "execution_count": 54,
     "metadata": {},
     "output_type": "execute_result"
    }
   ],
   "source": [
    "#Recall\n",
    "(TP*100)/(TP+FN)"
   ]
  },
  {
   "cell_type": "code",
   "execution_count": null,
   "metadata": {},
   "outputs": [],
   "source": [
    "#lets make a note for RF\n",
    "#Accuracy=90.10\n",
    "#FNR=83.51\n",
    "#Recall=15.91"
   ]
  },
  {
   "cell_type": "code",
   "execution_count": 55,
   "metadata": {},
   "outputs": [],
   "source": [
    "#::3::KNN implementation \n",
    "KNN_model=KNeighborsClassifier(n_neighbors=5).fit(X_train,y_train)\n"
   ]
  },
  {
   "cell_type": "code",
   "execution_count": 56,
   "metadata": {},
   "outputs": [],
   "source": [
    "#predict test casses\n",
    "KNN_predictions=KNN_model.predict(X_test)"
   ]
  },
  {
   "cell_type": "code",
   "execution_count": 57,
   "metadata": {},
   "outputs": [
    {
     "data": {
      "text/plain": [
       "array(['No', 'No', 'No', ..., 'No', 'No', 'No'], dtype=object)"
      ]
     },
     "execution_count": 57,
     "metadata": {},
     "output_type": "execute_result"
    }
   ],
   "source": [
    "KNN_predictions"
   ]
  },
  {
   "cell_type": "code",
   "execution_count": 58,
   "metadata": {},
   "outputs": [],
   "source": [
    "CM=confusion_matrix(y_test,KNN_predictions)"
   ]
  },
  {
   "cell_type": "code",
   "execution_count": 59,
   "metadata": {},
   "outputs": [],
   "source": [
    "CM=pd.crosstab(y_test,KNN_predictions)"
   ]
  },
  {
   "cell_type": "code",
   "execution_count": 60,
   "metadata": {},
   "outputs": [
    {
     "data": {
      "text/html": [
       "<div>\n",
       "<style scoped>\n",
       "    .dataframe tbody tr th:only-of-type {\n",
       "        vertical-align: middle;\n",
       "    }\n",
       "\n",
       "    .dataframe tbody tr th {\n",
       "        vertical-align: top;\n",
       "    }\n",
       "\n",
       "    .dataframe thead th {\n",
       "        text-align: right;\n",
       "    }\n",
       "</style>\n",
       "<table border=\"1\" class=\"dataframe\">\n",
       "  <thead>\n",
       "    <tr style=\"text-align: right;\">\n",
       "      <th>col_0</th>\n",
       "      <th>No</th>\n",
       "      <th>Yes</th>\n",
       "    </tr>\n",
       "    <tr>\n",
       "      <th>row_0</th>\n",
       "      <th></th>\n",
       "      <th></th>\n",
       "    </tr>\n",
       "  </thead>\n",
       "  <tbody>\n",
       "    <tr>\n",
       "      <th>No</th>\n",
       "      <td>33883</td>\n",
       "      <td>7</td>\n",
       "    </tr>\n",
       "    <tr>\n",
       "      <th>Yes</th>\n",
       "      <td>3715</td>\n",
       "      <td>5</td>\n",
       "    </tr>\n",
       "  </tbody>\n",
       "</table>\n",
       "</div>"
      ],
      "text/plain": [
       "col_0     No  Yes\n",
       "row_0            \n",
       "No     33883    7\n",
       "Yes     3715    5"
      ]
     },
     "execution_count": 60,
     "metadata": {},
     "output_type": "execute_result"
    }
   ],
   "source": [
    "CM"
   ]
  },
  {
   "cell_type": "code",
   "execution_count": 61,
   "metadata": {},
   "outputs": [],
   "source": [
    "#let us save TP,TN,FP,FN\n",
    "TN=CM.iloc[0,0]\n",
    "FN=CM.iloc[1,0]\n",
    "TP=CM.iloc[1,1]\n",
    "FP=CM.iloc[0,1]\n"
   ]
  },
  {
   "cell_type": "code",
   "execution_count": 62,
   "metadata": {},
   "outputs": [
    {
     "data": {
      "text/plain": [
       "90.1036958255783"
      ]
     },
     "execution_count": 62,
     "metadata": {},
     "output_type": "execute_result"
    }
   ],
   "source": [
    "#check accuracy of model\n",
    "accuracy_score(y_test,KNN_predictions)*100"
   ]
  },
  {
   "cell_type": "code",
   "execution_count": 63,
   "metadata": {},
   "outputs": [
    {
     "data": {
      "text/plain": [
       "90.1036958255783"
      ]
     },
     "execution_count": 63,
     "metadata": {},
     "output_type": "execute_result"
    }
   ],
   "source": [
    "#Accuracy\n",
    "((TP+TN)*100)/(TP+TN+FP+FN)"
   ]
  },
  {
   "cell_type": "code",
   "execution_count": 64,
   "metadata": {},
   "outputs": [
    {
     "data": {
      "text/plain": [
       "99.86559139784946"
      ]
     },
     "execution_count": 64,
     "metadata": {},
     "output_type": "execute_result"
    }
   ],
   "source": [
    "#False Negative Rate\n",
    "(FN*100)/(FN+TP)"
   ]
  },
  {
   "cell_type": "code",
   "execution_count": 65,
   "metadata": {},
   "outputs": [
    {
     "data": {
      "text/plain": [
       "0.13440860215053763"
      ]
     },
     "execution_count": 65,
     "metadata": {},
     "output_type": "execute_result"
    }
   ],
   "source": [
    "#Recall\n",
    "(TP*100)/(TP+FN)"
   ]
  },
  {
   "cell_type": "code",
   "execution_count": null,
   "metadata": {},
   "outputs": [],
   "source": [
    "#lets make a note for KNN\n",
    "#Accuracy=90.10\n",
    "#FNR=99.86\n",
    "#Recall=0.13"
   ]
  },
  {
   "cell_type": "code",
   "execution_count": null,
   "metadata": {},
   "outputs": [],
   "source": [
    "#Naive Bays"
   ]
  },
  {
   "cell_type": "code",
   "execution_count": 18,
   "metadata": {},
   "outputs": [],
   "source": [
    "Naive_bays_model=GaussianNB().fit(X_train,y_train)"
   ]
  },
  {
   "cell_type": "code",
   "execution_count": 19,
   "metadata": {},
   "outputs": [],
   "source": [
    "#Predict test casess\n",
    "NB_predictions=Naive_bays_model.predict(X_test)"
   ]
  },
  {
   "cell_type": "code",
   "execution_count": 20,
   "metadata": {},
   "outputs": [
    {
     "data": {
      "text/plain": [
       "array(['No', 'No', 'No', ..., 'No', 'No', 'No'], dtype='<U3')"
      ]
     },
     "execution_count": 20,
     "metadata": {},
     "output_type": "execute_result"
    }
   ],
   "source": [
    "NB_predictions"
   ]
  },
  {
   "cell_type": "code",
   "execution_count": 21,
   "metadata": {},
   "outputs": [],
   "source": [
    "CM=confusion_matrix(y_test,NB_predictions)"
   ]
  },
  {
   "cell_type": "code",
   "execution_count": 22,
   "metadata": {},
   "outputs": [],
   "source": [
    "CM=pd.crosstab(y_test,NB_predictions)"
   ]
  },
  {
   "cell_type": "code",
   "execution_count": 23,
   "metadata": {},
   "outputs": [
    {
     "data": {
      "text/html": [
       "<div>\n",
       "<style scoped>\n",
       "    .dataframe tbody tr th:only-of-type {\n",
       "        vertical-align: middle;\n",
       "    }\n",
       "\n",
       "    .dataframe tbody tr th {\n",
       "        vertical-align: top;\n",
       "    }\n",
       "\n",
       "    .dataframe thead th {\n",
       "        text-align: right;\n",
       "    }\n",
       "</style>\n",
       "<table border=\"1\" class=\"dataframe\">\n",
       "  <thead>\n",
       "    <tr style=\"text-align: right;\">\n",
       "      <th>col_0</th>\n",
       "      <th>No</th>\n",
       "      <th>Yes</th>\n",
       "    </tr>\n",
       "    <tr>\n",
       "      <th>row_0</th>\n",
       "      <th></th>\n",
       "      <th></th>\n",
       "    </tr>\n",
       "  </thead>\n",
       "  <tbody>\n",
       "    <tr>\n",
       "      <th>No</th>\n",
       "      <td>33313</td>\n",
       "      <td>567</td>\n",
       "    </tr>\n",
       "    <tr>\n",
       "      <th>Yes</th>\n",
       "      <td>2416</td>\n",
       "      <td>1314</td>\n",
       "    </tr>\n",
       "  </tbody>\n",
       "</table>\n",
       "</div>"
      ],
      "text/plain": [
       "col_0     No   Yes\n",
       "row_0             \n",
       "No     33313   567\n",
       "Yes     2416  1314"
      ]
     },
     "execution_count": 23,
     "metadata": {},
     "output_type": "execute_result"
    }
   ],
   "source": [
    "CM"
   ]
  },
  {
   "cell_type": "code",
   "execution_count": 24,
   "metadata": {},
   "outputs": [],
   "source": [
    "#let us save TP,TN,FP,FN\n",
    "TN=CM.iloc[0,0]\n",
    "FN=CM.iloc[1,0]\n",
    "TP=CM.iloc[1,1]\n",
    "FP=CM.iloc[0,1]"
   ]
  },
  {
   "cell_type": "code",
   "execution_count": 25,
   "metadata": {},
   "outputs": [
    {
     "data": {
      "text/plain": [
       "92.06859877692104"
      ]
     },
     "execution_count": 25,
     "metadata": {},
     "output_type": "execute_result"
    }
   ],
   "source": [
    "#check accuracy of model\n",
    "accuracy_score(y_test,NB_predictions)*100"
   ]
  },
  {
   "cell_type": "code",
   "execution_count": 26,
   "metadata": {},
   "outputs": [
    {
     "data": {
      "text/plain": [
       "92.06859877692104"
      ]
     },
     "execution_count": 26,
     "metadata": {},
     "output_type": "execute_result"
    }
   ],
   "source": [
    "#Accuracy\n",
    "((TP+TN)*100)/(TP+TN+FP+FN)"
   ]
  },
  {
   "cell_type": "code",
   "execution_count": 27,
   "metadata": {},
   "outputs": [
    {
     "data": {
      "text/plain": [
       "64.77211796246648"
      ]
     },
     "execution_count": 27,
     "metadata": {},
     "output_type": "execute_result"
    }
   ],
   "source": [
    "#False Negative Rate\n",
    "(FN*100)/(FN+TP)"
   ]
  },
  {
   "cell_type": "code",
   "execution_count": 28,
   "metadata": {},
   "outputs": [
    {
     "data": {
      "text/plain": [
       "35.22788203753351"
      ]
     },
     "execution_count": 28,
     "metadata": {},
     "output_type": "execute_result"
    }
   ],
   "source": [
    "#Recall\n",
    "(TP*100)/(TP+FN)"
   ]
  },
  {
   "cell_type": "code",
   "execution_count": null,
   "metadata": {},
   "outputs": [],
   "source": [
    "#lets make a note for Naive Bays\n",
    "#Accuracy=92.06\n",
    "#FNR=64.77\n",
    "#Recall=35.27"
   ]
  },
  {
   "cell_type": "code",
   "execution_count": null,
   "metadata": {},
   "outputs": [],
   "source": [
    "#Naive Bayes have the maximum accuracy and lowest false negative rate amoung the above Machine Learning Algorithm so we will use Naive Bayes to predict our data"
   ]
  },
  {
   "cell_type": "code",
   "execution_count": 32,
   "metadata": {},
   "outputs": [],
   "source": [
    "testing_data=test_data.values[:, 1:202]\n"
   ]
  },
  {
   "cell_type": "code",
   "execution_count": 34,
   "metadata": {},
   "outputs": [],
   "source": [
    "Predictions=Naive_bays_model.predict(testing_data)"
   ]
  },
  {
   "cell_type": "code",
   "execution_count": 35,
   "metadata": {},
   "outputs": [
    {
     "data": {
      "text/plain": [
       "array(['No', 'No', 'No', ..., 'No', 'No', 'No'], dtype='<U3')"
      ]
     },
     "execution_count": 35,
     "metadata": {},
     "output_type": "execute_result"
    }
   ],
   "source": [
    "Predictions"
   ]
  },
  {
   "cell_type": "code",
   "execution_count": 40,
   "metadata": {},
   "outputs": [],
   "source": [
    "new_series = pd.Series(Predictions)"
   ]
  },
  {
   "cell_type": "code",
   "execution_count": 41,
   "metadata": {},
   "outputs": [
    {
     "data": {
      "text/plain": [
       "count     200000\n",
       "unique         2\n",
       "top           No\n",
       "freq      189567\n",
       "dtype: object"
      ]
     },
     "execution_count": 41,
     "metadata": {},
     "output_type": "execute_result"
    }
   ],
   "source": [
    "new_series.describe()"
   ]
  },
  {
   "cell_type": "code",
   "execution_count": null,
   "metadata": {},
   "outputs": [],
   "source": [
    "new_series.to_csv(\"cust_predictions.csv\",index=True)"
   ]
  },
  {
   "cell_type": "code",
   "execution_count": 54,
   "metadata": {},
   "outputs": [],
   "source": [
    "cust_predictions=pd.read_csv(\"cust_predictions.csv\",sep=',')"
   ]
  },
  {
   "cell_type": "code",
   "execution_count": 55,
   "metadata": {},
   "outputs": [
    {
     "data": {
      "text/html": [
       "<div>\n",
       "<style scoped>\n",
       "    .dataframe tbody tr th:only-of-type {\n",
       "        vertical-align: middle;\n",
       "    }\n",
       "\n",
       "    .dataframe tbody tr th {\n",
       "        vertical-align: top;\n",
       "    }\n",
       "\n",
       "    .dataframe thead th {\n",
       "        text-align: right;\n",
       "    }\n",
       "</style>\n",
       "<table border=\"1\" class=\"dataframe\">\n",
       "  <thead>\n",
       "    <tr style=\"text-align: right;\">\n",
       "      <th></th>\n",
       "      <th>0</th>\n",
       "      <th>No</th>\n",
       "    </tr>\n",
       "  </thead>\n",
       "  <tbody>\n",
       "    <tr>\n",
       "      <th>0</th>\n",
       "      <td>1</td>\n",
       "      <td>No</td>\n",
       "    </tr>\n",
       "    <tr>\n",
       "      <th>1</th>\n",
       "      <td>2</td>\n",
       "      <td>No</td>\n",
       "    </tr>\n",
       "    <tr>\n",
       "      <th>2</th>\n",
       "      <td>3</td>\n",
       "      <td>No</td>\n",
       "    </tr>\n",
       "    <tr>\n",
       "      <th>3</th>\n",
       "      <td>4</td>\n",
       "      <td>No</td>\n",
       "    </tr>\n",
       "    <tr>\n",
       "      <th>4</th>\n",
       "      <td>5</td>\n",
       "      <td>No</td>\n",
       "    </tr>\n",
       "    <tr>\n",
       "      <th>5</th>\n",
       "      <td>6</td>\n",
       "      <td>No</td>\n",
       "    </tr>\n",
       "    <tr>\n",
       "      <th>6</th>\n",
       "      <td>7</td>\n",
       "      <td>No</td>\n",
       "    </tr>\n",
       "    <tr>\n",
       "      <th>7</th>\n",
       "      <td>8</td>\n",
       "      <td>No</td>\n",
       "    </tr>\n",
       "    <tr>\n",
       "      <th>8</th>\n",
       "      <td>9</td>\n",
       "      <td>No</td>\n",
       "    </tr>\n",
       "    <tr>\n",
       "      <th>9</th>\n",
       "      <td>10</td>\n",
       "      <td>No</td>\n",
       "    </tr>\n",
       "    <tr>\n",
       "      <th>10</th>\n",
       "      <td>11</td>\n",
       "      <td>No</td>\n",
       "    </tr>\n",
       "    <tr>\n",
       "      <th>11</th>\n",
       "      <td>12</td>\n",
       "      <td>No</td>\n",
       "    </tr>\n",
       "    <tr>\n",
       "      <th>12</th>\n",
       "      <td>13</td>\n",
       "      <td>No</td>\n",
       "    </tr>\n",
       "    <tr>\n",
       "      <th>13</th>\n",
       "      <td>14</td>\n",
       "      <td>No</td>\n",
       "    </tr>\n",
       "    <tr>\n",
       "      <th>14</th>\n",
       "      <td>15</td>\n",
       "      <td>No</td>\n",
       "    </tr>\n",
       "    <tr>\n",
       "      <th>15</th>\n",
       "      <td>16</td>\n",
       "      <td>No</td>\n",
       "    </tr>\n",
       "    <tr>\n",
       "      <th>16</th>\n",
       "      <td>17</td>\n",
       "      <td>No</td>\n",
       "    </tr>\n",
       "    <tr>\n",
       "      <th>17</th>\n",
       "      <td>18</td>\n",
       "      <td>No</td>\n",
       "    </tr>\n",
       "    <tr>\n",
       "      <th>18</th>\n",
       "      <td>19</td>\n",
       "      <td>No</td>\n",
       "    </tr>\n",
       "    <tr>\n",
       "      <th>19</th>\n",
       "      <td>20</td>\n",
       "      <td>No</td>\n",
       "    </tr>\n",
       "    <tr>\n",
       "      <th>20</th>\n",
       "      <td>21</td>\n",
       "      <td>No</td>\n",
       "    </tr>\n",
       "    <tr>\n",
       "      <th>21</th>\n",
       "      <td>22</td>\n",
       "      <td>No</td>\n",
       "    </tr>\n",
       "    <tr>\n",
       "      <th>22</th>\n",
       "      <td>23</td>\n",
       "      <td>No</td>\n",
       "    </tr>\n",
       "    <tr>\n",
       "      <th>23</th>\n",
       "      <td>24</td>\n",
       "      <td>No</td>\n",
       "    </tr>\n",
       "    <tr>\n",
       "      <th>24</th>\n",
       "      <td>25</td>\n",
       "      <td>No</td>\n",
       "    </tr>\n",
       "    <tr>\n",
       "      <th>25</th>\n",
       "      <td>26</td>\n",
       "      <td>No</td>\n",
       "    </tr>\n",
       "    <tr>\n",
       "      <th>26</th>\n",
       "      <td>27</td>\n",
       "      <td>No</td>\n",
       "    </tr>\n",
       "    <tr>\n",
       "      <th>27</th>\n",
       "      <td>28</td>\n",
       "      <td>No</td>\n",
       "    </tr>\n",
       "    <tr>\n",
       "      <th>28</th>\n",
       "      <td>29</td>\n",
       "      <td>No</td>\n",
       "    </tr>\n",
       "    <tr>\n",
       "      <th>29</th>\n",
       "      <td>30</td>\n",
       "      <td>No</td>\n",
       "    </tr>\n",
       "    <tr>\n",
       "      <th>...</th>\n",
       "      <td>...</td>\n",
       "      <td>...</td>\n",
       "    </tr>\n",
       "    <tr>\n",
       "      <th>199969</th>\n",
       "      <td>199970</td>\n",
       "      <td>No</td>\n",
       "    </tr>\n",
       "    <tr>\n",
       "      <th>199970</th>\n",
       "      <td>199971</td>\n",
       "      <td>No</td>\n",
       "    </tr>\n",
       "    <tr>\n",
       "      <th>199971</th>\n",
       "      <td>199972</td>\n",
       "      <td>No</td>\n",
       "    </tr>\n",
       "    <tr>\n",
       "      <th>199972</th>\n",
       "      <td>199973</td>\n",
       "      <td>No</td>\n",
       "    </tr>\n",
       "    <tr>\n",
       "      <th>199973</th>\n",
       "      <td>199974</td>\n",
       "      <td>No</td>\n",
       "    </tr>\n",
       "    <tr>\n",
       "      <th>199974</th>\n",
       "      <td>199975</td>\n",
       "      <td>No</td>\n",
       "    </tr>\n",
       "    <tr>\n",
       "      <th>199975</th>\n",
       "      <td>199976</td>\n",
       "      <td>No</td>\n",
       "    </tr>\n",
       "    <tr>\n",
       "      <th>199976</th>\n",
       "      <td>199977</td>\n",
       "      <td>No</td>\n",
       "    </tr>\n",
       "    <tr>\n",
       "      <th>199977</th>\n",
       "      <td>199978</td>\n",
       "      <td>No</td>\n",
       "    </tr>\n",
       "    <tr>\n",
       "      <th>199978</th>\n",
       "      <td>199979</td>\n",
       "      <td>No</td>\n",
       "    </tr>\n",
       "    <tr>\n",
       "      <th>199979</th>\n",
       "      <td>199980</td>\n",
       "      <td>No</td>\n",
       "    </tr>\n",
       "    <tr>\n",
       "      <th>199980</th>\n",
       "      <td>199981</td>\n",
       "      <td>No</td>\n",
       "    </tr>\n",
       "    <tr>\n",
       "      <th>199981</th>\n",
       "      <td>199982</td>\n",
       "      <td>No</td>\n",
       "    </tr>\n",
       "    <tr>\n",
       "      <th>199982</th>\n",
       "      <td>199983</td>\n",
       "      <td>No</td>\n",
       "    </tr>\n",
       "    <tr>\n",
       "      <th>199983</th>\n",
       "      <td>199984</td>\n",
       "      <td>No</td>\n",
       "    </tr>\n",
       "    <tr>\n",
       "      <th>199984</th>\n",
       "      <td>199985</td>\n",
       "      <td>No</td>\n",
       "    </tr>\n",
       "    <tr>\n",
       "      <th>199985</th>\n",
       "      <td>199986</td>\n",
       "      <td>No</td>\n",
       "    </tr>\n",
       "    <tr>\n",
       "      <th>199986</th>\n",
       "      <td>199987</td>\n",
       "      <td>No</td>\n",
       "    </tr>\n",
       "    <tr>\n",
       "      <th>199987</th>\n",
       "      <td>199988</td>\n",
       "      <td>No</td>\n",
       "    </tr>\n",
       "    <tr>\n",
       "      <th>199988</th>\n",
       "      <td>199989</td>\n",
       "      <td>No</td>\n",
       "    </tr>\n",
       "    <tr>\n",
       "      <th>199989</th>\n",
       "      <td>199990</td>\n",
       "      <td>No</td>\n",
       "    </tr>\n",
       "    <tr>\n",
       "      <th>199990</th>\n",
       "      <td>199991</td>\n",
       "      <td>No</td>\n",
       "    </tr>\n",
       "    <tr>\n",
       "      <th>199991</th>\n",
       "      <td>199992</td>\n",
       "      <td>No</td>\n",
       "    </tr>\n",
       "    <tr>\n",
       "      <th>199992</th>\n",
       "      <td>199993</td>\n",
       "      <td>No</td>\n",
       "    </tr>\n",
       "    <tr>\n",
       "      <th>199993</th>\n",
       "      <td>199994</td>\n",
       "      <td>No</td>\n",
       "    </tr>\n",
       "    <tr>\n",
       "      <th>199994</th>\n",
       "      <td>199995</td>\n",
       "      <td>No</td>\n",
       "    </tr>\n",
       "    <tr>\n",
       "      <th>199995</th>\n",
       "      <td>199996</td>\n",
       "      <td>No</td>\n",
       "    </tr>\n",
       "    <tr>\n",
       "      <th>199996</th>\n",
       "      <td>199997</td>\n",
       "      <td>No</td>\n",
       "    </tr>\n",
       "    <tr>\n",
       "      <th>199997</th>\n",
       "      <td>199998</td>\n",
       "      <td>No</td>\n",
       "    </tr>\n",
       "    <tr>\n",
       "      <th>199998</th>\n",
       "      <td>199999</td>\n",
       "      <td>No</td>\n",
       "    </tr>\n",
       "  </tbody>\n",
       "</table>\n",
       "<p>199999 rows × 2 columns</p>\n",
       "</div>"
      ],
      "text/plain": [
       "             0  No\n",
       "0            1  No\n",
       "1            2  No\n",
       "2            3  No\n",
       "3            4  No\n",
       "4            5  No\n",
       "5            6  No\n",
       "6            7  No\n",
       "7            8  No\n",
       "8            9  No\n",
       "9           10  No\n",
       "10          11  No\n",
       "11          12  No\n",
       "12          13  No\n",
       "13          14  No\n",
       "14          15  No\n",
       "15          16  No\n",
       "16          17  No\n",
       "17          18  No\n",
       "18          19  No\n",
       "19          20  No\n",
       "20          21  No\n",
       "21          22  No\n",
       "22          23  No\n",
       "23          24  No\n",
       "24          25  No\n",
       "25          26  No\n",
       "26          27  No\n",
       "27          28  No\n",
       "28          29  No\n",
       "29          30  No\n",
       "...        ...  ..\n",
       "199969  199970  No\n",
       "199970  199971  No\n",
       "199971  199972  No\n",
       "199972  199973  No\n",
       "199973  199974  No\n",
       "199974  199975  No\n",
       "199975  199976  No\n",
       "199976  199977  No\n",
       "199977  199978  No\n",
       "199978  199979  No\n",
       "199979  199980  No\n",
       "199980  199981  No\n",
       "199981  199982  No\n",
       "199982  199983  No\n",
       "199983  199984  No\n",
       "199984  199985  No\n",
       "199985  199986  No\n",
       "199986  199987  No\n",
       "199987  199988  No\n",
       "199988  199989  No\n",
       "199989  199990  No\n",
       "199990  199991  No\n",
       "199991  199992  No\n",
       "199992  199993  No\n",
       "199993  199994  No\n",
       "199994  199995  No\n",
       "199995  199996  No\n",
       "199996  199997  No\n",
       "199997  199998  No\n",
       "199998  199999  No\n",
       "\n",
       "[199999 rows x 2 columns]"
      ]
     },
     "execution_count": 55,
     "metadata": {},
     "output_type": "execute_result"
    }
   ],
   "source": [
    "cust_predictions"
   ]
  },
  {
   "cell_type": "code",
   "execution_count": 65,
   "metadata": {},
   "outputs": [],
   "source": [
    "cust_predictions=cust_predictions.rename(columns={'0':'Index Number','No':'predictions'})"
   ]
  },
  {
   "cell_type": "code",
   "execution_count": 66,
   "metadata": {},
   "outputs": [
    {
     "data": {
      "text/html": [
       "<div>\n",
       "<style scoped>\n",
       "    .dataframe tbody tr th:only-of-type {\n",
       "        vertical-align: middle;\n",
       "    }\n",
       "\n",
       "    .dataframe tbody tr th {\n",
       "        vertical-align: top;\n",
       "    }\n",
       "\n",
       "    .dataframe thead th {\n",
       "        text-align: right;\n",
       "    }\n",
       "</style>\n",
       "<table border=\"1\" class=\"dataframe\">\n",
       "  <thead>\n",
       "    <tr style=\"text-align: right;\">\n",
       "      <th></th>\n",
       "      <th>Index Number</th>\n",
       "      <th>predictions</th>\n",
       "    </tr>\n",
       "  </thead>\n",
       "  <tbody>\n",
       "    <tr>\n",
       "      <th>0</th>\n",
       "      <td>1</td>\n",
       "      <td>No</td>\n",
       "    </tr>\n",
       "    <tr>\n",
       "      <th>1</th>\n",
       "      <td>2</td>\n",
       "      <td>No</td>\n",
       "    </tr>\n",
       "    <tr>\n",
       "      <th>2</th>\n",
       "      <td>3</td>\n",
       "      <td>No</td>\n",
       "    </tr>\n",
       "    <tr>\n",
       "      <th>3</th>\n",
       "      <td>4</td>\n",
       "      <td>No</td>\n",
       "    </tr>\n",
       "    <tr>\n",
       "      <th>4</th>\n",
       "      <td>5</td>\n",
       "      <td>No</td>\n",
       "    </tr>\n",
       "    <tr>\n",
       "      <th>5</th>\n",
       "      <td>6</td>\n",
       "      <td>No</td>\n",
       "    </tr>\n",
       "    <tr>\n",
       "      <th>6</th>\n",
       "      <td>7</td>\n",
       "      <td>No</td>\n",
       "    </tr>\n",
       "    <tr>\n",
       "      <th>7</th>\n",
       "      <td>8</td>\n",
       "      <td>No</td>\n",
       "    </tr>\n",
       "    <tr>\n",
       "      <th>8</th>\n",
       "      <td>9</td>\n",
       "      <td>No</td>\n",
       "    </tr>\n",
       "    <tr>\n",
       "      <th>9</th>\n",
       "      <td>10</td>\n",
       "      <td>No</td>\n",
       "    </tr>\n",
       "    <tr>\n",
       "      <th>10</th>\n",
       "      <td>11</td>\n",
       "      <td>No</td>\n",
       "    </tr>\n",
       "    <tr>\n",
       "      <th>11</th>\n",
       "      <td>12</td>\n",
       "      <td>No</td>\n",
       "    </tr>\n",
       "    <tr>\n",
       "      <th>12</th>\n",
       "      <td>13</td>\n",
       "      <td>No</td>\n",
       "    </tr>\n",
       "    <tr>\n",
       "      <th>13</th>\n",
       "      <td>14</td>\n",
       "      <td>No</td>\n",
       "    </tr>\n",
       "    <tr>\n",
       "      <th>14</th>\n",
       "      <td>15</td>\n",
       "      <td>No</td>\n",
       "    </tr>\n",
       "    <tr>\n",
       "      <th>15</th>\n",
       "      <td>16</td>\n",
       "      <td>No</td>\n",
       "    </tr>\n",
       "    <tr>\n",
       "      <th>16</th>\n",
       "      <td>17</td>\n",
       "      <td>No</td>\n",
       "    </tr>\n",
       "    <tr>\n",
       "      <th>17</th>\n",
       "      <td>18</td>\n",
       "      <td>No</td>\n",
       "    </tr>\n",
       "    <tr>\n",
       "      <th>18</th>\n",
       "      <td>19</td>\n",
       "      <td>No</td>\n",
       "    </tr>\n",
       "    <tr>\n",
       "      <th>19</th>\n",
       "      <td>20</td>\n",
       "      <td>No</td>\n",
       "    </tr>\n",
       "    <tr>\n",
       "      <th>20</th>\n",
       "      <td>21</td>\n",
       "      <td>No</td>\n",
       "    </tr>\n",
       "    <tr>\n",
       "      <th>21</th>\n",
       "      <td>22</td>\n",
       "      <td>No</td>\n",
       "    </tr>\n",
       "    <tr>\n",
       "      <th>22</th>\n",
       "      <td>23</td>\n",
       "      <td>No</td>\n",
       "    </tr>\n",
       "    <tr>\n",
       "      <th>23</th>\n",
       "      <td>24</td>\n",
       "      <td>No</td>\n",
       "    </tr>\n",
       "    <tr>\n",
       "      <th>24</th>\n",
       "      <td>25</td>\n",
       "      <td>No</td>\n",
       "    </tr>\n",
       "    <tr>\n",
       "      <th>25</th>\n",
       "      <td>26</td>\n",
       "      <td>No</td>\n",
       "    </tr>\n",
       "    <tr>\n",
       "      <th>26</th>\n",
       "      <td>27</td>\n",
       "      <td>No</td>\n",
       "    </tr>\n",
       "    <tr>\n",
       "      <th>27</th>\n",
       "      <td>28</td>\n",
       "      <td>No</td>\n",
       "    </tr>\n",
       "    <tr>\n",
       "      <th>28</th>\n",
       "      <td>29</td>\n",
       "      <td>No</td>\n",
       "    </tr>\n",
       "    <tr>\n",
       "      <th>29</th>\n",
       "      <td>30</td>\n",
       "      <td>No</td>\n",
       "    </tr>\n",
       "    <tr>\n",
       "      <th>...</th>\n",
       "      <td>...</td>\n",
       "      <td>...</td>\n",
       "    </tr>\n",
       "    <tr>\n",
       "      <th>199969</th>\n",
       "      <td>199970</td>\n",
       "      <td>No</td>\n",
       "    </tr>\n",
       "    <tr>\n",
       "      <th>199970</th>\n",
       "      <td>199971</td>\n",
       "      <td>No</td>\n",
       "    </tr>\n",
       "    <tr>\n",
       "      <th>199971</th>\n",
       "      <td>199972</td>\n",
       "      <td>No</td>\n",
       "    </tr>\n",
       "    <tr>\n",
       "      <th>199972</th>\n",
       "      <td>199973</td>\n",
       "      <td>No</td>\n",
       "    </tr>\n",
       "    <tr>\n",
       "      <th>199973</th>\n",
       "      <td>199974</td>\n",
       "      <td>No</td>\n",
       "    </tr>\n",
       "    <tr>\n",
       "      <th>199974</th>\n",
       "      <td>199975</td>\n",
       "      <td>No</td>\n",
       "    </tr>\n",
       "    <tr>\n",
       "      <th>199975</th>\n",
       "      <td>199976</td>\n",
       "      <td>No</td>\n",
       "    </tr>\n",
       "    <tr>\n",
       "      <th>199976</th>\n",
       "      <td>199977</td>\n",
       "      <td>No</td>\n",
       "    </tr>\n",
       "    <tr>\n",
       "      <th>199977</th>\n",
       "      <td>199978</td>\n",
       "      <td>No</td>\n",
       "    </tr>\n",
       "    <tr>\n",
       "      <th>199978</th>\n",
       "      <td>199979</td>\n",
       "      <td>No</td>\n",
       "    </tr>\n",
       "    <tr>\n",
       "      <th>199979</th>\n",
       "      <td>199980</td>\n",
       "      <td>No</td>\n",
       "    </tr>\n",
       "    <tr>\n",
       "      <th>199980</th>\n",
       "      <td>199981</td>\n",
       "      <td>No</td>\n",
       "    </tr>\n",
       "    <tr>\n",
       "      <th>199981</th>\n",
       "      <td>199982</td>\n",
       "      <td>No</td>\n",
       "    </tr>\n",
       "    <tr>\n",
       "      <th>199982</th>\n",
       "      <td>199983</td>\n",
       "      <td>No</td>\n",
       "    </tr>\n",
       "    <tr>\n",
       "      <th>199983</th>\n",
       "      <td>199984</td>\n",
       "      <td>No</td>\n",
       "    </tr>\n",
       "    <tr>\n",
       "      <th>199984</th>\n",
       "      <td>199985</td>\n",
       "      <td>No</td>\n",
       "    </tr>\n",
       "    <tr>\n",
       "      <th>199985</th>\n",
       "      <td>199986</td>\n",
       "      <td>No</td>\n",
       "    </tr>\n",
       "    <tr>\n",
       "      <th>199986</th>\n",
       "      <td>199987</td>\n",
       "      <td>No</td>\n",
       "    </tr>\n",
       "    <tr>\n",
       "      <th>199987</th>\n",
       "      <td>199988</td>\n",
       "      <td>No</td>\n",
       "    </tr>\n",
       "    <tr>\n",
       "      <th>199988</th>\n",
       "      <td>199989</td>\n",
       "      <td>No</td>\n",
       "    </tr>\n",
       "    <tr>\n",
       "      <th>199989</th>\n",
       "      <td>199990</td>\n",
       "      <td>No</td>\n",
       "    </tr>\n",
       "    <tr>\n",
       "      <th>199990</th>\n",
       "      <td>199991</td>\n",
       "      <td>No</td>\n",
       "    </tr>\n",
       "    <tr>\n",
       "      <th>199991</th>\n",
       "      <td>199992</td>\n",
       "      <td>No</td>\n",
       "    </tr>\n",
       "    <tr>\n",
       "      <th>199992</th>\n",
       "      <td>199993</td>\n",
       "      <td>No</td>\n",
       "    </tr>\n",
       "    <tr>\n",
       "      <th>199993</th>\n",
       "      <td>199994</td>\n",
       "      <td>No</td>\n",
       "    </tr>\n",
       "    <tr>\n",
       "      <th>199994</th>\n",
       "      <td>199995</td>\n",
       "      <td>No</td>\n",
       "    </tr>\n",
       "    <tr>\n",
       "      <th>199995</th>\n",
       "      <td>199996</td>\n",
       "      <td>No</td>\n",
       "    </tr>\n",
       "    <tr>\n",
       "      <th>199996</th>\n",
       "      <td>199997</td>\n",
       "      <td>No</td>\n",
       "    </tr>\n",
       "    <tr>\n",
       "      <th>199997</th>\n",
       "      <td>199998</td>\n",
       "      <td>No</td>\n",
       "    </tr>\n",
       "    <tr>\n",
       "      <th>199998</th>\n",
       "      <td>199999</td>\n",
       "      <td>No</td>\n",
       "    </tr>\n",
       "  </tbody>\n",
       "</table>\n",
       "<p>199999 rows × 2 columns</p>\n",
       "</div>"
      ],
      "text/plain": [
       "        Index Number predictions\n",
       "0                  1          No\n",
       "1                  2          No\n",
       "2                  3          No\n",
       "3                  4          No\n",
       "4                  5          No\n",
       "5                  6          No\n",
       "6                  7          No\n",
       "7                  8          No\n",
       "8                  9          No\n",
       "9                 10          No\n",
       "10                11          No\n",
       "11                12          No\n",
       "12                13          No\n",
       "13                14          No\n",
       "14                15          No\n",
       "15                16          No\n",
       "16                17          No\n",
       "17                18          No\n",
       "18                19          No\n",
       "19                20          No\n",
       "20                21          No\n",
       "21                22          No\n",
       "22                23          No\n",
       "23                24          No\n",
       "24                25          No\n",
       "25                26          No\n",
       "26                27          No\n",
       "27                28          No\n",
       "28                29          No\n",
       "29                30          No\n",
       "...              ...         ...\n",
       "199969        199970          No\n",
       "199970        199971          No\n",
       "199971        199972          No\n",
       "199972        199973          No\n",
       "199973        199974          No\n",
       "199974        199975          No\n",
       "199975        199976          No\n",
       "199976        199977          No\n",
       "199977        199978          No\n",
       "199978        199979          No\n",
       "199979        199980          No\n",
       "199980        199981          No\n",
       "199981        199982          No\n",
       "199982        199983          No\n",
       "199983        199984          No\n",
       "199984        199985          No\n",
       "199985        199986          No\n",
       "199986        199987          No\n",
       "199987        199988          No\n",
       "199988        199989          No\n",
       "199989        199990          No\n",
       "199990        199991          No\n",
       "199991        199992          No\n",
       "199992        199993          No\n",
       "199993        199994          No\n",
       "199994        199995          No\n",
       "199995        199996          No\n",
       "199996        199997          No\n",
       "199997        199998          No\n",
       "199998        199999          No\n",
       "\n",
       "[199999 rows x 2 columns]"
      ]
     },
     "execution_count": 66,
     "metadata": {},
     "output_type": "execute_result"
    }
   ],
   "source": [
    "cust_predictions"
   ]
  },
  {
   "cell_type": "code",
   "execution_count": null,
   "metadata": {},
   "outputs": [],
   "source": []
  },
  {
   "cell_type": "code",
   "execution_count": null,
   "metadata": {},
   "outputs": [],
   "source": []
  },
  {
   "cell_type": "code",
   "execution_count": 67,
   "metadata": {},
   "outputs": [
    {
     "name": "stdout",
     "output_type": "stream",
     "text": [
      "\f",
      "\n"
     ]
    }
   ],
   "source": []
  },
  {
   "cell_type": "code",
   "execution_count": null,
   "metadata": {},
   "outputs": [],
   "source": []
  }
 ],
 "metadata": {
  "kernelspec": {
   "display_name": "Python 3",
   "language": "python",
   "name": "python3"
  },
  "language_info": {
   "codemirror_mode": {
    "name": "ipython",
    "version": 3
   },
   "file_extension": ".py",
   "mimetype": "text/x-python",
   "name": "python",
   "nbconvert_exporter": "python",
   "pygments_lexer": "ipython3",
   "version": "3.7.3"
  }
 },
 "nbformat": 4,
 "nbformat_minor": 2
}
